{
  "cells": [
    {
      "cell_type": "markdown",
      "metadata": {
        "nbgrader": {
          "grade": false,
          "grade_id": "intro",
          "locked": true,
          "schema_version": 1,
          "solution": false
        },
        "id": "uIy36gCdHTtM"
      },
      "source": [
        "# Week 6 Exercises\n",
        "\n",
        "_McKinney 6.1_\n",
        "\n",
        "There are multiple ways to solve the problems below.  You can use any one of several approaches.  For example, you can read CSV files using Pandas or the csv module.  Your score won't depend on which modules you choose to use unless explicitly noted below, but your programming style will still matter."
      ]
    },
    {
      "cell_type": "markdown",
      "metadata": {
        "nbgrader": {
          "grade": false,
          "grade_id": "q1-description",
          "locked": true,
          "schema_version": 1,
          "solution": false
        },
        "id": "dim_aJe_HTtW"
      },
      "source": [
        "### 30.1 List of Allergies\n",
        "\n",
        "In this GitHub repository, there is a file called `allergies.json` that contains a list of patient allergies.  You will need to download this [file from here](https://raw.githubusercontent.com/paulboal/hds5210-2023/main/week06/allergies.json) and then upload it into Google Colab to run these examples. It is taken from sample data provided by the EHR vendor, Epic, here: https://open.epic.com/Clinical/Allergy\n",
        "\n",
        "Take some time to look at the structure of the file.  You can open it directly in Jupyter by clicking the _Home_ icon, then the _from_instructor_ folder, and then the _data_ folder.\n",
        "\n",
        "Within the file, you'll see that it is a dictionary with many items in it.  One of those items is called `entry` and that item is a list of things.  You can tell that because the item name is immediately followed by an opening square bracket, signifying the start of a list.  It's line 11 of the file: `  \"entry\": [`\n",
        "\n",
        "Write a function named `allergy_count(json_file)` that takes as one parameter the name of the JSON file and returns an integer number of entries in that file.  Your function should open the file, read the json into a Python object, and return how many items there are in the list of `entry`s."
      ]
    },
    {
      "cell_type": "code",
      "execution_count": 1,
      "metadata": {
        "id": "r1KdUw-sHTtZ"
      },
      "outputs": [],
      "source": [
        "import json\n",
        "ALLERGIES_FILE= json.load(open(\"allergies.json\"))\n",
        "data = ALLERGIES_FILE"
      ]
    },
    {
      "cell_type": "code",
      "execution_count": 2,
      "metadata": {
        "nbgrader": {
          "grade": false,
          "grade_id": "q1-answer",
          "locked": false,
          "schema_version": 1,
          "solution": true
        },
        "id": "7Zn4jY3eHTtc"
      },
      "outputs": [],
      "source": [
        "def allergy_count(json_file):\n",
        "  \"\"\"\n",
        "  Evaluate the number of entries in a JSON file which contains allergy data.\n",
        "\n",
        "  This function calculates the count of entries, in the JSON data if the 'entry' key is available. In case the 'entry' key is not found it will return a value of 0.\n",
        "\n",
        "  Args:\n",
        "   json_file (str): The name of JSON file that will be analyzed.\n",
        "\n",
        "  Returns:\n",
        "   int: If the 'entry' list is present, in the JSON file it will return the number of entries it contains. Otherwise it will return 0.\n",
        "\n",
        "   \"\"\"\n",
        "  if 'entry' in data:\n",
        "    return len(data['entry'])\n",
        "  else:\n",
        "    return 0\n"
      ]
    },
    {
      "cell_type": "code",
      "execution_count": 3,
      "metadata": {
        "id": "aKM-IWPTHTtd",
        "outputId": "51d853fe-a97b-4278-85cd-3b01a4ff702c",
        "colab": {
          "base_uri": "https://localhost:8080/"
        }
      },
      "outputs": [
        {
          "output_type": "execute_result",
          "data": {
            "text/plain": [
              "4"
            ]
          },
          "metadata": {},
          "execution_count": 3
        }
      ],
      "source": [
        "allergy_count(ALLERGIES_FILE)"
      ]
    },
    {
      "cell_type": "code",
      "execution_count": 4,
      "metadata": {
        "nbgrader": {
          "grade": true,
          "grade_id": "q1-tests",
          "locked": true,
          "points": 5,
          "schema_version": 1,
          "solution": false
        },
        "id": "P6Y97GFJHTte"
      },
      "outputs": [],
      "source": [
        "assert type(allergy_count(ALLERGIES_FILE)) == int\n",
        "assert allergy_count(ALLERGIES_FILE) == 4"
      ]
    },
    {
      "cell_type": "code",
      "source": [
        "type(allergy_count(ALLERGIES_FILE))"
      ],
      "metadata": {
        "id": "FaJPo1HzYo63",
        "outputId": "623833eb-4365-4629-c293-47dbf4cbe72b",
        "colab": {
          "base_uri": "https://localhost:8080/"
        }
      },
      "execution_count": 5,
      "outputs": [
        {
          "output_type": "execute_result",
          "data": {
            "text/plain": [
              "int"
            ]
          },
          "metadata": {},
          "execution_count": 5
        }
      ]
    },
    {
      "cell_type": "code",
      "source": [
        "allergy_count(ALLERGIES_FILE)"
      ],
      "metadata": {
        "id": "zl3r2HyxYuxH",
        "outputId": "d95af132-41f6-492d-f73b-095517ac5a62",
        "colab": {
          "base_uri": "https://localhost:8080/"
        }
      },
      "execution_count": 6,
      "outputs": [
        {
          "output_type": "execute_result",
          "data": {
            "text/plain": [
              "4"
            ]
          },
          "metadata": {},
          "execution_count": 6
        }
      ]
    },
    {
      "cell_type": "markdown",
      "metadata": {
        "id": "X_JcDOZuHTtf"
      },
      "source": [
        "### 30.2 Number of Patients\n",
        "\n",
        "If you dig a little bit deaper into this list of allergies, you'll see that each result has a patient associated with it.  Create a funcation called `patient_count(json_file)` that will count how many unique patients we have in this JSON structure.  "
      ]
    },
    {
      "cell_type": "code",
      "execution_count": 7,
      "metadata": {
        "id": "gVBzjl6eHTth"
      },
      "outputs": [],
      "source": [
        "def patient_count(json_file):\n",
        "    \"\"\"\n",
        "    Estimate the number of distinct patients in a file containing allergy data.\n",
        "\n",
        "    This function runs over the 'entry' list in the JSON data, extracts patient names, and calculates the number of distinct patients. It then returns this count as an integer.\n",
        "\n",
        "    Args:\n",
        "        json_file (str): The name of JSON file that will be analyzed.\n",
        "\n",
        "    Returns:\n",
        "        int: The number of distinct patients in the 'entry' list of the JSON file.\n",
        "    \"\"\"\n",
        "    patients = set()\n",
        "    for entry in data.get('entry', []):\n",
        "        patient = entry.get('resource', {}).get('patient', {}).get('display', \"\")\n",
        "        if patient:\n",
        "            patients.add(patient)\n",
        "    return len(patients)\n"
      ]
    },
    {
      "cell_type": "code",
      "execution_count": 8,
      "metadata": {
        "id": "pgXl5fZGHTti",
        "outputId": "a777eefc-f673-4bf7-f9e1-7b9126173e96",
        "colab": {
          "base_uri": "https://localhost:8080/"
        }
      },
      "outputs": [
        {
          "output_type": "execute_result",
          "data": {
            "text/plain": [
              "2"
            ]
          },
          "metadata": {},
          "execution_count": 8
        }
      ],
      "source": [
        "patient_count(ALLERGIES_FILE)"
      ]
    },
    {
      "cell_type": "code",
      "execution_count": 9,
      "metadata": {
        "id": "k3wWbEbKHTtj"
      },
      "outputs": [],
      "source": [
        "assert type(patient_count(ALLERGIES_FILE)) == int\n",
        "assert patient_count(ALLERGIES_FILE) == 2"
      ]
    },
    {
      "cell_type": "code",
      "source": [
        "type(patient_count(ALLERGIES_FILE))"
      ],
      "metadata": {
        "id": "0jENyaRIfH0U",
        "outputId": "0e4b1546-1763-4713-ace4-ab99ea12082f",
        "colab": {
          "base_uri": "https://localhost:8080/"
        }
      },
      "execution_count": 10,
      "outputs": [
        {
          "output_type": "execute_result",
          "data": {
            "text/plain": [
              "int"
            ]
          },
          "metadata": {},
          "execution_count": 10
        }
      ]
    },
    {
      "cell_type": "code",
      "source": [
        "patient_count(ALLERGIES_FILE)"
      ],
      "metadata": {
        "id": "BWoQe3tkfI-s",
        "outputId": "91bd38c7-d107-496e-d8bc-94ec86aa0aab",
        "colab": {
          "base_uri": "https://localhost:8080/"
        }
      },
      "execution_count": 11,
      "outputs": [
        {
          "output_type": "execute_result",
          "data": {
            "text/plain": [
              "2"
            ]
          },
          "metadata": {},
          "execution_count": 11
        }
      ]
    },
    {
      "cell_type": "markdown",
      "metadata": {
        "id": "xSqqXzWrHTtk"
      },
      "source": [
        "### 30.3 How Many Allergies per Patient\n",
        "\n",
        "Although each entry is a separate allergy, several of them are for the same patient.  Write a function called `allergy_per_patient(json_file)` that counts up how many allergies each patient has.\n"
      ]
    },
    {
      "cell_type": "code",
      "execution_count": 12,
      "metadata": {
        "id": "6XN6aS1iHTtl"
      },
      "outputs": [],
      "source": [
        "\"\"\"\n",
        "    estimate the number of allergies per patient has in JSON file having allergy data.\n",
        "\n",
        "    This function runs through the 'entry' list in the JSON data, retrieves the names of patients and calculates the total number of allergies for each patient. It provides a dictionary with patient names as keys and their corresponding allergy counts as values.\n",
        "\n",
        "    Args:\n",
        "     json_file (str): The name of JSON file that will be analyzed.\n",
        "\n",
        "     Returns:\n",
        "      dict: A dictionary where keys represent patient names, the values indicate the number of allergies each patient has.\n",
        "\"\"\"\n",
        "\n",
        "def allergy_per_patient(json_file):\n",
        "  allergies_per_patient ={}\n",
        "  for entry in data.get('entry', []):\n",
        "    patient = entry.get('resource',{}).get('patient', {}).get('display', '')\n",
        "    if patient:\n",
        "      allergies_per_patient[patient] = allergies_per_patient.get(patient, 0) + 1\n",
        "  return allergies_per_patient"
      ]
    },
    {
      "cell_type": "code",
      "execution_count": 13,
      "metadata": {
        "id": "WiCWJAqpHTtm",
        "outputId": "b1c3c6fe-e384-4b34-b914-0b0eb6dc221e",
        "colab": {
          "base_uri": "https://localhost:8080/"
        }
      },
      "outputs": [
        {
          "output_type": "execute_result",
          "data": {
            "text/plain": [
              "{'Jason Argonaut': 3, 'Paul Boal': 1}"
            ]
          },
          "metadata": {},
          "execution_count": 13
        }
      ],
      "source": [
        "allergy_per_patient(ALLERGIES_FILE)"
      ]
    },
    {
      "cell_type": "code",
      "execution_count": 14,
      "metadata": {
        "id": "qha07dGuHTtm"
      },
      "outputs": [],
      "source": [
        "assert type(allergy_per_patient(ALLERGIES_FILE)) == dict\n",
        "assert allergy_per_patient(ALLERGIES_FILE) == {'Paul Boal': 1, 'Jason Argonaut': 3}"
      ]
    },
    {
      "cell_type": "code",
      "source": [
        "type(allergy_per_patient(ALLERGIES_FILE))"
      ],
      "metadata": {
        "id": "pup_1qMcl7cA",
        "outputId": "08dda504-3ca4-49e8-812c-c54ff71e9a2a",
        "colab": {
          "base_uri": "https://localhost:8080/"
        }
      },
      "execution_count": 15,
      "outputs": [
        {
          "output_type": "execute_result",
          "data": {
            "text/plain": [
              "dict"
            ]
          },
          "metadata": {},
          "execution_count": 15
        }
      ]
    },
    {
      "cell_type": "code",
      "source": [
        "allergy_per_patient(ALLERGIES_FILE)"
      ],
      "metadata": {
        "id": "YRuI_kjrl9aJ",
        "outputId": "deb4a82c-e6f5-43af-d2c8-43914a4fdc2c",
        "colab": {
          "base_uri": "https://localhost:8080/"
        }
      },
      "execution_count": 16,
      "outputs": [
        {
          "output_type": "execute_result",
          "data": {
            "text/plain": [
              "{'Jason Argonaut': 3, 'Paul Boal': 1}"
            ]
          },
          "metadata": {},
          "execution_count": 16
        }
      ]
    },
    {
      "cell_type": "markdown",
      "metadata": {
        "nbgrader": {
          "grade": false,
          "grade_id": "q2-question",
          "locked": true,
          "schema_version": 1,
          "solution": false
        },
        "id": "ZJ1R54DVHTtn"
      },
      "source": [
        "### 30.4 Patient Allergies and Reaction\n",
        "\n",
        "You'll see in the file that each of the items in the `entry` list have several other attributes including a patient name, substance text representation, and a reaction manifestation.  Create a function named `allergy_list(json_file)` that will create an output list that has patient name, allergy, and reaction for each `entry`.  The actual result you should get will be:\n",
        "\n",
        "```python\n",
        "[['Jason Argonaut', 'PENICILLIN G', 'Hives'],\n",
        " ['Paul Boal', 'PENICILLIN G', 'Bruising'],\n",
        " ['Jason Argonaut', 'SHELLFISH-DERIVED PRODUCTS', 'Itching'],\n",
        " ['Jason Argonaut', 'STRAWBERRY', 'Anaphylaxis']]\n",
        "```\n",
        "\n",
        "You'll notice that the reaction and the manifestation of that action are lists.  You only need to capture the first reaction and the first manifestation of the action.  That is, if there is a list of things, just output the first one."
      ]
    },
    {
      "cell_type": "code",
      "execution_count": 17,
      "metadata": {
        "nbgrader": {
          "grade": false,
          "grade_id": "q2-answer",
          "locked": false,
          "schema_version": 1,
          "solution": true
        },
        "id": "OaXRjy7mHTto"
      },
      "outputs": [],
      "source": [
        "\"\"\"\n",
        "\n",
        "    From JSON file extract allergy data and return it as a list of lists\n",
        "\n",
        "    Args:\n",
        "      json_file (str): This file contains allergy data\n",
        "    Returns:\n",
        "      list : collection of lists, where each individual list includes the name of the patient, their allergy and if applicable, any reaction they may have experienced. The format for each entry follows this structure; [patient_name, allergy, reaction].\n",
        "\"\"\"\n",
        "def allergy_list(json_file):\n",
        "  output_list = []\n",
        "  if 'entry' in data:\n",
        "      for entry in data['entry']:\n",
        "          resource = entry.get('resource', {})\n",
        "          patient_name = resource.get(\"patient\", {}).get(\"display\", None)\n",
        "          allergy = resource.get(\"substance\", {}).get(\"text\", None)\n",
        "          reaction = None\n",
        "          reactions = resource.get('reaction',[])\n",
        "          if reactions:\n",
        "              first_reaction = reactions[0].get(\"manifestation\", [])\n",
        "              if first_reaction:\n",
        "                  reaction = first_reaction[0].get(\"text\", None)\n",
        "          output_list.append([patient_name, allergy, reaction])\n",
        "  return output_list"
      ]
    },
    {
      "cell_type": "code",
      "execution_count": 18,
      "metadata": {
        "nbgrader": {
          "grade": true,
          "grade_id": "q2-tests",
          "locked": true,
          "points": 10,
          "schema_version": 1,
          "solution": false
        },
        "id": "nR3IjcgIHTtp"
      },
      "outputs": [],
      "source": [
        "assert allergy_list(ALLERGIES_FILE) == [['Jason Argonaut', 'PENICILLIN G', 'Hives'],\n",
        " ['Jason Argonaut', 'SHELLFISH-DERIVED PRODUCTS', 'Itching'],\n",
        " ['Jason Argonaut', 'STRAWBERRY', 'Anaphylaxis'],\n",
        " ['Paul Boal', 'PENICILLIN G', 'Bruising']]\n"
      ]
    },
    {
      "cell_type": "code",
      "source": [
        "allergy_list(ALLERGIES_FILE)"
      ],
      "metadata": {
        "id": "01MitfkryGM2",
        "outputId": "056ceba1-db67-4b4f-a983-f2cdc04ae78e",
        "colab": {
          "base_uri": "https://localhost:8080/"
        }
      },
      "execution_count": 19,
      "outputs": [
        {
          "output_type": "execute_result",
          "data": {
            "text/plain": [
              "[['Jason Argonaut', 'PENICILLIN G', 'Hives'],\n",
              " ['Jason Argonaut', 'SHELLFISH-DERIVED PRODUCTS', 'Itching'],\n",
              " ['Jason Argonaut', 'STRAWBERRY', 'Anaphylaxis'],\n",
              " ['Paul Boal', 'PENICILLIN G', 'Bruising']]"
            ]
          },
          "metadata": {},
          "execution_count": 19
        }
      ]
    },
    {
      "cell_type": "markdown",
      "metadata": {
        "nbgrader": {
          "grade": false,
          "grade_id": "q3-question",
          "locked": true,
          "schema_version": 1,
          "solution": false
        },
        "id": "viFDKE0IHTtp"
      },
      "source": [
        "### 30.5 Allergy Reaction\n",
        "\n",
        "Write a function called `allergy_reaction(json_file,patient,substance)` that takes three parameter and returns the reaction that will happen if the patient takes the specified substance.  You can solve this, in part, by calling your `allergy_list` function inside your new `allergy_reaction` function.\n",
        "\n",
        "If the substance is not found in the allergy list, the function should return None."
      ]
    },
    {
      "cell_type": "code",
      "execution_count": 20,
      "metadata": {
        "nbgrader": {
          "grade": false,
          "grade_id": "q3-answer",
          "locked": false,
          "schema_version": 1,
          "solution": true
        },
        "id": "QsFN9yNEHTtq"
      },
      "outputs": [],
      "source": [
        "\"\"\"\n",
        "    Understand the potential effects that may occur if the patient consumes the indicated substance.\n",
        "\n",
        "    Args:\n",
        "        json_file (str): This file contains allergy data\n",
        "        patient (str): Patient's name\n",
        "        substance (str): Substances name\n",
        "\n",
        "    Returns:\n",
        "        str or None: If the patient is allergic to the substance, their reaction will be noted. If no allergy is found, it will be stated as None.\n",
        "    \"\"\"\n",
        "def allergy_reaction(json_file, patient, substance):\n",
        "    # Get the allergy list using the allergy_list function\n",
        "    allergy_data = allergy_list(json_file)\n",
        "\n",
        "    # Initialize the reaction to None\n",
        "    reaction = None\n",
        "\n",
        "    # Iterate through the allergy data to find the specified patient and substance\n",
        "    for entry in allergy_data:\n",
        "        entry_patient, entry_substance, entry_reaction = entry\n",
        "\n",
        "        # Check if the current entry matches both the patient and substance\n",
        "        if entry_patient == patient and entry_substance == substance:\n",
        "            reaction = entry_reaction  # Update the reaction if a match is found\n",
        "\n",
        "    # Return the final reaction (can be None if no match is found)\n",
        "    return reaction\n"
      ]
    },
    {
      "cell_type": "code",
      "execution_count": 21,
      "metadata": {
        "nbgrader": {
          "grade": true,
          "grade_id": "q3-tests",
          "locked": true,
          "points": 5,
          "schema_version": 1,
          "solution": false
        },
        "id": "1grWgBCgHTtr"
      },
      "outputs": [],
      "source": [
        "assert allergy_reaction(ALLERGIES_FILE, 'Jason Argonaut', 'PENICILLIN G') == 'Hives'\n",
        "assert allergy_reaction(ALLERGIES_FILE, 'Jason Argonaut', 'SHELLFISH-DERIVED PRODUCTS') == 'Itching'\n",
        "assert allergy_reaction(ALLERGIES_FILE, 'Jason Argonaut', 'STRAWBERRY') == 'Anaphylaxis'\n",
        "assert allergy_reaction(ALLERGIES_FILE, 'Jason Argonaut', 'PENICILLIN') == None\n",
        "assert allergy_reaction(ALLERGIES_FILE, 'Paul Boal', 'PENICILLIN G') == 'Bruising'"
      ]
    },
    {
      "cell_type": "code",
      "source": [
        "allergy_reaction(ALLERGIES_FILE, 'Jason Argonaut', 'PENICILLIN G')"
      ],
      "metadata": {
        "id": "A6q4uH1p00ze",
        "outputId": "3a991677-83fa-4072-bb7b-884698efa08a",
        "colab": {
          "base_uri": "https://localhost:8080/",
          "height": 36
        }
      },
      "execution_count": 22,
      "outputs": [
        {
          "output_type": "execute_result",
          "data": {
            "text/plain": [
              "'Hives'"
            ],
            "application/vnd.google.colaboratory.intrinsic+json": {
              "type": "string"
            }
          },
          "metadata": {},
          "execution_count": 22
        }
      ]
    },
    {
      "cell_type": "markdown",
      "metadata": {
        "id": "lbf3yOehHTtr"
      },
      "source": [
        "---\n",
        "\n",
        "## Check your work above\n",
        "\n",
        "If you didn't get them all correct, take a few minutes to think through those that aren't correct.\n",
        "\n",
        "\n",
        "## Submitting Your Work\n",
        "\n",
        "In order to submit your work, you'll need to save this notebook file back to GitHub.  To do that in Google Colab:\n",
        "1. File -> Save a Copy in GitHub\n",
        "2. Make sure your HDS5210 repository is selected\n",
        "3. Make sure the file name includes the week number like this: `week06/week06_assignment_2.ipynb`\n",
        "4. Add a commit message that means something\n",
        "\n",
        "**Be sure week names are lowercase and use a two digit week number!!**\n",
        "\n",
        "**Be sure you use the same file name provided by the instructor!!**\n",
        "\n"
      ]
    }
  ],
  "metadata": {
    "celltoolbar": "Create Assignment",
    "kernelspec": {
      "display_name": "Python 3",
      "language": "python",
      "name": "python3"
    },
    "language_info": {
      "codemirror_mode": {
        "name": "ipython",
        "version": 3
      },
      "file_extension": ".py",
      "mimetype": "text/x-python",
      "name": "python",
      "nbconvert_exporter": "python",
      "pygments_lexer": "ipython3",
      "version": "3.9.16"
    },
    "colab": {
      "provenance": []
    }
  },
  "nbformat": 4,
  "nbformat_minor": 0
}