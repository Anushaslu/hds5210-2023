{
  "cells": [
    {
      "cell_type": "markdown",
      "metadata": {
        "nbgrader": {
          "grade": false,
          "grade_id": "cell-fc1c39d0d6f8b82a",
          "locked": true,
          "schema_version": 1,
          "solution": false
        },
        "id": "TCk0Xk3gaZ_F"
      },
      "source": [
        "# Week 13 Programming Assignment\n",
        "\n",
        "As you're working on identifying data for your final project, it's helpful to spend some time exploring your various data files.  For this week's assignment, I'd like you to take a few of the ideas from the the lectures, review assignment, and tonight's lecture to start exploring the data you plan to use for the final project.\n",
        "\n",
        "For the following activities, you can use just one of the data files that you've identified, or you can do the activities using different data files.  That's up to you.  Please describe what you're doing in a Markdown cell or in the comments of your code.  When you've completed the assignment, submit it as normal."
      ]
    },
    {
      "cell_type": "markdown",
      "metadata": {
        "id": "XbRS2Sm6aZ_K"
      },
      "source": [
        "### 1. Basic Statistics\n",
        "\n",
        "Use Python to read in your data file and show many rows and columns your data has."
      ]
    },
    {
      "cell_type": "code",
      "execution_count": 14,
      "metadata": {
        "id": "_YpJH-l_aZ_L"
      },
      "outputs": [],
      "source": [
        "import pandas as pd\n",
        "import numpy as np\n",
        "import matplotlib.pyplot as plt\n",
        "import seaborn as sns"
      ]
    },
    {
      "cell_type": "code",
      "source": [
        "PO_data = pd.read_csv('cleaned_data_1.csv')\n",
        "PO_data"
      ],
      "metadata": {
        "id": "I4LfX0PyiaX9",
        "outputId": "2791c9e3-6d77-4fb2-8959-a39720eb8e24",
        "colab": {
          "base_uri": "https://localhost:8080/",
          "height": 770
        }
      },
      "execution_count": 16,
      "outputs": [
        {
          "output_type": "execute_result",
          "data": {
            "text/plain": [
              "          year     state state_po  STATEFIP  state_cen  state_ic  \\\n",
              "0   01-01-1976  MISSOURI       MO        29         43        34   \n",
              "1   01-01-1976  MISSOURI       MO        29         43        34   \n",
              "2   01-01-1976  MISSOURI       MO        29         43        34   \n",
              "3   01-01-1976  MISSOURI       MO        29         43        34   \n",
              "4   01-01-1980  MISSOURI       MO        29         43        34   \n",
              "..         ...       ...      ...       ...        ...       ...   \n",
              "59  01-01-2020  MISSOURI       MO        29         43        34   \n",
              "60  01-01-2020  MISSOURI       MO        29         43        34   \n",
              "61  01-01-2020  MISSOURI       MO        29         43        34   \n",
              "62  01-01-2020  MISSOURI       MO        29         43        34   \n",
              "63  01-01-2020  MISSOURI       MO        29         43        34   \n",
              "\n",
              "          office                  candidate  \\\n",
              "0   US PRESIDENT              Carter, Jimmy   \n",
              "1   US PRESIDENT               Ford, Gerald   \n",
              "2   US PRESIDENT  Mccarthy, Eugene \"\"Gene\"\"   \n",
              "3   US PRESIDENT                      Other   \n",
              "4   US PRESIDENT             Reagan, Ronald   \n",
              "..           ...                        ...   \n",
              "59  US PRESIDENT                    Unknown   \n",
              "60  US PRESIDENT               Wells, Kasey   \n",
              "61  US PRESIDENT              Simmons, Jade   \n",
              "62  US PRESIDENT             Carroll, Brian   \n",
              "63  US PRESIDENT    La Riva, Gloria Estella   \n",
              "\n",
              "                        party_detailed  writein  candidatevotes  totalvotes  \\\n",
              "0                             Democrat    False          998387     1953600   \n",
              "1                           Republican    False          927443     1953600   \n",
              "2                          Independent    False           24029     1953600   \n",
              "3                              Unknown    False            3741     1953600   \n",
              "4                           Republican    False         1074181     2099824   \n",
              "..                                 ...      ...             ...         ...   \n",
              "59                             Unknown     True               0     3025962   \n",
              "60                      Non-Affiliated     True               3     3025962   \n",
              "61                 Becoming One Nation     True              74     3025962   \n",
              "62           American Solidarity Party     True             664     3025962   \n",
              "63  Party For Socialism And Liberation     True              64     3025962   \n",
              "\n",
              "   party_simplified  vote_percentage  \n",
              "0          DEMOCRAT        51.104986  \n",
              "1        REPUBLICAN        47.473536  \n",
              "2             OTHER         1.229986  \n",
              "3             OTHER         0.191493  \n",
              "4        REPUBLICAN        51.155764  \n",
              "..              ...              ...  \n",
              "59            OTHER         0.000000  \n",
              "60            OTHER         0.000099  \n",
              "61            OTHER         0.002446  \n",
              "62            OTHER         0.021943  \n",
              "63            OTHER         0.002115  \n",
              "\n",
              "[64 rows x 14 columns]"
            ],
            "text/html": [
              "\n",
              "  <div id=\"df-3e93fb78-62a0-4cd5-ab56-a60e4f9fc24b\" class=\"colab-df-container\">\n",
              "    <div>\n",
              "<style scoped>\n",
              "    .dataframe tbody tr th:only-of-type {\n",
              "        vertical-align: middle;\n",
              "    }\n",
              "\n",
              "    .dataframe tbody tr th {\n",
              "        vertical-align: top;\n",
              "    }\n",
              "\n",
              "    .dataframe thead th {\n",
              "        text-align: right;\n",
              "    }\n",
              "</style>\n",
              "<table border=\"1\" class=\"dataframe\">\n",
              "  <thead>\n",
              "    <tr style=\"text-align: right;\">\n",
              "      <th></th>\n",
              "      <th>year</th>\n",
              "      <th>state</th>\n",
              "      <th>state_po</th>\n",
              "      <th>STATEFIP</th>\n",
              "      <th>state_cen</th>\n",
              "      <th>state_ic</th>\n",
              "      <th>office</th>\n",
              "      <th>candidate</th>\n",
              "      <th>party_detailed</th>\n",
              "      <th>writein</th>\n",
              "      <th>candidatevotes</th>\n",
              "      <th>totalvotes</th>\n",
              "      <th>party_simplified</th>\n",
              "      <th>vote_percentage</th>\n",
              "    </tr>\n",
              "  </thead>\n",
              "  <tbody>\n",
              "    <tr>\n",
              "      <th>0</th>\n",
              "      <td>01-01-1976</td>\n",
              "      <td>MISSOURI</td>\n",
              "      <td>MO</td>\n",
              "      <td>29</td>\n",
              "      <td>43</td>\n",
              "      <td>34</td>\n",
              "      <td>US PRESIDENT</td>\n",
              "      <td>Carter, Jimmy</td>\n",
              "      <td>Democrat</td>\n",
              "      <td>False</td>\n",
              "      <td>998387</td>\n",
              "      <td>1953600</td>\n",
              "      <td>DEMOCRAT</td>\n",
              "      <td>51.104986</td>\n",
              "    </tr>\n",
              "    <tr>\n",
              "      <th>1</th>\n",
              "      <td>01-01-1976</td>\n",
              "      <td>MISSOURI</td>\n",
              "      <td>MO</td>\n",
              "      <td>29</td>\n",
              "      <td>43</td>\n",
              "      <td>34</td>\n",
              "      <td>US PRESIDENT</td>\n",
              "      <td>Ford, Gerald</td>\n",
              "      <td>Republican</td>\n",
              "      <td>False</td>\n",
              "      <td>927443</td>\n",
              "      <td>1953600</td>\n",
              "      <td>REPUBLICAN</td>\n",
              "      <td>47.473536</td>\n",
              "    </tr>\n",
              "    <tr>\n",
              "      <th>2</th>\n",
              "      <td>01-01-1976</td>\n",
              "      <td>MISSOURI</td>\n",
              "      <td>MO</td>\n",
              "      <td>29</td>\n",
              "      <td>43</td>\n",
              "      <td>34</td>\n",
              "      <td>US PRESIDENT</td>\n",
              "      <td>Mccarthy, Eugene \"\"Gene\"\"</td>\n",
              "      <td>Independent</td>\n",
              "      <td>False</td>\n",
              "      <td>24029</td>\n",
              "      <td>1953600</td>\n",
              "      <td>OTHER</td>\n",
              "      <td>1.229986</td>\n",
              "    </tr>\n",
              "    <tr>\n",
              "      <th>3</th>\n",
              "      <td>01-01-1976</td>\n",
              "      <td>MISSOURI</td>\n",
              "      <td>MO</td>\n",
              "      <td>29</td>\n",
              "      <td>43</td>\n",
              "      <td>34</td>\n",
              "      <td>US PRESIDENT</td>\n",
              "      <td>Other</td>\n",
              "      <td>Unknown</td>\n",
              "      <td>False</td>\n",
              "      <td>3741</td>\n",
              "      <td>1953600</td>\n",
              "      <td>OTHER</td>\n",
              "      <td>0.191493</td>\n",
              "    </tr>\n",
              "    <tr>\n",
              "      <th>4</th>\n",
              "      <td>01-01-1980</td>\n",
              "      <td>MISSOURI</td>\n",
              "      <td>MO</td>\n",
              "      <td>29</td>\n",
              "      <td>43</td>\n",
              "      <td>34</td>\n",
              "      <td>US PRESIDENT</td>\n",
              "      <td>Reagan, Ronald</td>\n",
              "      <td>Republican</td>\n",
              "      <td>False</td>\n",
              "      <td>1074181</td>\n",
              "      <td>2099824</td>\n",
              "      <td>REPUBLICAN</td>\n",
              "      <td>51.155764</td>\n",
              "    </tr>\n",
              "    <tr>\n",
              "      <th>...</th>\n",
              "      <td>...</td>\n",
              "      <td>...</td>\n",
              "      <td>...</td>\n",
              "      <td>...</td>\n",
              "      <td>...</td>\n",
              "      <td>...</td>\n",
              "      <td>...</td>\n",
              "      <td>...</td>\n",
              "      <td>...</td>\n",
              "      <td>...</td>\n",
              "      <td>...</td>\n",
              "      <td>...</td>\n",
              "      <td>...</td>\n",
              "      <td>...</td>\n",
              "    </tr>\n",
              "    <tr>\n",
              "      <th>59</th>\n",
              "      <td>01-01-2020</td>\n",
              "      <td>MISSOURI</td>\n",
              "      <td>MO</td>\n",
              "      <td>29</td>\n",
              "      <td>43</td>\n",
              "      <td>34</td>\n",
              "      <td>US PRESIDENT</td>\n",
              "      <td>Unknown</td>\n",
              "      <td>Unknown</td>\n",
              "      <td>True</td>\n",
              "      <td>0</td>\n",
              "      <td>3025962</td>\n",
              "      <td>OTHER</td>\n",
              "      <td>0.000000</td>\n",
              "    </tr>\n",
              "    <tr>\n",
              "      <th>60</th>\n",
              "      <td>01-01-2020</td>\n",
              "      <td>MISSOURI</td>\n",
              "      <td>MO</td>\n",
              "      <td>29</td>\n",
              "      <td>43</td>\n",
              "      <td>34</td>\n",
              "      <td>US PRESIDENT</td>\n",
              "      <td>Wells, Kasey</td>\n",
              "      <td>Non-Affiliated</td>\n",
              "      <td>True</td>\n",
              "      <td>3</td>\n",
              "      <td>3025962</td>\n",
              "      <td>OTHER</td>\n",
              "      <td>0.000099</td>\n",
              "    </tr>\n",
              "    <tr>\n",
              "      <th>61</th>\n",
              "      <td>01-01-2020</td>\n",
              "      <td>MISSOURI</td>\n",
              "      <td>MO</td>\n",
              "      <td>29</td>\n",
              "      <td>43</td>\n",
              "      <td>34</td>\n",
              "      <td>US PRESIDENT</td>\n",
              "      <td>Simmons, Jade</td>\n",
              "      <td>Becoming One Nation</td>\n",
              "      <td>True</td>\n",
              "      <td>74</td>\n",
              "      <td>3025962</td>\n",
              "      <td>OTHER</td>\n",
              "      <td>0.002446</td>\n",
              "    </tr>\n",
              "    <tr>\n",
              "      <th>62</th>\n",
              "      <td>01-01-2020</td>\n",
              "      <td>MISSOURI</td>\n",
              "      <td>MO</td>\n",
              "      <td>29</td>\n",
              "      <td>43</td>\n",
              "      <td>34</td>\n",
              "      <td>US PRESIDENT</td>\n",
              "      <td>Carroll, Brian</td>\n",
              "      <td>American Solidarity Party</td>\n",
              "      <td>True</td>\n",
              "      <td>664</td>\n",
              "      <td>3025962</td>\n",
              "      <td>OTHER</td>\n",
              "      <td>0.021943</td>\n",
              "    </tr>\n",
              "    <tr>\n",
              "      <th>63</th>\n",
              "      <td>01-01-2020</td>\n",
              "      <td>MISSOURI</td>\n",
              "      <td>MO</td>\n",
              "      <td>29</td>\n",
              "      <td>43</td>\n",
              "      <td>34</td>\n",
              "      <td>US PRESIDENT</td>\n",
              "      <td>La Riva, Gloria Estella</td>\n",
              "      <td>Party For Socialism And Liberation</td>\n",
              "      <td>True</td>\n",
              "      <td>64</td>\n",
              "      <td>3025962</td>\n",
              "      <td>OTHER</td>\n",
              "      <td>0.002115</td>\n",
              "    </tr>\n",
              "  </tbody>\n",
              "</table>\n",
              "<p>64 rows × 14 columns</p>\n",
              "</div>\n",
              "    <div class=\"colab-df-buttons\">\n",
              "\n",
              "  <div class=\"colab-df-container\">\n",
              "    <button class=\"colab-df-convert\" onclick=\"convertToInteractive('df-3e93fb78-62a0-4cd5-ab56-a60e4f9fc24b')\"\n",
              "            title=\"Convert this dataframe to an interactive table.\"\n",
              "            style=\"display:none;\">\n",
              "\n",
              "  <svg xmlns=\"http://www.w3.org/2000/svg\" height=\"24px\" viewBox=\"0 -960 960 960\">\n",
              "    <path d=\"M120-120v-720h720v720H120Zm60-500h600v-160H180v160Zm220 220h160v-160H400v160Zm0 220h160v-160H400v160ZM180-400h160v-160H180v160Zm440 0h160v-160H620v160ZM180-180h160v-160H180v160Zm440 0h160v-160H620v160Z\"/>\n",
              "  </svg>\n",
              "    </button>\n",
              "\n",
              "  <style>\n",
              "    .colab-df-container {\n",
              "      display:flex;\n",
              "      gap: 12px;\n",
              "    }\n",
              "\n",
              "    .colab-df-convert {\n",
              "      background-color: #E8F0FE;\n",
              "      border: none;\n",
              "      border-radius: 50%;\n",
              "      cursor: pointer;\n",
              "      display: none;\n",
              "      fill: #1967D2;\n",
              "      height: 32px;\n",
              "      padding: 0 0 0 0;\n",
              "      width: 32px;\n",
              "    }\n",
              "\n",
              "    .colab-df-convert:hover {\n",
              "      background-color: #E2EBFA;\n",
              "      box-shadow: 0px 1px 2px rgba(60, 64, 67, 0.3), 0px 1px 3px 1px rgba(60, 64, 67, 0.15);\n",
              "      fill: #174EA6;\n",
              "    }\n",
              "\n",
              "    .colab-df-buttons div {\n",
              "      margin-bottom: 4px;\n",
              "    }\n",
              "\n",
              "    [theme=dark] .colab-df-convert {\n",
              "      background-color: #3B4455;\n",
              "      fill: #D2E3FC;\n",
              "    }\n",
              "\n",
              "    [theme=dark] .colab-df-convert:hover {\n",
              "      background-color: #434B5C;\n",
              "      box-shadow: 0px 1px 3px 1px rgba(0, 0, 0, 0.15);\n",
              "      filter: drop-shadow(0px 1px 2px rgba(0, 0, 0, 0.3));\n",
              "      fill: #FFFFFF;\n",
              "    }\n",
              "  </style>\n",
              "\n",
              "    <script>\n",
              "      const buttonEl =\n",
              "        document.querySelector('#df-3e93fb78-62a0-4cd5-ab56-a60e4f9fc24b button.colab-df-convert');\n",
              "      buttonEl.style.display =\n",
              "        google.colab.kernel.accessAllowed ? 'block' : 'none';\n",
              "\n",
              "      async function convertToInteractive(key) {\n",
              "        const element = document.querySelector('#df-3e93fb78-62a0-4cd5-ab56-a60e4f9fc24b');\n",
              "        const dataTable =\n",
              "          await google.colab.kernel.invokeFunction('convertToInteractive',\n",
              "                                                    [key], {});\n",
              "        if (!dataTable) return;\n",
              "\n",
              "        const docLinkHtml = 'Like what you see? Visit the ' +\n",
              "          '<a target=\"_blank\" href=https://colab.research.google.com/notebooks/data_table.ipynb>data table notebook</a>'\n",
              "          + ' to learn more about interactive tables.';\n",
              "        element.innerHTML = '';\n",
              "        dataTable['output_type'] = 'display_data';\n",
              "        await google.colab.output.renderOutput(dataTable, element);\n",
              "        const docLink = document.createElement('div');\n",
              "        docLink.innerHTML = docLinkHtml;\n",
              "        element.appendChild(docLink);\n",
              "      }\n",
              "    </script>\n",
              "  </div>\n",
              "\n",
              "\n",
              "<div id=\"df-bb33c53e-e78a-4804-b47a-19cf37b096a7\">\n",
              "  <button class=\"colab-df-quickchart\" onclick=\"quickchart('df-bb33c53e-e78a-4804-b47a-19cf37b096a7')\"\n",
              "            title=\"Suggest charts\"\n",
              "            style=\"display:none;\">\n",
              "\n",
              "<svg xmlns=\"http://www.w3.org/2000/svg\" height=\"24px\"viewBox=\"0 0 24 24\"\n",
              "     width=\"24px\">\n",
              "    <g>\n",
              "        <path d=\"M19 3H5c-1.1 0-2 .9-2 2v14c0 1.1.9 2 2 2h14c1.1 0 2-.9 2-2V5c0-1.1-.9-2-2-2zM9 17H7v-7h2v7zm4 0h-2V7h2v10zm4 0h-2v-4h2v4z\"/>\n",
              "    </g>\n",
              "</svg>\n",
              "  </button>\n",
              "\n",
              "<style>\n",
              "  .colab-df-quickchart {\n",
              "      --bg-color: #E8F0FE;\n",
              "      --fill-color: #1967D2;\n",
              "      --hover-bg-color: #E2EBFA;\n",
              "      --hover-fill-color: #174EA6;\n",
              "      --disabled-fill-color: #AAA;\n",
              "      --disabled-bg-color: #DDD;\n",
              "  }\n",
              "\n",
              "  [theme=dark] .colab-df-quickchart {\n",
              "      --bg-color: #3B4455;\n",
              "      --fill-color: #D2E3FC;\n",
              "      --hover-bg-color: #434B5C;\n",
              "      --hover-fill-color: #FFFFFF;\n",
              "      --disabled-bg-color: #3B4455;\n",
              "      --disabled-fill-color: #666;\n",
              "  }\n",
              "\n",
              "  .colab-df-quickchart {\n",
              "    background-color: var(--bg-color);\n",
              "    border: none;\n",
              "    border-radius: 50%;\n",
              "    cursor: pointer;\n",
              "    display: none;\n",
              "    fill: var(--fill-color);\n",
              "    height: 32px;\n",
              "    padding: 0;\n",
              "    width: 32px;\n",
              "  }\n",
              "\n",
              "  .colab-df-quickchart:hover {\n",
              "    background-color: var(--hover-bg-color);\n",
              "    box-shadow: 0 1px 2px rgba(60, 64, 67, 0.3), 0 1px 3px 1px rgba(60, 64, 67, 0.15);\n",
              "    fill: var(--button-hover-fill-color);\n",
              "  }\n",
              "\n",
              "  .colab-df-quickchart-complete:disabled,\n",
              "  .colab-df-quickchart-complete:disabled:hover {\n",
              "    background-color: var(--disabled-bg-color);\n",
              "    fill: var(--disabled-fill-color);\n",
              "    box-shadow: none;\n",
              "  }\n",
              "\n",
              "  .colab-df-spinner {\n",
              "    border: 2px solid var(--fill-color);\n",
              "    border-color: transparent;\n",
              "    border-bottom-color: var(--fill-color);\n",
              "    animation:\n",
              "      spin 1s steps(1) infinite;\n",
              "  }\n",
              "\n",
              "  @keyframes spin {\n",
              "    0% {\n",
              "      border-color: transparent;\n",
              "      border-bottom-color: var(--fill-color);\n",
              "      border-left-color: var(--fill-color);\n",
              "    }\n",
              "    20% {\n",
              "      border-color: transparent;\n",
              "      border-left-color: var(--fill-color);\n",
              "      border-top-color: var(--fill-color);\n",
              "    }\n",
              "    30% {\n",
              "      border-color: transparent;\n",
              "      border-left-color: var(--fill-color);\n",
              "      border-top-color: var(--fill-color);\n",
              "      border-right-color: var(--fill-color);\n",
              "    }\n",
              "    40% {\n",
              "      border-color: transparent;\n",
              "      border-right-color: var(--fill-color);\n",
              "      border-top-color: var(--fill-color);\n",
              "    }\n",
              "    60% {\n",
              "      border-color: transparent;\n",
              "      border-right-color: var(--fill-color);\n",
              "    }\n",
              "    80% {\n",
              "      border-color: transparent;\n",
              "      border-right-color: var(--fill-color);\n",
              "      border-bottom-color: var(--fill-color);\n",
              "    }\n",
              "    90% {\n",
              "      border-color: transparent;\n",
              "      border-bottom-color: var(--fill-color);\n",
              "    }\n",
              "  }\n",
              "</style>\n",
              "\n",
              "  <script>\n",
              "    async function quickchart(key) {\n",
              "      const quickchartButtonEl =\n",
              "        document.querySelector('#' + key + ' button');\n",
              "      quickchartButtonEl.disabled = true;  // To prevent multiple clicks.\n",
              "      quickchartButtonEl.classList.add('colab-df-spinner');\n",
              "      try {\n",
              "        const charts = await google.colab.kernel.invokeFunction(\n",
              "            'suggestCharts', [key], {});\n",
              "      } catch (error) {\n",
              "        console.error('Error during call to suggestCharts:', error);\n",
              "      }\n",
              "      quickchartButtonEl.classList.remove('colab-df-spinner');\n",
              "      quickchartButtonEl.classList.add('colab-df-quickchart-complete');\n",
              "    }\n",
              "    (() => {\n",
              "      let quickchartButtonEl =\n",
              "        document.querySelector('#df-bb33c53e-e78a-4804-b47a-19cf37b096a7 button');\n",
              "      quickchartButtonEl.style.display =\n",
              "        google.colab.kernel.accessAllowed ? 'block' : 'none';\n",
              "    })();\n",
              "  </script>\n",
              "</div>\n",
              "    </div>\n",
              "  </div>\n"
            ]
          },
          "metadata": {},
          "execution_count": 16
        }
      ]
    },
    {
      "cell_type": "code",
      "source": [
        "PO_data.shape"
      ],
      "metadata": {
        "id": "sQSRPEZLnRe3",
        "outputId": "43276947-fd8c-42c3-f09a-550b11153f3e",
        "colab": {
          "base_uri": "https://localhost:8080/"
        }
      },
      "execution_count": 17,
      "outputs": [
        {
          "output_type": "execute_result",
          "data": {
            "text/plain": [
              "(64, 14)"
            ]
          },
          "metadata": {},
          "execution_count": 17
        }
      ]
    },
    {
      "cell_type": "markdown",
      "source": [
        "The dataset is a record of presidential election results in the state of Missouri, USA, spanning multiple election years (at least from 1976 to 2020). Each row in the dataset represents data for a specific candidate in a particular election year."
      ],
      "metadata": {
        "id": "V0CmNiKKnYli"
      }
    },
    {
      "cell_type": "markdown",
      "metadata": {
        "id": "Q0UXcks8aZ_M"
      },
      "source": [
        "### 2. Data Diversity\n",
        "\n",
        "Use Python to identify how many unique values each column in your data has.  Use Python to identify which column has the greatest number of distinct values (aka the most diversity)?  If your data has a unique identifier (e.g. a person or visit or record ID) then find the column with the next most number of unique values."
      ]
    },
    {
      "cell_type": "code",
      "execution_count": 18,
      "metadata": {
        "id": "36rjFjqPaZ_N",
        "outputId": "9073a795-5fcf-4442-ba1d-10c8e4910667",
        "colab": {
          "base_uri": "https://localhost:8080/"
        }
      },
      "outputs": [
        {
          "output_type": "stream",
          "name": "stdout",
          "text": [
            "Unique values in each column:\n",
            " year                12\n",
            "state                1\n",
            "state_po             1\n",
            "STATEFIP             1\n",
            "state_cen            1\n",
            "state_ic             1\n",
            "office               1\n",
            "candidate           47\n",
            "party_detailed      16\n",
            "writein              2\n",
            "candidatevotes      64\n",
            "totalvotes          12\n",
            "party_simplified     4\n",
            "vote_percentage     64\n",
            "dtype: int64\n",
            "column with the most unique values: candidatevotes\n"
          ]
        }
      ],
      "source": [
        "# Calculate the number of unique values in each column\n",
        "unique_values = PO_data.nunique()\n",
        "# Display the number of unique value for each column\n",
        "print(\"Unique values in each column:\\n\", unique_values)\n",
        "# Identify the column with the most unique values\n",
        "column_with_most_diversity = unique_values.idxmax()\n",
        "print(\"column with the most unique values:\", column_with_most_diversity)"
      ]
    },
    {
      "cell_type": "markdown",
      "source": [
        "The column with the most unique values in the dataset is \"candidatevotes\" with 64 unique values, indicating a wide range of vote counts for different candidates. The next most diverse columns are \"candidate\" and \"vote_percentage,\" each also reflecting significant variability in candidates and their vote shares."
      ],
      "metadata": {
        "id": "uIlQgVMHpcVj"
      }
    },
    {
      "cell_type": "markdown",
      "metadata": {
        "id": "_oEc00DpaZ_N"
      },
      "source": [
        "### 3. Data Redundancy\n",
        "\n",
        "Use Python to identify any columns in your data where the value for every row is the same.  For example, if you had a gender column and all the rows said 'M', then you would want to write the code that helped you determine that."
      ]
    },
    {
      "cell_type": "code",
      "execution_count": 20,
      "metadata": {
        "id": "JmAFS_vzaZ_O",
        "outputId": "b04e64c5-e515-4e00-c2be-b183b3e961e9",
        "colab": {
          "base_uri": "https://localhost:8080/"
        }
      },
      "outputs": [
        {
          "output_type": "stream",
          "name": "stdout",
          "text": [
            "columns where all rows have the same value: ['state', 'state_po', 'STATEFIP', 'state_cen', 'state_ic', 'office']\n"
          ]
        }
      ],
      "source": [
        "#Find columns where all values are the same\n",
        "constant_columns = [col for col in PO_data.columns if PO_data[col].nunique() == 1]\n",
        "print (\"columns where all rows have the same value:\", constant_columns)"
      ]
    },
    {
      "cell_type": "markdown",
      "metadata": {
        "id": "O-9pdBPhaZ_O"
      },
      "source": [
        "### 4. Range of Values\n",
        "\n",
        "Your data almost certainly has some numeric columns that can be summed or averaged.  Create a histogram that shows the distribution of values for this column."
      ]
    },
    {
      "cell_type": "code",
      "execution_count": 22,
      "metadata": {
        "id": "XVRNi2N6aZ_P",
        "outputId": "6bc25cf2-a8e9-4f4c-9179-808a2e515855",
        "colab": {
          "base_uri": "https://localhost:8080/",
          "height": 489
        }
      },
      "outputs": [
        {
          "output_type": "execute_result",
          "data": {
            "text/plain": [
              "Text(0, 0.5, 'number of candidates')"
            ]
          },
          "metadata": {},
          "execution_count": 22
        },
        {
          "output_type": "display_data",
          "data": {
            "text/plain": [
              "<Figure size 640x480 with 1 Axes>"
            ],
            "image/png": "[encoded data removed]"
          },
          "metadata": {}
        }
      ],
      "source": [
        "#create a histogram for the \"vote_percentage\" column\n",
        "plt.hist(PO_data['vote_percentage'], color = \"green\", edgecolor = \"Black\")\n",
        "\n",
        "# Add a title and labels to the plot\n",
        "plt.title ('Distribution of vote percentage')\n",
        "plt.xlabel ('vote_percentage')\n",
        "plt.ylabel ('number of candidates')"
      ]
    },
    {
      "cell_type": "markdown",
      "source": [
        "The Histogram shows that a large number of candidates received a very small percentage of the votes (close to 0%), as indicated by the tall bar on the left side of the chart. There are also a few candidates who received moderate to higher percentages of votes, as shown by the smaller bars to the right.\n",
        "\n",
        "The distribution suggests that a few candidates received most of the votes, while the majority received a very small share"
      ],
      "metadata": {
        "id": "k1ES67NTr_Qa"
      }
    },
    {
      "cell_type": "markdown",
      "metadata": {
        "id": "boCg2Za3aZ_P"
      },
      "source": [
        "### 5. Discussion\n",
        "\n",
        "Do any additional exploration of this data that you think may be interesting and include your code here.  Then go onto Slack and make a post about what you've observed.  Share your observation.  Share your code, if you like.  Share a screenshot of the data or a chart based on the data.\n",
        "\n",
        "Then comment on at least two other people's observations that they share on Slack.  (Use the reply as thread option in Slack to keep the conversation organized.)"
      ]
    },
    {
      "cell_type": "code",
      "execution_count": 25,
      "metadata": {
        "id": "ULmSg4D3aZ_P",
        "outputId": "cbd16351-4aa2-4cf1-c73f-b3c55a1259fb",
        "colab": {
          "base_uri": "https://localhost:8080/",
          "height": 466
        }
      },
      "outputs": [
        {
          "output_type": "execute_result",
          "data": {
            "text/plain": [
              "<Axes: xlabel='totalvotes', ylabel='state'>"
            ]
          },
          "metadata": {},
          "execution_count": 25
        },
        {
          "output_type": "display_data",
          "data": {
            "text/plain": [
              "<Figure size 640x480 with 1 Axes>"
            ],
            "image/png": "[encoded data removed]"
          },
          "metadata": {}
        }
      ],
      "source": [
        "sns.barplot(x= \"totalvotes\", y= \"state\", hue = 'party_simplified' , data = PO_data)\n"
      ]
    },
    {
      "cell_type": "code",
      "source": [
        "plt.figure(figsize=(12, 8))\n",
        "sns.barplot(x=\"totalvotes\", y=\"state\", hue='year', data=PO_data)"
      ],
      "metadata": {
        "id": "q6xpNrXQvcLh",
        "outputId": "6dc57189-047e-41ad-a0dc-14bfeae901d5",
        "colab": {
          "base_uri": "https://localhost:8080/",
          "height": 713
        }
      },
      "execution_count": 26,
      "outputs": [
        {
          "output_type": "execute_result",
          "data": {
            "text/plain": [
              "<Axes: xlabel='totalvotes', ylabel='state'>"
            ]
          },
          "metadata": {},
          "execution_count": 26
        },
        {
          "output_type": "display_data",
          "data": {
            "text/plain": [
              "<Figure size 1200x800 with 1 Axes>"
            ],
            "image/png": "[encoded data removed]"
          },
          "metadata": {}
        }
      ]
    },
    {
      "cell_type": "code",
      "source": [
        "sns.boxplot(x='party_simplified', y='candidatevotes', data=PO_data)\n",
        "plt.title('Candidate Votes by Party - Boxplot')\n",
        "plt.show()"
      ],
      "metadata": {
        "id": "aTFYbi3fvkMT",
        "outputId": "1f3c5fb3-2a0f-4f6a-aa6d-9775c2893cf6",
        "colab": {
          "base_uri": "https://localhost:8080/",
          "height": 472
        }
      },
      "execution_count": 27,
      "outputs": [
        {
          "output_type": "display_data",
          "data": {
            "text/plain": [
              "<Figure size 640x480 with 1 Axes>"
            ],
            "image/png": "[encoded data removed]"
          },
          "metadata": {}
        }
      ]
    },
    {
      "cell_type": "markdown",
      "metadata": {
        "id": "kjtlGMN6aZ_P"
      },
      "source": [
        "\n",
        "\n",
        "---\n",
        "\n",
        "\n",
        "\n",
        "## Submitting Your Work\n",
        "\n",
        "Submit your work as usual."
      ]
    },
    {
      "cell_type": "code",
      "execution_count": null,
      "metadata": {
        "id": "Y__fyDFJaZ_Q"
      },
      "outputs": [],
      "source": []
    }
  ],
  "metadata": {
    "celltoolbar": "Create Assignment",
    "kernelspec": {
      "display_name": "Python 3",
      "language": "python",
      "name": "python3"
    },
    "language_info": {
      "codemirror_mode": {
        "name": "ipython",
        "version": 3
      },
      "file_extension": ".py",
      "mimetype": "text/x-python",
      "name": "python",
      "nbconvert_exporter": "python",
      "pygments_lexer": "ipython3",
      "version": "3.6.7"
    },
    "colab": {
      "provenance": []
    }
  },
  "nbformat": 4,
  "nbformat_minor": 0
}