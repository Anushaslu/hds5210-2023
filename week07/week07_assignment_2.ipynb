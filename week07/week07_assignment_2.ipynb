{
  "cells": [
    {
      "cell_type": "markdown",
      "metadata": {
        "id": "DhElZLhR3nlw"
      },
      "source": [
        "# Week 7 Assignment\n",
        "\n",
        "We've been working with different types of data structures in Python (dictionary, list, etc), how those are represented in JSON documents, and how to write code to access specific data elements. In this week's assignment, you will need to create your own JSON document to store information about yourself and the grades you've received from week 1 to week 4 and the week 6 quiz.  That is, everything you should have received a grade for.  Then you'll need to show me you know how to navigate the JSON in that file.\n",
        "\n",
        "Different from what we've done in the past, you do not have to write any functions or include any docstrings.  Just create some JSON and write some code.\n",
        "\n",
        "---"
      ]
    },
    {
      "cell_type": "markdown",
      "metadata": {
        "id": "emRta1Jt3nl0"
      },
      "source": [
        "## 7.1 Create a JSON string\n",
        "\n",
        "Create a JSON string that contains your name, email, year you were born, all of the grades you've received back so far, and a comment about what you thought was most challenging on each of those assignments.  This can be any structure you choose, but make sure it uses a dictionary and a list, and has at least two levels of hierarchy.  That is, it can't just be one big long list."
      ]
    },
    {
      "cell_type": "markdown",
      "metadata": {
        "id": "CeP7lmRG3nl1"
      },
      "source": [
        "First, explain how your data structure is going to look..."
      ]
    },
    {
      "cell_type": "markdown",
      "source": [
        "In this JSON file i have including the details of me and my two friends. The data includes our names, email addresses and date of birth. entry 1 also include my assignment grades from week 1 to week 6, along with my comments for each assignment. I have followed an organised structured two level of hierarchy using dictionaries and lists."
      ],
      "metadata": {
        "id": "EqP9Hnak5hNN"
      }
    },
    {
      "cell_type": "markdown",
      "metadata": {
        "id": "8XnWlfTS3nl1"
      },
      "source": [
        "* Put your explanation here in text..."
      ]
    },
    {
      "cell_type": "markdown",
      "metadata": {
        "id": "nm9Bx5IG3nl2"
      },
      "source": [
        "Then put the actual JSON you've created inside the multiline string below..."
      ]
    },
    {
      "cell_type": "code",
      "execution_count": 13,
      "metadata": {
        "id": "sMFOhNqZ3nl2"
      },
      "outputs": [],
      "source": [
        "hds5210 = \"\"\"\n",
        "{\n",
        "    \"entry_1\": {\n",
        "        \"Biodata\": {\n",
        "            \"Name\": \"Lakshmi Anusha Tiyyala\",\n",
        "            \"Email\": \"lakshmianusha.tiyyala@slu.edu\",\n",
        "            \"Year of birth\": \"1993\",\n",
        "            \"DOB\": \"16/06/1993\"\n",
        "        },\n",
        "        \"Grades\": {\n",
        "            \"Week-1\": \"10 out of 10\",\n",
        "            \"Week-2\": \"10 out of 10\",\n",
        "            \"Week-3\": \"10 out of 10\",\n",
        "            \"Week-4\": \"10 out of 10\",\n",
        "            \"Week-6 Quiz\": \"15 out of 20\"\n",
        "        },\n",
        "         \"grades_and_comments\": {\n",
        "    \"week1\": {\"grade\": 10, \"comment\": \"It was tough.\"},\n",
        "    \"week2\": {\"grade\": 9, \"comment\": \"Gave confidence to write and run codes.\"},\n",
        "    \"week3\": {\"grade\": 10, \"comment\": \"This assignment tested my coding skills.\"},\n",
        "    \"week4\": {\"grade\": 10 \"comment\": \"Tough but very informative.\"},\n",
        "    \"week6\": {\"grade\": 15, \"comment\": \"Good quiz but run out of time.\"}\n",
        "\n",
        "}\n",
        "\"\"\""
      ]
    },
    {
      "cell_type": "markdown",
      "metadata": {
        "id": "giX5eUm33nl3"
      },
      "source": [
        "## 7.2 Do something with your JSON\n",
        "\n",
        "Now use Python code to do something with the Json above.  Turn it into English text, but make sure that you use at least one loop to access some dict or list content of your JSON.  Below, I've provided some basic code to read in the string above as JSON and return a Python object.  Your job is to work with that data structure and print out the important information like your name, email, and how you did on each assignment."
      ]
    },
    {
      "cell_type": "code",
      "execution_count": 14,
      "metadata": {
        "id": "0Nw5bpuo3nl3",
        "outputId": "acfe7796-0337-4363-85fd-6679c6874bcb",
        "colab": {
          "base_uri": "https://localhost:8080/"
        }
      },
      "outputs": [
        {
          "output_type": "stream",
          "name": "stdout",
          "text": [
            "Hello, my name is Lakshmi Anusha Tiyyala.\n",
            "My email address is lakshmianusha.tiyyala@slu.edu.\n",
            "I was born in the year 1993.\n",
            "This HDS course has been extremely engaging while learning Python and was very informative.\n",
            "My grade for week1 is 10 with the comment 'It was tough..'\n",
            "My grade for week2 is 9 with the comment 'Gave confidence to write and run codes..'\n",
            "My grade for week3 is 10 with the comment 'This assignment tested my coding skills..'\n",
            "My grade for week4 is 10 with the comment 'Tough but very informative..'\n",
            "My grade for week6 is 15 with the comment 'Good quiz but ran out of time..'\n",
            "\n"
          ]
        }
      ],
      "source": [
        "import json\n",
        "\n",
        "hds5210 = '''\n",
        "{\n",
        "    \"entry_1\": {\n",
        "        \"Biodata\": {\n",
        "            \"Name\": \"Lakshmi Anusha Tiyyala\",\n",
        "            \"Email\": \"lakshmianusha.tiyyala@slu.edu\",\n",
        "            \"Year of birth\": \"1993\",\n",
        "            \"DOB\": \"16/06/1993\"\n",
        "        },\n",
        "        \"Grades\": {\n",
        "            \"Week-1\": \"10 out of 10\",\n",
        "            \"Week-2\": \"9 out of 10\",\n",
        "            \"Week-3\": \"10 out of 10\",\n",
        "            \"Week-4\": \"10 out of 10\",\n",
        "            \"Week-6 Quiz\": \"15 out of 20\"\n",
        "        },\n",
        "        \"grades_and_comments\": {\n",
        "            \"week1\": {\"grade\": 10, \"comment\": \"It was tough.\"},\n",
        "            \"week2\": {\"grade\": 9, \"comment\": \"Gave confidence to write and run codes.\"},\n",
        "            \"week3\": {\"grade\": 10, \"comment\": \"This assignment tested my coding skills.\"},\n",
        "            \"week4\": {\"grade\": 10, \"comment\": \"Tough but very informative.\"},\n",
        "            \"week6\": {\"grade\": 15, \"comment\": \"Good quiz but ran out of time.\"}\n",
        "        }\n",
        "    }\n",
        "}\n",
        "'''\n",
        "\n",
        "info = json.loads(hds5210)\n",
        "\n",
        "\n",
        "biodata = info['entry_1']['Biodata']\n",
        "name = biodata['Name']\n",
        "email = biodata['Email']\n",
        "year_of_birth = biodata['Year of birth']\n",
        "\n",
        "\n",
        "grades_and_comments = info['entry_1']['grades_and_comments']\n",
        "\n",
        "\n",
        "paragraph = f\"Hello, my name is {name}.\\n\"\n",
        "paragraph += f\"My email address is {email}.\\n\"\n",
        "paragraph += f\"I was born in the year {year_of_birth}.\\n\"\n",
        "paragraph += \"This HDS course has been extremely engaging while learning Python and was very informative.\\n\"\n",
        "\n",
        "for week, data in grades_and_comments.items():\n",
        "    paragraph += f\"My grade for {week} is {data['grade']} with the comment '{data['comment']}.'\\n\"\n",
        "\n",
        "print(paragraph)\n",
        "\n"
      ]
    },
    {
      "cell_type": "markdown",
      "metadata": {
        "id": "QQ10VoId3nl3"
      },
      "source": [
        "## 7.3 Reflect\n",
        "\n",
        "Write a paragraph on any reflections you have. Was this hard? Easy?  What parts were most challenging or easiest? What did you like or dislike about the assignment?  Share whatever important thoughts you have abou this assignment."
      ]
    },
    {
      "cell_type": "markdown",
      "metadata": {
        "id": "JUQlLwb43nl3"
      },
      "source": [
        "* Put your response here"
      ]
    },
    {
      "cell_type": "markdown",
      "source": [],
      "metadata": {
        "id": "INCLGO2S8DKu"
      }
    },
    {
      "cell_type": "markdown",
      "source": [
        "While doing this assignment, i gained more confidance that i can write and run codes without any help, including chatgpt. Its tough while understanding the question initially but along the way once i understood the process, it became easier.\n",
        "It makes me so happy when my code runs succesfully for all the effort i put in.\n",
        "I'm extremely thankfull to my professor for making python easier and understandable."
      ],
      "metadata": {
        "id": "4WPEZV2x7H0b"
      }
    },
    {
      "cell_type": "markdown",
      "metadata": {
        "id": "q5La0ZGi3nl3"
      },
      "source": [
        "---\n",
        "\n",
        "# Example\n",
        "\n",
        "Below is an example of something similar, but this uses information my and my friend's kids instead of grades."
      ]
    },
    {
      "cell_type": "code",
      "execution_count": null,
      "metadata": {
        "id": "VjxMxxPV3nl4",
        "outputId": "7a69d6b1-8588-4947-f4a9-59283c083739"
      },
      "outputs": [
        {
          "name": "stdout",
          "output_type": "stream",
          "text": [
            "Hi, my name is Paul. I've got 3 kids. Their names are Ellie, Ada, Teddy.\n",
            "My friend, Anny has 1 kids. That's fewer than me. Their names are 1\n"
          ]
        }
      ],
      "source": [
        "hds5210 = \"\"\"\n",
        "{\n",
        "    \"me\": {\n",
        "        \"name\": \"Paul\",\n",
        "        \"kids\": [\"Ellie\", \"Ada\", \"Teddy\"]\n",
        "    },\n",
        "    \"friend\": {\n",
        "        \"name\": \"Anny\",\n",
        "        \"kids\": [\"Abby\"]\n",
        "    }\n",
        "}\n",
        "\"\"\"\n",
        "\n",
        "import json\n",
        "\n",
        "info = json.loads(hds5210)\n",
        "\n",
        "me = info[\"me\"][\"name\"]\n",
        "my_kids_count = len(info[\"me\"][\"kids\"])\n",
        "kids_list = \", \".join(info[\"me\"][\"kids\"])\n",
        "friend = info[\"friend\"][\"name\"]\n",
        "friends_kid_count = len(info[\"friend\"][\"kids\"])\n",
        "friend_kids = \", \".join(info[\"friend\"][\"kids\"])\n",
        "compare = \"more\" if friends_kid_count > my_kids_count else \"fewer\"\n",
        "\n",
        "print(f\"Hi, my name is {me}. I've got {my_kids_count} kids. Their names are {kids_list}.\")\n",
        "print(f\"My friend, {friend} has {friends_kid_count} kids. That's {compare} than me. Their names are {friends_kid_count}\")"
      ]
    }
  ],
  "metadata": {
    "kernelspec": {
      "display_name": "Python 3",
      "language": "python",
      "name": "python3"
    },
    "language_info": {
      "codemirror_mode": {
        "name": "ipython",
        "version": 3
      },
      "file_extension": ".py",
      "mimetype": "text/x-python",
      "name": "python",
      "nbconvert_exporter": "python",
      "pygments_lexer": "ipython3",
      "version": "3.9.16"
    },
    "colab": {
      "provenance": []
    }
  },
  "nbformat": 4,
  "nbformat_minor": 0
}