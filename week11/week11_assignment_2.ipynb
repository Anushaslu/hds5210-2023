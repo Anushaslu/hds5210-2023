{
  "cells": [
    {
      "cell_type": "markdown",
      "metadata": {
        "id": "2PRbQot1Gt0X"
      },
      "source": [
        "# Week 11 Assignment\n",
        "\n",
        "\n",
        "Please do the programming exercise and verify that your code works using the tests, then think about your final project and fill out the questions in the second part.\n",
        "\n",
        "---\n",
        "---"
      ]
    },
    {
      "cell_type": "markdown",
      "metadata": {
        "id": "J_0hq2oIGt0e"
      },
      "source": [
        "### 47.1: Filtering and summarizing data\n",
        "\n",
        "For this work, you'll find a data file in `https://hds5210-data.s3.amazonaws.com/complications_all.csv`.\n",
        "\n",
        "Read in the data file and create a variable called `mo_hospitals` that contains a data frame from the `complications_all.csv` file, filtered down to only contain those hospitals from the state of Missouri (MO).\n",
        "\n",
        "Then aggregate that data by hospital into a variable named `mo_summary`.  There are some key fields that we want to summarize:\n",
        "* We want to know the earliest date that each hospital was participating in any program\n",
        "* We want to know the latest date that each hospital stopped participating in any program\n",
        "* We want to know the total number of patients in the denominators of these programs\n",
        "\n",
        "Some things to note:\n",
        "* You will need to convert the `Start Date` and `End Date` to actual datetime fields\n",
        "* You will need to clean up and convert the `Denominator` field to just be numeric - the rule that you should use it to simply remove any records where the `Denominator` is `'Not Available'`\n",
        "\n",
        "\n",
        "The final result of this step should be a new data frame called `mo_summary` that contains one row for each hospital and contains the min start date, max end date, and total denominator.  Use the names `start_date`, `end_date`, and `number` for those columns in `mo_summary`.\n",
        "\n",
        "\n",
        "You do not need to create your code in the form of a function, just make sure your variable names match what I've described above so the tests work."
      ]
    },
    {
      "cell_type": "code",
      "execution_count": 1,
      "metadata": {
        "id": "ydllhyLhGt0g"
      },
      "outputs": [],
      "source": [
        "import pandas as pd\n",
        "# This is just to show you the name to use for the variable you need to create for this step to pass.\n",
        "all_hospitals = pd.read_csv('https://hds5210-data.s3.amazonaws.com/complications_all.csv')\n"
      ]
    },
    {
      "cell_type": "code",
      "source": [
        "mo_hospitals = all_hospitals[all_hospitals['State'] == 'MO']"
      ],
      "metadata": {
        "id": "-vaQjIP9IB1J"
      },
      "execution_count": 19,
      "outputs": []
    },
    {
      "cell_type": "code",
      "source": [
        "# Convert 'Start Date' and 'End Date' to datetime\n",
        "mo_hospitals['Start Date'] = pd.to_datetime(mo_hospitals['Start Date'])\n",
        "mo_hospitals['End Date'] = pd.to_datetime(mo_hospitals['End Date'])\n",
        "\n",
        "# Remove records where the Denominator is 'Not Available'\n",
        "mo_hospitals = mo_hospitals[mo_hospitals['Denominator'] != 'Not Available']\n",
        "\n",
        "# Convert 'Denominator' to numeric, coercing errors which will turn strings that can't be converted into NaN, then drop these\n",
        "mo_hospitals['Denominator'] = pd.to_numeric(mo_hospitals['Denominator'], errors='coerce')\n",
        "mo_hospitals.dropna(subset=['Denominator'], inplace=True)\n",
        "\n",
        "# Aggregate the data by hospital\n",
        "mo_summary = mo_hospitals.groupby('Facility Name').agg({\n",
        "    'Start Date': 'min',\n",
        "    'End Date': 'max',\n",
        "    'Denominator': 'sum'\n",
        "})\n",
        "\n",
        "# Rename columns for clarity\n",
        "mo_summary.rename(columns={\n",
        "    'Start Date': 'start_date',\n",
        "    'End Date': 'end_date',\n",
        "    'Denominator': 'number'\n",
        "}, inplace=True)"
      ],
      "metadata": {
        "id": "ddxpY4c_XFqH"
      },
      "execution_count": null,
      "outputs": []
    },
    {
      "cell_type": "code",
      "execution_count": 22,
      "metadata": {
        "id": "gvPItpLcGt0i"
      },
      "outputs": [],
      "source": [
        "assert(mo_summary['number'].sum() == 1766908)\n",
        "assert(mo_summary['start_date'].min() == pd.Timestamp(2015,4,1))\n",
        "assert(mo_summary['end_date'].max() == pd.Timestamp(2018,6,30))\n",
        "assert(mo_summary.shape == (108,3))\n",
        "assert(mo_summary.loc['BARNES JEWISH HOSPITAL'].number == 131313)\n",
        "assert(mo_summary.loc['BOONE HOSPITAL CENTER'].number == 63099)"
      ]
    },
    {
      "cell_type": "code",
      "source": [
        "mo_summary['number'].sum()"
      ],
      "metadata": {
        "colab": {
          "base_uri": "https://localhost:8080/",
          "height": 0
        },
        "id": "0VgbHDYDJUY_",
        "outputId": "cd737c3a-d4c5-4de3-e684-b7d3f11a0217"
      },
      "execution_count": 9,
      "outputs": [
        {
          "output_type": "execute_result",
          "data": {
            "text/plain": [
              "1766908"
            ]
          },
          "metadata": {},
          "execution_count": 9
        }
      ]
    },
    {
      "cell_type": "code",
      "source": [
        "mo_summary['start_date'].min()"
      ],
      "metadata": {
        "colab": {
          "base_uri": "https://localhost:8080/",
          "height": 0
        },
        "id": "shDtFNtpJX9z",
        "outputId": "942811dc-95a3-493f-8f5d-4edaa602b28e"
      },
      "execution_count": 10,
      "outputs": [
        {
          "output_type": "execute_result",
          "data": {
            "text/plain": [
              "Timestamp('2015-04-01 00:00:00')"
            ]
          },
          "metadata": {},
          "execution_count": 10
        }
      ]
    },
    {
      "cell_type": "code",
      "source": [
        "mo_summary['end_date'].max()"
      ],
      "metadata": {
        "colab": {
          "base_uri": "https://localhost:8080/",
          "height": 0
        },
        "id": "KyK9DbalJZjZ",
        "outputId": "9b09ed88-d1bc-4f2c-ccfc-f67eef5d879b"
      },
      "execution_count": 14,
      "outputs": [
        {
          "output_type": "execute_result",
          "data": {
            "text/plain": [
              "Timestamp('2018-06-30 00:00:00')"
            ]
          },
          "metadata": {},
          "execution_count": 14
        }
      ]
    },
    {
      "cell_type": "code",
      "source": [
        "mo_summary.shape"
      ],
      "metadata": {
        "colab": {
          "base_uri": "https://localhost:8080/",
          "height": 0
        },
        "id": "_MNB0wDxKSr_",
        "outputId": "349dbdea-f43e-443c-b9ff-1ba61d914add"
      },
      "execution_count": 17,
      "outputs": [
        {
          "output_type": "execute_result",
          "data": {
            "text/plain": [
              "(108, 3)"
            ]
          },
          "metadata": {},
          "execution_count": 17
        }
      ]
    },
    {
      "cell_type": "code",
      "source": [
        "mo_summary.loc['BARNES JEWISH HOSPITAL'].number"
      ],
      "metadata": {
        "colab": {
          "base_uri": "https://localhost:8080/",
          "height": 0
        },
        "id": "idgZu9_wJ2EA",
        "outputId": "ed9ff09d-a2e6-4239-de9a-a6e196006763"
      },
      "execution_count": 15,
      "outputs": [
        {
          "output_type": "execute_result",
          "data": {
            "text/plain": [
              "131313"
            ]
          },
          "metadata": {},
          "execution_count": 15
        }
      ]
    },
    {
      "cell_type": "code",
      "source": [
        "mo_summary.loc['BOONE HOSPITAL CENTER'].number"
      ],
      "metadata": {
        "colab": {
          "base_uri": "https://localhost:8080/",
          "height": 0
        },
        "id": "CG2GW5qWKNj9",
        "outputId": "123474a1-222d-47cf-beb1-05c9ee09083c"
      },
      "execution_count": 16,
      "outputs": [
        {
          "output_type": "execute_result",
          "data": {
            "text/plain": [
              "63099"
            ]
          },
          "metadata": {},
          "execution_count": 16
        }
      ]
    },
    {
      "cell_type": "code",
      "source": [
        "mo_summary"
      ],
      "metadata": {
        "id": "uuZs3DlUXevk",
        "outputId": "244c3803-b5b5-4ee0-9795-f8c54d1a5549",
        "colab": {
          "base_uri": "https://localhost:8080/",
          "height": 455
        }
      },
      "execution_count": 23,
      "outputs": [
        {
          "output_type": "execute_result",
          "data": {
            "text/plain": [
              "                                    start_date   end_date  number\n",
              "Facility Name                                                    \n",
              "BARNES JEWISH HOSPITAL              2015-04-01 2018-06-30  131313\n",
              "BARNES-JEWISH ST PETERS HOSPITAL    2015-04-01 2018-06-30   15668\n",
              "BARNES-JEWISH WEST COUNTY HOSPITAL  2015-04-01 2018-06-30    9622\n",
              "BATES COUNTY MEMORIAL HOSPITAL      2015-07-01 2018-06-30    3117\n",
              "BELTON REGIONAL MEDICAL CENTER      2015-04-01 2018-06-30    9270\n",
              "...                                        ...        ...     ...\n",
              "TRUMAN MEDICAL CENTER LAKEWOOD      2015-04-01 2018-06-30    4297\n",
              "UNIVERSITY OF MISSOURI HEALTH CARE  2015-04-01 2018-06-30   56493\n",
              "WASHINGTON COUNTY MEMORIAL HOSPITAL 2015-07-01 2018-06-30     220\n",
              "WESTERN MISSOURI MEDICAL CENTER     2015-04-01 2018-06-30    7254\n",
              "WRIGHT MEMORIAL HOSPITAL            2015-07-01 2018-06-30     198\n",
              "\n",
              "[108 rows x 3 columns]"
            ],
            "text/html": [
              "\n",
              "  <div id=\"df-a83b6b62-20e5-41da-8a41-61ee0acda5c8\" class=\"colab-df-container\">\n",
              "    <div>\n",
              "<style scoped>\n",
              "    .dataframe tbody tr th:only-of-type {\n",
              "        vertical-align: middle;\n",
              "    }\n",
              "\n",
              "    .dataframe tbody tr th {\n",
              "        vertical-align: top;\n",
              "    }\n",
              "\n",
              "    .dataframe thead th {\n",
              "        text-align: right;\n",
              "    }\n",
              "</style>\n",
              "<table border=\"1\" class=\"dataframe\">\n",
              "  <thead>\n",
              "    <tr style=\"text-align: right;\">\n",
              "      <th></th>\n",
              "      <th>start_date</th>\n",
              "      <th>end_date</th>\n",
              "      <th>number</th>\n",
              "    </tr>\n",
              "    <tr>\n",
              "      <th>Facility Name</th>\n",
              "      <th></th>\n",
              "      <th></th>\n",
              "      <th></th>\n",
              "    </tr>\n",
              "  </thead>\n",
              "  <tbody>\n",
              "    <tr>\n",
              "      <th>BARNES JEWISH HOSPITAL</th>\n",
              "      <td>2015-04-01</td>\n",
              "      <td>2018-06-30</td>\n",
              "      <td>131313</td>\n",
              "    </tr>\n",
              "    <tr>\n",
              "      <th>BARNES-JEWISH ST PETERS HOSPITAL</th>\n",
              "      <td>2015-04-01</td>\n",
              "      <td>2018-06-30</td>\n",
              "      <td>15668</td>\n",
              "    </tr>\n",
              "    <tr>\n",
              "      <th>BARNES-JEWISH WEST COUNTY HOSPITAL</th>\n",
              "      <td>2015-04-01</td>\n",
              "      <td>2018-06-30</td>\n",
              "      <td>9622</td>\n",
              "    </tr>\n",
              "    <tr>\n",
              "      <th>BATES COUNTY MEMORIAL HOSPITAL</th>\n",
              "      <td>2015-07-01</td>\n",
              "      <td>2018-06-30</td>\n",
              "      <td>3117</td>\n",
              "    </tr>\n",
              "    <tr>\n",
              "      <th>BELTON REGIONAL MEDICAL CENTER</th>\n",
              "      <td>2015-04-01</td>\n",
              "      <td>2018-06-30</td>\n",
              "      <td>9270</td>\n",
              "    </tr>\n",
              "    <tr>\n",
              "      <th>...</th>\n",
              "      <td>...</td>\n",
              "      <td>...</td>\n",
              "      <td>...</td>\n",
              "    </tr>\n",
              "    <tr>\n",
              "      <th>TRUMAN MEDICAL CENTER LAKEWOOD</th>\n",
              "      <td>2015-04-01</td>\n",
              "      <td>2018-06-30</td>\n",
              "      <td>4297</td>\n",
              "    </tr>\n",
              "    <tr>\n",
              "      <th>UNIVERSITY OF MISSOURI HEALTH CARE</th>\n",
              "      <td>2015-04-01</td>\n",
              "      <td>2018-06-30</td>\n",
              "      <td>56493</td>\n",
              "    </tr>\n",
              "    <tr>\n",
              "      <th>WASHINGTON COUNTY MEMORIAL HOSPITAL</th>\n",
              "      <td>2015-07-01</td>\n",
              "      <td>2018-06-30</td>\n",
              "      <td>220</td>\n",
              "    </tr>\n",
              "    <tr>\n",
              "      <th>WESTERN MISSOURI MEDICAL CENTER</th>\n",
              "      <td>2015-04-01</td>\n",
              "      <td>2018-06-30</td>\n",
              "      <td>7254</td>\n",
              "    </tr>\n",
              "    <tr>\n",
              "      <th>WRIGHT MEMORIAL HOSPITAL</th>\n",
              "      <td>2015-07-01</td>\n",
              "      <td>2018-06-30</td>\n",
              "      <td>198</td>\n",
              "    </tr>\n",
              "  </tbody>\n",
              "</table>\n",
              "<p>108 rows × 3 columns</p>\n",
              "</div>\n",
              "    <div class=\"colab-df-buttons\">\n",
              "\n",
              "  <div class=\"colab-df-container\">\n",
              "    <button class=\"colab-df-convert\" onclick=\"convertToInteractive('df-a83b6b62-20e5-41da-8a41-61ee0acda5c8')\"\n",
              "            title=\"Convert this dataframe to an interactive table.\"\n",
              "            style=\"display:none;\">\n",
              "\n",
              "  <svg xmlns=\"http://www.w3.org/2000/svg\" height=\"24px\" viewBox=\"0 -960 960 960\">\n",
              "    <path d=\"M120-120v-720h720v720H120Zm60-500h600v-160H180v160Zm220 220h160v-160H400v160Zm0 220h160v-160H400v160ZM180-400h160v-160H180v160Zm440 0h160v-160H620v160ZM180-180h160v-160H180v160Zm440 0h160v-160H620v160Z\"/>\n",
              "  </svg>\n",
              "    </button>\n",
              "\n",
              "  <style>\n",
              "    .colab-df-container {\n",
              "      display:flex;\n",
              "      gap: 12px;\n",
              "    }\n",
              "\n",
              "    .colab-df-convert {\n",
              "      background-color: #E8F0FE;\n",
              "      border: none;\n",
              "      border-radius: 50%;\n",
              "      cursor: pointer;\n",
              "      display: none;\n",
              "      fill: #1967D2;\n",
              "      height: 32px;\n",
              "      padding: 0 0 0 0;\n",
              "      width: 32px;\n",
              "    }\n",
              "\n",
              "    .colab-df-convert:hover {\n",
              "      background-color: #E2EBFA;\n",
              "      box-shadow: 0px 1px 2px rgba(60, 64, 67, 0.3), 0px 1px 3px 1px rgba(60, 64, 67, 0.15);\n",
              "      fill: #174EA6;\n",
              "    }\n",
              "\n",
              "    .colab-df-buttons div {\n",
              "      margin-bottom: 4px;\n",
              "    }\n",
              "\n",
              "    [theme=dark] .colab-df-convert {\n",
              "      background-color: #3B4455;\n",
              "      fill: #D2E3FC;\n",
              "    }\n",
              "\n",
              "    [theme=dark] .colab-df-convert:hover {\n",
              "      background-color: #434B5C;\n",
              "      box-shadow: 0px 1px 3px 1px rgba(0, 0, 0, 0.15);\n",
              "      filter: drop-shadow(0px 1px 2px rgba(0, 0, 0, 0.3));\n",
              "      fill: #FFFFFF;\n",
              "    }\n",
              "  </style>\n",
              "\n",
              "    <script>\n",
              "      const buttonEl =\n",
              "        document.querySelector('#df-a83b6b62-20e5-41da-8a41-61ee0acda5c8 button.colab-df-convert');\n",
              "      buttonEl.style.display =\n",
              "        google.colab.kernel.accessAllowed ? 'block' : 'none';\n",
              "\n",
              "      async function convertToInteractive(key) {\n",
              "        const element = document.querySelector('#df-a83b6b62-20e5-41da-8a41-61ee0acda5c8');\n",
              "        const dataTable =\n",
              "          await google.colab.kernel.invokeFunction('convertToInteractive',\n",
              "                                                    [key], {});\n",
              "        if (!dataTable) return;\n",
              "\n",
              "        const docLinkHtml = 'Like what you see? Visit the ' +\n",
              "          '<a target=\"_blank\" href=https://colab.research.google.com/notebooks/data_table.ipynb>data table notebook</a>'\n",
              "          + ' to learn more about interactive tables.';\n",
              "        element.innerHTML = '';\n",
              "        dataTable['output_type'] = 'display_data';\n",
              "        await google.colab.output.renderOutput(dataTable, element);\n",
              "        const docLink = document.createElement('div');\n",
              "        docLink.innerHTML = docLinkHtml;\n",
              "        element.appendChild(docLink);\n",
              "      }\n",
              "    </script>\n",
              "  </div>\n",
              "\n",
              "\n",
              "<div id=\"df-a5d1bf2c-8bab-457f-a932-dc3f1eb1066e\">\n",
              "  <button class=\"colab-df-quickchart\" onclick=\"quickchart('df-a5d1bf2c-8bab-457f-a932-dc3f1eb1066e')\"\n",
              "            title=\"Suggest charts\"\n",
              "            style=\"display:none;\">\n",
              "\n",
              "<svg xmlns=\"http://www.w3.org/2000/svg\" height=\"24px\"viewBox=\"0 0 24 24\"\n",
              "     width=\"24px\">\n",
              "    <g>\n",
              "        <path d=\"M19 3H5c-1.1 0-2 .9-2 2v14c0 1.1.9 2 2 2h14c1.1 0 2-.9 2-2V5c0-1.1-.9-2-2-2zM9 17H7v-7h2v7zm4 0h-2V7h2v10zm4 0h-2v-4h2v4z\"/>\n",
              "    </g>\n",
              "</svg>\n",
              "  </button>\n",
              "\n",
              "<style>\n",
              "  .colab-df-quickchart {\n",
              "      --bg-color: #E8F0FE;\n",
              "      --fill-color: #1967D2;\n",
              "      --hover-bg-color: #E2EBFA;\n",
              "      --hover-fill-color: #174EA6;\n",
              "      --disabled-fill-color: #AAA;\n",
              "      --disabled-bg-color: #DDD;\n",
              "  }\n",
              "\n",
              "  [theme=dark] .colab-df-quickchart {\n",
              "      --bg-color: #3B4455;\n",
              "      --fill-color: #D2E3FC;\n",
              "      --hover-bg-color: #434B5C;\n",
              "      --hover-fill-color: #FFFFFF;\n",
              "      --disabled-bg-color: #3B4455;\n",
              "      --disabled-fill-color: #666;\n",
              "  }\n",
              "\n",
              "  .colab-df-quickchart {\n",
              "    background-color: var(--bg-color);\n",
              "    border: none;\n",
              "    border-radius: 50%;\n",
              "    cursor: pointer;\n",
              "    display: none;\n",
              "    fill: var(--fill-color);\n",
              "    height: 32px;\n",
              "    padding: 0;\n",
              "    width: 32px;\n",
              "  }\n",
              "\n",
              "  .colab-df-quickchart:hover {\n",
              "    background-color: var(--hover-bg-color);\n",
              "    box-shadow: 0 1px 2px rgba(60, 64, 67, 0.3), 0 1px 3px 1px rgba(60, 64, 67, 0.15);\n",
              "    fill: var(--button-hover-fill-color);\n",
              "  }\n",
              "\n",
              "  .colab-df-quickchart-complete:disabled,\n",
              "  .colab-df-quickchart-complete:disabled:hover {\n",
              "    background-color: var(--disabled-bg-color);\n",
              "    fill: var(--disabled-fill-color);\n",
              "    box-shadow: none;\n",
              "  }\n",
              "\n",
              "  .colab-df-spinner {\n",
              "    border: 2px solid var(--fill-color);\n",
              "    border-color: transparent;\n",
              "    border-bottom-color: var(--fill-color);\n",
              "    animation:\n",
              "      spin 1s steps(1) infinite;\n",
              "  }\n",
              "\n",
              "  @keyframes spin {\n",
              "    0% {\n",
              "      border-color: transparent;\n",
              "      border-bottom-color: var(--fill-color);\n",
              "      border-left-color: var(--fill-color);\n",
              "    }\n",
              "    20% {\n",
              "      border-color: transparent;\n",
              "      border-left-color: var(--fill-color);\n",
              "      border-top-color: var(--fill-color);\n",
              "    }\n",
              "    30% {\n",
              "      border-color: transparent;\n",
              "      border-left-color: var(--fill-color);\n",
              "      border-top-color: var(--fill-color);\n",
              "      border-right-color: var(--fill-color);\n",
              "    }\n",
              "    40% {\n",
              "      border-color: transparent;\n",
              "      border-right-color: var(--fill-color);\n",
              "      border-top-color: var(--fill-color);\n",
              "    }\n",
              "    60% {\n",
              "      border-color: transparent;\n",
              "      border-right-color: var(--fill-color);\n",
              "    }\n",
              "    80% {\n",
              "      border-color: transparent;\n",
              "      border-right-color: var(--fill-color);\n",
              "      border-bottom-color: var(--fill-color);\n",
              "    }\n",
              "    90% {\n",
              "      border-color: transparent;\n",
              "      border-bottom-color: var(--fill-color);\n",
              "    }\n",
              "  }\n",
              "</style>\n",
              "\n",
              "  <script>\n",
              "    async function quickchart(key) {\n",
              "      const quickchartButtonEl =\n",
              "        document.querySelector('#' + key + ' button');\n",
              "      quickchartButtonEl.disabled = true;  // To prevent multiple clicks.\n",
              "      quickchartButtonEl.classList.add('colab-df-spinner');\n",
              "      try {\n",
              "        const charts = await google.colab.kernel.invokeFunction(\n",
              "            'suggestCharts', [key], {});\n",
              "      } catch (error) {\n",
              "        console.error('Error during call to suggestCharts:', error);\n",
              "      }\n",
              "      quickchartButtonEl.classList.remove('colab-df-spinner');\n",
              "      quickchartButtonEl.classList.add('colab-df-quickchart-complete');\n",
              "    }\n",
              "    (() => {\n",
              "      let quickchartButtonEl =\n",
              "        document.querySelector('#df-a5d1bf2c-8bab-457f-a932-dc3f1eb1066e button');\n",
              "      quickchartButtonEl.style.display =\n",
              "        google.colab.kernel.accessAllowed ? 'block' : 'none';\n",
              "    })();\n",
              "  </script>\n",
              "</div>\n",
              "    </div>\n",
              "  </div>\n"
            ]
          },
          "metadata": {},
          "execution_count": 23
        }
      ]
    },
    {
      "cell_type": "markdown",
      "metadata": {
        "id": "TCt6Aj5BGt0j"
      },
      "source": [
        "---\n",
        "\n",
        "### 47.2 Planning your final project\n",
        "\n",
        "You should be thinking about the things we've been learning and how you can apply them to your final project.  Use the rubric to help guid your thinking and then answer the questions below.  This is meant as a guide to help you think through what you will do."
      ]
    },
    {
      "cell_type": "markdown",
      "metadata": {
        "id": "pwzf93g5Gt0k"
      },
      "source": [
        "#### A) Data Access\n",
        "\n",
        "Your project should include data from at least three distinct types of sources.  For example: AWS S3, Relational Databases, Internet, Web Services, local files.  List what data sources you're planning to use."
      ]
    },
    {
      "cell_type": "markdown",
      "metadata": {
        "id": "0y5eQXxFGt0k"
      },
      "source": [
        "\"I plan to use AWS S3 data for storing and retrieving large datasets for my project, a relational database (like MySQL) for structured data storage and retrieval, and web services for real-time data access.\" In addition, I may use data from local files. for example:\n",
        "I chose these two datasets one from internet and another from my local files I used for my previous assignment.\n",
        "\n",
        "1. https://www.cdc.gov/nchs/hus/sources-definitions/nhanes.htm -\n",
        "\n",
        "2. https://drive.google.com/drive/folders/1qFlpfTqorSMoPhVRBDH87MeYXc9Ltu-x?usp=drive_link - This is a BRF 2021 dataset - https://economistwritingeveryday.com/tag/brfss-csv/.\n",
        "\n"
      ]
    },
    {
      "cell_type": "markdown",
      "metadata": {
        "id": "pprKxctoGt0l"
      },
      "source": [
        "#### B. Data Formats\n",
        "\n",
        "Your project should include data that comes in different file formats.  For example: HL7, EDI, HTML, CSV, Excel, JSON, XML.  List what data formats you're planning to use."
      ]
    },
    {
      "cell_type": "markdown",
      "metadata": {
        "id": "yQ-sfuFoGt0l"
      },
      "source": [
        "\n",
        "\n",
        "\n",
        "For the BRFSS 2021 Dataset:\n",
        "\n",
        "I anticipate encountering data largely in CSV format. This is a popular format for such datasets and one with which I am familiar, particularly for huge data sets requiring substantial processing.\n",
        "\n",
        "For the NHANES Dataset:\n",
        "\n",
        "\n",
        "\n",
        "NHANES, like the BRFSS dataset, offers data in SAS and CSV formats. I'll be using the same tactics and tools for data processing and analysis here.\n",
        "\n",
        "My primary focus will be on efficiently managing and integrating CSV data types, which are prevalent in both datasets. I intend to utilize pandas for CSV files because it is outstanding for data manipulation and analysis.\n",
        "\n",
        "\n",
        "\n",
        "\n",
        "The ability to combine and evaluate data from these different sources is essential for the success of my project, and I'm committed to establishing a streamlined method for this purpose using Python in Google Colab. This will not only improve my analytical ability, but it will also ensure that I can efficiently manage huge and complex datasets.\""
      ]
    },
    {
      "cell_type": "markdown",
      "metadata": {
        "id": "FmHJmUY7Gt0m"
      },
      "source": [
        "#### C. Objective\n",
        "\n",
        "What purpose would your project serve in a real work setting?  Take a couple of paragraphs to write down why this is an interesting product."
      ]
    },
    {
      "cell_type": "markdown",
      "metadata": {
        "id": "oN4fqeoCGt0m"
      },
      "source": [
        "Objective:\n",
        "\n",
        "PURPOSE:\n",
        "\"My project's goal is to create a sophisticated data analysis tool that integrates and interprets data from the BRFSS 2021 and NHANES datasets.\" This application, which uses Python in a Google Colab environment, intends to discover major health and nutritional trends, risk factors, and their associations with various health outcomes. The goal is to process and analyze these large datasets in order to derive actionable insights that may be used to inform public health policies, medical research, and preventative healthcare practices. The research aims to find patterns and relationships that can improve our understanding of public health and nutrition dynamics in the population by using advanced data analytics and machine learning approaches.\"\n",
        "\n",
        "\n",
        "\n",
        "\n",
        "REAL-TIME APPLICATION: \"This analysis would be extremely valuable in a real-world healthcare and public health setting.\" In order to make educated judgments, public health professionals, lawmakers, and healthcare providers could use the tool's insights. It could, for example, aid in detecting prevalent risk factors for chronic diseases, evaluating nutritional inadequacies in different demographics and analyzing the efficiency of ongoing public health initiatives. The combination of these two important datasets - BRFSS, which focuses on behavioral risk factors, and NHANES, which covers a wide range of health and nutritional information - allows for a thorough examination of health-related issues affecting the population. Such knowledge might be used to guide targeted treatments, resource allocation, and policy creation aimed at improving public health outcomes.\"\n",
        "\n",
        "\n",
        "\n",
        "AIM and INTEREST:\n",
        "\"The approach to merging and analyzing two complex and diverse datasets in a unified platform is what makes this project unique.\" Using Python's data science skills in Google Colab not only makes massive datasets easier to handle, but it also provides a collaborative and accessible platform for researchers and healthcare practitioners. In this investigation, tools such as Pandas for data processing, Matplotlib and Seaborn for visualization, and machine learning libraries for predictive modeling would be useful. Furthermore, the project will address the difficulty of harmonizing the various data formats and structures found in BRFSS and NHANES in order to ensure a seamless integration procedure. The solution will also include ethical issues and data protection compliance, which are critical when dealing with sensitive health data. The aim of this study is on translating complex health data.\n",
        "\n",
        "\n"
      ]
    },
    {
      "cell_type": "markdown",
      "metadata": {
        "id": "8dT6WknnGt0m"
      },
      "source": [
        "\n",
        "\n",
        "---\n",
        "\n",
        "\n",
        "\n",
        "## Submit your work via GitHub as normal\n"
      ]
    }
  ],
  "metadata": {
    "kernelspec": {
      "display_name": "Python 3",
      "language": "python",
      "name": "python3"
    },
    "language_info": {
      "codemirror_mode": {
        "name": "ipython",
        "version": 3
      },
      "file_extension": ".py",
      "mimetype": "text/x-python",
      "name": "python",
      "nbconvert_exporter": "python",
      "pygments_lexer": "ipython3",
      "version": "3.9.16"
    },
    "colab": {
      "provenance": []
    }
  },
  "nbformat": 4,
  "nbformat_minor": 0
}