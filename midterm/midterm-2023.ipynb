{
  "cells": [
    {
      "cell_type": "markdown",
      "metadata": {
        "id": "mDZ47oqejmbm"
      },
      "source": [
        "# HDS5210-2022 Midterm\n",
        "\n",
        "In the midterm, you're going to use all the programming and data management skills you've developed so far to build a risk calculator that pretends to be integrated with a clinical registry.  You'll compute the PRIEST COVID-19 Clinical Severity Score for a series of patients and, based on their risk of an adverse outcome, query a REST web service to find a hospital to transfer them to. The end result of your work will be a list of instructions on where each patient should be discharged given their risk and various characteristics of the patient.\n",
        "\n",
        "Each step in the midterm will build up to form your complete solution.\n",
        "\n",
        "**Make sure you write good docstrings and doctests along the way!!**\n",
        "\n",
        "**The midterm is due at 11:59 PM CST on Monday, October 23rd.**\n",
        "\n",
        "---"
      ]
    },
    {
      "cell_type": "markdown",
      "metadata": {
        "id": "LELGcnQjjmbp"
      },
      "source": [
        "## Step 1: Calculate PRIEST Clinical Severity Score\n",
        "\n",
        "This scoring algorithm can be found [here on the MDCalc website](https://www.mdcalc.com/priest-covid-19-clinical-severity-score#evidence).  \n",
        "\n",
        "1. You will need to write a function called **priest()** with the following input parameters.  \n",
        " * Sex (Gender assigned at birth)\n",
        " * Age in years\n",
        " * Respiratory rate in breaths per minute\n",
        " * Oxygen saturation as a percent between 0 and 1\n",
        " * Heart rate in beats per minute\n",
        " * Systolic BP in mmHg\n",
        " * Temperature in degrees C\n",
        " * Alertness as a string description\n",
        " * Inspired Oxygen as as string description\n",
        " * Performance Status as a string description\n",
        "2. The function will need to follow the algorithm provided on the MDCalc website to compute a risk percentage that should be returned as a numeric value between 0 and 1.\n",
        "3. Be sure to use docstring documentation and at least three built-in docstring test cases.\n",
        "4. Assume that the input values that are strings could be any combination of upper or lower case. For example: 'male', 'Male', 'MALE', 'MalE' should all be interpretted by your code as male.\n",
        "5. If any of the inputs are invalid (for example a sex value that is not recognizable as male or female) your code should return None.\n",
        "\n",
        "NOTES:\n",
        "1. In the final step there is a table that translates from **PRIEST Score** to **30-day probability of an outcome** but the last two probabilities are shown as ranges (59-88% and >99%).  Our code needs to output a single number, however. For our code, use the following rule:\n",
        " * If PRIEST score is between 17 and 25, the probability you return should be 0.59\n",
        " * If PRIEST score is greater than or equal to 26, the probability you return should be 0.99\n"
      ]
    },
    {
      "cell_type": "code",
      "execution_count": 14,
      "metadata": {
        "id": "aCiChe7Ljmbq"
      },
      "outputs": [],
      "source": [
        "def priest(sex, age, respiratory_rate, oxygen_saturation, heart_rate, systolic_BP, temperature, alertness, inspired_oxygen, performance_status):\n",
        "\n",
        "\n",
        " '''This function's initial section determines an individual's COVID-19 severity based on their vital signs and a few other factors.\n",
        "    The MDCalc website provides the algorithm that was employed.\n",
        "    We can then forecast the likelihood of any negative effects the patient may experience over the course of the next 30 days based on the score.\n",
        "\n",
        "     >>> priest('FEMALE',40,24,0.96,105,115,39.9,'Alert','AIR','Unrestricted normal activity')\n",
        "     0.09\n",
        "     >>> priest('MaLe',32,20,0.93,100,110,32.2,'CONFUSED OR NOT ALERT','SUPPLEMENTAL OXYGEN','LIMITED SELF-CARE')\n",
        "     0.55\n",
        "     >>> priest ('FemalE', 22, 17, 0.98, 96, 103, 31.0, 'AleRT', 'AiR', 'BED/CHAIR bOuNd, no SELF-CARE')\n",
        "     0.26\n",
        "     >>> priest('MalE',65,24,0.87,90,99,36.5,'ConFusEd oR nOt AleRt','air','limited strenous activity, can do light activity')\n",
        "     0.47\n",
        "     >>> priest('male',50,20,0.90,87,95,35,'alert','supplemental oxygen','bed/chair bound, no self-care')\n",
        "     0.59\n",
        "     '''\n",
        "\n",
        " sex = sex.lower()\n",
        " if sex not in [\"male\", \"female\"]:\n",
        "  return None\n",
        " if sex == \"male\":\n",
        "  sex_score = 1\n",
        " elif sex == \"female\":\n",
        "  sex_score = 0\n",
        "\n",
        " if age >= 16 and age <= 49:\n",
        "   age_score = 0\n",
        " elif age >=50 and age <= 65:\n",
        "  age_score = 2\n",
        " elif age >=66 and age <= 80:\n",
        "  age_score = 3\n",
        " elif age > 80:\n",
        "  age_score = 4\n",
        " if respiratory_rate < 9:\n",
        "  respiratory_rate_score = 3\n",
        " elif respiratory_rate >= 9 and respiratory_rate <= 11:\n",
        "  respiratory_rate_score = 1\n",
        " elif respiratory_rate >= 12 and respiratory_rate <= 20:\n",
        "  respiratory_rate_score = 0\n",
        " elif respiratory_rate >= 21 and respiratory_rate <= 24:\n",
        "  respiratory_rate_score = 2\n",
        " elif respiratory_rate > 24:\n",
        "  respiratory_rate_score = 3\n",
        " if oxygen_saturation > 0.95:\n",
        "  oxygen_saturation_score = 0\n",
        " elif oxygen_saturation >= 0.94 and oxygen_saturation <= 0.95:\n",
        "  oxygen_saturation_score = 1\n",
        " elif oxygen_saturation >= 0.92 and oxygen_saturation <=0.93:\n",
        "  oxygen_saturation_score = 2\n",
        " elif oxygen_saturation < 0.92:\n",
        "  oxygen_saturation_score = 3\n",
        " if heart_rate < 41:\n",
        "  heart_rate_score = 3\n",
        " elif heart_rate >= 41 and heart_rate <= 50:\n",
        "  heart_rate_score = 1\n",
        " elif heart_rate >= 51 and heart_rate <= 90:\n",
        "  heart_rate_score = 0\n",
        " elif heart_rate >= 91 and heart_rate <= 110:\n",
        "  heart_rate_score = 1\n",
        " elif heart_rate >= 111 and heart_rate <= 130:\n",
        "  heart_rate_score = 2\n",
        " elif heart_rate > 130:\n",
        "  heart_rate_score = 3\n",
        " if systolic_BP < 91:\n",
        "  systolic_BP = 3\n",
        " elif systolic_BP >= 91 and systolic_BP <= 100:\n",
        "  systolic_BP = 2\n",
        " elif systolic_BP >= 101 and systolic_BP <= 110:\n",
        "  systolic_BP = 1\n",
        " elif systolic_BP >= 111 and systolic_BP <= 219:\n",
        "  systolic_BP = 0\n",
        " elif systolic_BP > 219:\n",
        "  systolic_BP = 3\n",
        " if temperature < 35.1:\n",
        "  temperature_score = 3\n",
        " elif temperature >= 35.1 and temperature <= 36.0:\n",
        "  temperature_score = 1\n",
        " elif temperature >= 36.1 and temperature <= 38.0:\n",
        "  temperature_score = 0\n",
        " elif temperature >= 38.1 and temperature <= 39.0:\n",
        "  temperature_score = 1\n",
        " elif temperature > 39.0:\n",
        "  temperature_score = 2\n",
        " alertness = alertness.lower()\n",
        " if alertness == \"alert\":\n",
        "  alertness_score = 0\n",
        " elif alertness == \"confused or not alert\":\n",
        "  alertness_score = 3\n",
        " if inspired_oxygen.lower() == \"air\":\n",
        "  inspired_oxygen_score = 0\n",
        " elif inspired_oxygen.lower() == \"supplemental oxygen\":\n",
        "  inspired_oxygen_score = 2\n",
        " if performance_status.lower() == \"unrestricted normal activity\":\n",
        "  performance_status_score = 0\n",
        " elif performance_status.lower() == \"limited strenous activity, can do light activity\":\n",
        "  performance_status_score = 1\n",
        " elif performance_status.lower() == \"limited activity, can self-care\":\n",
        "  performance_status_score = 2\n",
        " elif performance_status.lower() == \"limited self-care\":\n",
        "  performance_status_score = 3\n",
        " elif performance_status.lower() == \"bed/chair bound, no self-care\":\n",
        "  performance_status_score = 4\n",
        "\n",
        "\n",
        " risk_score = sum([sex_score, age_score, respiratory_rate_score, oxygen_saturation_score, heart_rate_score, systolic_BP, temperature_score, alertness_score, inspired_oxygen_score, performance_status_score])\n",
        " if risk_score >= 0 and risk_score <= 1:\n",
        "  risk = 0.01\n",
        " elif risk_score >=2 and risk_score <= 3:\n",
        "  risk = 0.02\n",
        " elif risk_score == 4:\n",
        "  risk = 0.03\n",
        " elif risk_score == 5:\n",
        "  risk = 0.09\n",
        " elif risk_score == 6:\n",
        "  risk = 0.15\n",
        " elif risk_score == 7:\n",
        "  risk = 0.18\n",
        " elif risk_score == 8:\n",
        "  risk = 0.22\n",
        " elif risk_score == 9:\n",
        "  risk = 0.26\n",
        " elif risk_score == 10:\n",
        "  risk = 0.29\n",
        " elif risk_score == 11:\n",
        "  risk = 0.29\n",
        " elif risk_score == 12:\n",
        "  risk = 0.38\n",
        " elif risk_score == 13:\n",
        "  risk = 0.46\n",
        " elif risk_score == 14:\n",
        "  risk = 0.47\n",
        " elif risk_score == 15:\n",
        "  risk = 0.49\n",
        " elif risk_score == 16:\n",
        "  risk = 0.55\n",
        " elif risk_score >= 17 and risk_score <= 25:\n",
        "  risk = 0.59\n",
        " elif risk_score >= 26:\n",
        "  risk = 0.99\n",
        " return risk"
      ]
    },
    {
      "cell_type": "code",
      "execution_count": 15,
      "metadata": {
        "id": "YWtfwEYnjmbr",
        "outputId": "c26d4d58-8a7f-428c-b6a2-034fce6567e5",
        "colab": {
          "base_uri": "https://localhost:8080/"
        }
      },
      "outputs": [
        {
          "output_type": "stream",
          "name": "stdout",
          "text": [
            "Finding tests in NoName\n",
            "Trying:\n",
            "    priest('FEMALE',40,24,0.96,105,115,39.9,'Alert','AIR','Unrestricted normal activity')\n",
            "Expecting:\n",
            "    0.09\n",
            "ok\n",
            "Trying:\n",
            "    priest('MaLe',32,20,0.93,100,110,32.2,'CONFUSED OR NOT ALERT','SUPPLEMENTAL OXYGEN','LIMITED SELF-CARE')\n",
            "Expecting:\n",
            "    0.55\n",
            "ok\n",
            "Trying:\n",
            "    priest ('FemalE', 22, 17, 0.98, 96, 103, 31.0, 'AleRT', 'AiR', 'BED/CHAIR bOuNd, no SELF-CARE')\n",
            "Expecting:\n",
            "    0.26\n",
            "ok\n",
            "Trying:\n",
            "    priest('MalE',65,24,0.87,90,99,36.5,'ConFusEd oR nOt AleRt','air','limited strenous activity, can do light activity')\n",
            "Expecting:\n",
            "    0.47\n",
            "ok\n",
            "Trying:\n",
            "    priest('male',50,20,0.90,87,95,35,'alert','supplemental oxygen','bed/chair bound, no self-care')\n",
            "Expecting:\n",
            "    0.59\n",
            "ok\n"
          ]
        }
      ],
      "source": [
        "import doctest\n",
        "doctest.run_docstring_examples(priest, globals(),verbose=True)"
      ]
    },
    {
      "cell_type": "markdown",
      "metadata": {
        "id": "cOnkyDubjmbr"
      },
      "source": [
        "## Part 2: Find a hospital\n",
        "\n",
        "The next thing we have to do is figure out where to send this particular patient.  The guidelines on where to send a patient are based on their age (pediatric, adult, geriatric), sex, and risk percentage.  Luckily, you don't have to implement these rules. I already have. All you have to do is use a REST web service that I've created for you.\n",
        "\n",
        "You'll want to use Python to make a call to my REST web service similar to the example URL below. The first part of the URL will be the same for everyone and every request that you make. What you will need to modify for each of your requests is the information after the question mark.\n",
        "\n",
        "```\n",
        "https://oumdj6oci2.execute-api.us-east-1.amazonaws.com/prd/?age=40&sex=male&risk_pct=0.1\n",
        "```\n",
        "\n",
        "The example above asks my web service where a 40-year old male with a risk of 10% should go.  What the web service will return back is a JSON string containing the information you need.  That JSON will look like this:\n",
        "\n",
        "```json\n",
        "{\n",
        "  \"age\": \"40\",\n",
        "  \"sex\": \"male\",\n",
        "  \"risk\": \"0.1\",\n",
        "  \"hospital\": \"Southwest Hospital and Medical Center\"\n",
        "}\n",
        "```\n",
        "\n",
        "My function is not smart enough to understand `'MALE'` is the same as `'male'`.  You have to send it exactly `'male'` or `'female'`\n",
        "\n",
        "1. Your job is to write a function called **find_hospital()** that takes age, sex, and risk as parameters.\n",
        "2. Your function should call this REST web service using the `requests` module\n",
        "3. Then your function will need to interpret the JSON it gets and return just the name of the hospital\n",
        "4. If anything fails, return None\n",
        "5. Include a good docstring with at least three test cases.\n"
      ]
    },
    {
      "cell_type": "code",
      "source": [
        "import requests\n",
        "import json\n",
        "def find_hospital(age, sex, risk):\n",
        "  '''This function analyzes the patient's age, sex, and risk score to identify which nearby facility to take them to in an emergency.\n",
        "  It does this by using the REST web service.\n",
        "\n",
        "  >>> find_hospital(45, 'male', 0.2)\n",
        "  'Southwest Hospital and Medical Center'\n",
        "  >>> find_hospital(65, 'male', 0.49)\n",
        "  'Wesley Woods Geriatric Hospital'\n",
        "  >>> find_hospital(29, 'female', 0.56)\n",
        "  'Emory Dunwoody Medical Center'\n",
        "  >>> find_hospital(19, 'female', 0.16)\n",
        "  'Select Specialty Hospital - Northeast Atlanta'\n",
        "  >>> find_hospital(22, 'female', 0.92)\n",
        "  'Emory Dunwoody Medical Center'\n",
        "  '''\n",
        "  url = f'https://oumdj6oci2.execute-api.us-east-1.amazonaws.com/prd/?age={age}&sex={sex}&risk_pct={risk}'\n",
        "  response = requests.get(url)\n",
        "  hospital_name = response.json()['hospital']\n",
        "  return hospital_name"
      ],
      "metadata": {
        "id": "KCGmzzlfvmUp"
      },
      "execution_count": 3,
      "outputs": []
    },
    {
      "cell_type": "code",
      "execution_count": 4,
      "metadata": {
        "id": "MuaFeiaHjmbs",
        "outputId": "a856fee9-66e4-42b1-8c1e-a46873341084",
        "colab": {
          "base_uri": "https://localhost:8080/"
        }
      },
      "outputs": [
        {
          "output_type": "stream",
          "name": "stdout",
          "text": [
            "Finding tests in NoName\n",
            "Trying:\n",
            "    find_hospital(45, 'male', 0.2)\n",
            "Expecting:\n",
            "    'Southwest Hospital and Medical Center'\n",
            "ok\n",
            "Trying:\n",
            "    find_hospital(65, 'male', 0.49)\n",
            "Expecting:\n",
            "    'Wesley Woods Geriatric Hospital'\n",
            "ok\n",
            "Trying:\n",
            "    find_hospital(29, 'female', 0.56)\n",
            "Expecting:\n",
            "    'Emory Dunwoody Medical Center'\n",
            "ok\n",
            "Trying:\n",
            "    find_hospital(19, 'female', 0.16)\n",
            "Expecting:\n",
            "    'Select Specialty Hospital - Northeast Atlanta'\n",
            "ok\n",
            "Trying:\n",
            "    find_hospital(22, 'female', 0.92)\n",
            "Expecting:\n",
            "    'Emory Dunwoody Medical Center'\n",
            "ok\n"
          ]
        }
      ],
      "source": [
        "import doctest\n",
        "doctest.run_docstring_examples(find_hospital, globals(),verbose=True)"
      ]
    },
    {
      "cell_type": "markdown",
      "metadata": {
        "id": "IuwXd9odjmbt"
      },
      "source": [
        "## Part 3: Get the address for that hospital from a JSON file\n",
        "\n",
        "Great! Now we have code to tell us which hospital to send someone to... but we don't know where that hospital is. The next function we need to create is one that looks up the address of that hospital.  All of these hospitals are in Atlanta, Georgia.  We're going to use the list from this webpage to lookup the address for that hospital, based on its name.  https://www.officialusa.com/stateguides/health/hospitals/georgia.html\n",
        "\n",
        "Because we skipped the section about Beautiful Soup and working with HTML, I've converted this information into a JSON document for you.  It's available for you here.  Your code should retrieve this file using the `requests` module.\n",
        "\n",
        "`https://drive.google.com/uc?export=download&id=1fIFD-NkcdiMu941N4GjyMDWxiKsFJBw-`\n",
        "\n",
        "1. You need to create a function called **get_address()** that takes hospital name as a parameter and searches the data from this JSON file for the hospital you want to find.\n",
        "2. Your code will have to load the JSON and return the correct hospital based on name.\n",
        "3. If the hospital name isn't found, the function should return None.\n",
        "4. Be sure to use good docstring documentation and includes at least 3 test cases."
      ]
    },
    {
      "cell_type": "code",
      "source": [
        "import requests\n",
        "\n",
        "def get_address(hospital_name):\n",
        "    \"\"\"\n",
        "    Retrieves the address for the given hospital name from a JSON file.\n",
        "\n",
        "    Args:\n",
        "    hospital_name (str): Name of the hospital.\n",
        "\n",
        "    Returns:\n",
        "    str or None: The address of the hospital. Returns None if the hospital name is not found.\n",
        "    >>> get_address('COOK MEDICAL CENTER')\n",
        "    '706 NORTH PARRISH AVENUE'\n",
        "\n",
        "    >>> get_address('PHOEBE PUTNEY MEMORIAL HOSPITAL')\n",
        "    '417 THIRD AVENUE'\n",
        "\n",
        "    >>> get_address(\"WALTON REHABILITATION HOSPITAL\")\n",
        "    '1355 INDEPENDENCE DRIVE'\n",
        "\n",
        "    \"\"\"\n",
        "    # URL for the JSON data\n",
        "    json_url = \"https://hds5210-data.s3.amazonaws.com/ga_hospitals.json\"\n",
        "\n",
        "    # Send a GET request to retrieve the JSON data\n",
        "    response = requests.get(json_url)\n",
        "\n",
        "    # Parse the JSON data if the response status code is 200 (OK)\n",
        "    if response.status_code == 200:\n",
        "        data = response.json()\n",
        "\n",
        "        # Search for the hospital by name\n",
        "        if hospital_name in data:\n",
        "            return data[hospital_name][\"ADDRESS\"]\n",
        "\n",
        "    # Return None if any part of the process fails\n",
        "    return None"
      ],
      "metadata": {
        "id": "XHNEUVmVaDBm"
      },
      "execution_count": null,
      "outputs": []
    },
    {
      "cell_type": "code",
      "source": [
        "import requests\n",
        "\n",
        "def get_address(hospital_name):\n",
        "    \"\"\"\n",
        "    Retrieves the address for the given hospital name from a JSON file.\n",
        "\n",
        "    Args:\n",
        "    hospital_name (str): Name of the hospital.\n",
        "\n",
        "    Returns:\n",
        "    str or None: The address of the hospital. Returns None if the hospital name is not found.\n",
        "    >>> get_address('COOK MEDICAL CENTER')\n",
        "    '706 NORTH PARRISH AVENUE'\n",
        "\n",
        "    >>> get_address('PHOEBE PUTNEY MEMORIAL HOSPITAL')\n",
        "    '417 THIRD AVENUE'\n",
        "\n",
        "    >>> get_address(\"WALTON REHABILITATION HOSPITAL\")\n",
        "    '1355 INDEPENDENCE DRIVE'\n",
        "\n",
        "    \"\"\"\n",
        "    # URL for the JSON data\n",
        "    json_url = \"https://hds5210-data.s3.amazonaws.com/ga_hospitals.json\"\n",
        "\n",
        "    # Send a GET request to retrieve the JSON data\n",
        "    response = requests.get(json_url)\n",
        "\n",
        "    # Parse the JSON data if the response status code is 200 (OK)\n",
        "    if response.status_code == 200:\n",
        "        data = response.json()\n",
        "\n",
        "        # Search for the hospital by name\n",
        "        if hospital_name in data:\n",
        "            return data[hospital_name][\"ADDRESS\"]\n",
        "\n",
        "    # Return None if any part of the process fails\n",
        "    return None"
      ],
      "metadata": {
        "id": "w09YDHBfO3Tz"
      },
      "execution_count": 5,
      "outputs": []
    },
    {
      "cell_type": "code",
      "source": [
        "import doctest\n",
        "doctest.run_docstring_examples(get_address, globals(),verbose=True)"
      ],
      "metadata": {
        "id": "8-PkUgtcs4JE",
        "outputId": "147bd25c-a53e-48ab-ef80-446dfe9db02c",
        "colab": {
          "base_uri": "https://localhost:8080/"
        }
      },
      "execution_count": 6,
      "outputs": [
        {
          "output_type": "stream",
          "name": "stdout",
          "text": [
            "Finding tests in NoName\n",
            "Trying:\n",
            "    get_address('COOK MEDICAL CENTER')\n",
            "Expecting:\n",
            "    '706 NORTH PARRISH AVENUE'\n",
            "ok\n",
            "Trying:\n",
            "    get_address('PHOEBE PUTNEY MEMORIAL HOSPITAL')\n",
            "Expecting:\n",
            "    '417 THIRD AVENUE'\n",
            "ok\n",
            "Trying:\n",
            "    get_address(\"WALTON REHABILITATION HOSPITAL\")\n",
            "Expecting:\n",
            "    '1355 INDEPENDENCE DRIVE'\n",
            "ok\n"
          ]
        }
      ]
    },
    {
      "cell_type": "markdown",
      "metadata": {
        "id": "nKuz1vbIjmbt"
      },
      "source": [
        "## Part 4: Run the risk calculator on a population\n",
        "\n",
        "At the link below, there is a file called `people.psv`.  It is a pipe-delimited (`|`) file with columns that match the inputs for the PRIEST calculation above.  Your code should use the `requests` module to retrieve the file from this URL.\n",
        "\n",
        "`https://drive.google.com/uc?export=download&id=1fLxJN9YGUqmqExrilxSS8furwUER5HHh`\n",
        "\n",
        "\n",
        "In addition, the file has a patient identifier in the first column.\n",
        "\n",
        "1. Write a function called **process_people()** that takes the file location above as its only parameter. Your Python program should use your code above to process all of these rows, determine the hospital and address, and return a list whose items are a dictionary like this: `{ patient_number: [sex, age, breath, o2sat, heart, systolic, temp, alertness, inspired, status, hospital, address]}`.  Look at the file in Part 5 for what the output looks like.\n",
        "2. Be sure to use good docstrings, but you don't need any tests in your doc strings.  I've provided those for you withe file in Part 5.\n",
        "\n",
        "\n",
        "**NOTE** that when running your code for all the 100 records in the `people.psv` file, it may take a few minutes to complete.  You're making multiple calls to the internet for each record, so that can take a little while.\n"
      ]
    },
    {
      "cell_type": "code",
      "source": [
        "def process_people(file_location):\n",
        "    response = requests.get(file_location)\n",
        "    data = response.text.split('\\n')\n",
        "    result = {}\n",
        "\n",
        "    for line in data[1:]:\n",
        "        if line.strip():  # Skips empty lines\n",
        "            row = line.strip().split(\"|\")\n",
        "            patient_number = row[0]\n",
        "            sex = row[1].capitalize()\n",
        "            age = int(row[2])\n",
        "            breath = int(row[3])\n",
        "            o2sat = float(row[4])\n",
        "            heart = int(row[5])\n",
        "            systolic = int(row[6])\n",
        "            temp = float(row[7])\n",
        "            alertness = row[8].capitalize()\n",
        "            inspired = row[9].capitalize()\n",
        "            status = row[10].capitalize()\n",
        "\n",
        "            # Call the risk_calculator function and other necessary functions to get the hospital and address\n",
        "            risk_score = priest(sex, age, breath, o2sat, heart, systolic, temp, alertness, inspired, status)\n",
        "            hospital = find_hospital(age, sex, risk_score)\n",
        "            address = get_address(hospital)\n",
        "\n",
        "            # Update the result dictionary\n",
        "            result[patient_number] = [\n",
        "                sex,\n",
        "                age,\n",
        "                breath,\n",
        "                o2sat,\n",
        "                heart,\n",
        "                systolic,\n",
        "                temp,\n",
        "                alertness,\n",
        "                inspired,\n",
        "                status,\n",
        "                risk_score,\n",
        "                hospital,\n",
        "                address\n",
        "            ]\n",
        "\n",
        "    return result\n"
      ],
      "metadata": {
        "id": "ljwGY3Xcoi3T"
      },
      "execution_count": 19,
      "outputs": []
    },
    {
      "cell_type": "code",
      "source": [
        "import requests\n",
        "import json\n",
        "\n",
        "def risk_calculator(sex, age, breath, o2sat, heart, systolic, temp, alertness, inspired, status):\n",
        "    \"\"\"\n",
        "    Calculate the risk, hospital, and address based on the provided parameters.\n",
        "\n",
        "    Args:\n",
        "        sex (str): Gender assigned at birth, 'male' or 'female'.\n",
        "        age (int): Age in years.\n",
        "        breath (int): Respiratory rate in breaths per minute.\n",
        "        o2sat (float): Oxygen saturation, a percent as a float between 0 and 1.\n",
        "        heart (int): Heart rate in beats per minute.\n",
        "        systolic (int): Systolic blood pressure in mmHg.\n",
        "        temp (float): Temperature in degrees Celsius.\n",
        "        alertness (str): Description of alertness, e.g., 'alert'.\n",
        "        inspired (str): Description of oxygen source, e.g., 'air'.\n",
        "        status (str): Description of physical activity, e.g., 'unrestricted normal activity'.\n",
        "\n",
        "    Returns:\n",
        "        tuple: A tuple containing risk score (float), hospital name (str), and hospital address (str).\n",
        "    \"\"\"\n",
        "    # Placeholder implementation for risk calculation\n",
        "    risk_score = 0.0\n",
        "\n",
        "    # Placeholder implementation for hospital and address\n",
        "    hospital_name = find_hospital(age, sex, risk_score)\n",
        "    hospital_address = get_address(hospital_name)\n",
        "\n",
        "    return risk_score, hospital_name, hospital_address\n",
        "\n",
        "def find_hospital(age, sex, risk_score):\n",
        "    \"\"\"\n",
        "    Find the hospital based on the patient's age, sex, and risk score.\n",
        "\n",
        "    Args:\n",
        "        age (int): The age of the patient.\n",
        "        sex (str): The sex of the patient ('male' or 'female').\n",
        "        risk_score (float): The calculated risk score.\n",
        "\n",
        "    Returns:\n",
        "        str: The name of the hospital.\n",
        "    \"\"\"\n",
        "    try:\n",
        "        url = f'https://oumdj6oci2.execute-api.us-east-1.amazonaws.com/prd/?age={age}&sex={sex}&risk_pct={risk_score}'\n",
        "        response = requests.get(url)\n",
        "        response.raise_for_status()\n",
        "        data = response.json()\n",
        "        hospital_name = data.get('hospital')\n",
        "        return hospital_name\n",
        "    except (requests.RequestException, json.JSONDecodeError, KeyError):\n",
        "        return None\n",
        "\n",
        "def get_address(hospital_name):\n",
        "    \"\"\"\n",
        "    Retrieve the address of a hospital based on its name from a JSON file.\n",
        "\n",
        "    Args:\n",
        "        hospital_name (str): The name of the hospital to search for.\n",
        "\n",
        "    Returns:\n",
        "        str or None: The address of the hospital if found, or None if not found.\n",
        "    \"\"\"\n",
        "    try:\n",
        "        # Define the URL for the JSON file\n",
        "        json_url = 'https://hds5210-data.s3.amazonaws.com/ga_hospitals.json'\n",
        "\n",
        "        # Send a GET request to download the JSON data\n",
        "        response = requests.get(json_url)\n",
        "\n",
        "        # Check if the request was successful\n",
        "        response.raise_for_status()\n",
        "\n",
        "        # Load JSON data\n",
        "        hospital_data = json.loads(response.text)\n",
        "\n",
        "        # Search for the hospital by name (case-insensitive)\n",
        "        for key, value in hospital_data.items():\n",
        "            if hospital_name.lower() in key.lower():\n",
        "                return value.get('ADDRESS')\n",
        "\n",
        "        # If the hospital name is not found, return None\n",
        "        return None\n",
        "    except (requests.RequestException, json.JSONDecodeError, KeyError):\n",
        "        return None\n",
        "\n",
        "def process_people(file_location):\n",
        "    \"\"\"\n",
        "    Process the people.psv file and calculate the risk for each individual.\n",
        "\n",
        "    Args:\n",
        "        file_location (str): The URL of the .psv file containing patient information.\n",
        "\n",
        "    Returns:\n",
        "        list: A list of dictionaries where each dictionary represents a patient's information along with calculated risk.\n",
        "    \"\"\"\n",
        "    response = requests.get(file_location)\n",
        "    data = response.text.split('\\n')\n",
        "    result = {}\n",
        "\n",
        "    for line in data[1:]:\n",
        "        if line.strip():  # Skips empty lines\n",
        "            row = line.strip().split(\"|\")\n",
        "            patient_number = row[0]\n",
        "            sex = row[1].upper()\n",
        "            age = int(row[2])\n",
        "            breath = int(row[3])\n",
        "            o2sat = float(row[4])\n",
        "            heart = int(row[5])\n",
        "            systolic = int(row[6])\n",
        "            temp = float(row[7])\n",
        "            alertness = row[8].upper()\n",
        "            inspired = row[9].upper()\n",
        "            status = row[10].upper()\n",
        "\n",
        "            # Call risk_calculator function\n",
        "            risk_score, hospital, address = risk_calculator(sex, age, breath, o2sat, heart, systolic, temp, alertness, inspired, status)\n",
        "\n",
        "            if patient_number in result:\n",
        "                result[patient_number].append([sex, age, breath, o2sat, heart, systolic, temp, alertness, inspired, status, hospital, address])\n",
        "            else:\n",
        "                result[patient_number] = [sex, age, breath, o2sat, heart, systolic, temp, alertness, inspired, status, hospital, address]\n",
        "\n",
        "    return result\n",
        "\n",
        "# Example usage:\n",
        "file_location = 'https://drive.google.com/uc?export=download&id=1fLxJN9YGUqmqExrilxSS8furwUER5HHh'\n",
        "result = process_people(file_location)\n",
        "\n",
        "# Save the results to a JSON file\n",
        "with open('your_results.json', 'w') as output_file:\n",
        "    json.dump(result, output_file, indent=4)\n",
        "\n",
        "print(result)"
      ],
      "metadata": {
        "id": "V-oO-NC-AYwt",
        "outputId": "2eb9d7e9-defa-45ff-b7c2-be59ab310f41",
        "colab": {
          "base_uri": "https://localhost:8080/"
        }
      },
      "execution_count": 9,
      "outputs": [
        {
          "output_type": "stream",
          "name": "stdout",
          "text": [
            "{'E9559': ['FEMALE', 40, 24, 0.96, 105, 115, 34.9, 'ALERT', 'AIR', 'UNRESTRICTED NORMAL ACTIVITY', 'Select Specialty Hospital - Northeast Atlanta', '1821 CLIFTON ROAD NE'], 'E9385': ['FEMALE', 51, 19, 0.99, 90, 91, 38.1, 'ALERT', 'SUPPLEMENTAL OXYGEN', 'UNRESTRICTED NORMAL ACTIVITY', 'Select Specialty Hospital - Northeast Atlanta', '1821 CLIFTON ROAD NE'], 'E3067': ['FEMALE', 40, 29, 0.96, 105, 95, 38.1, 'ALERT', 'AIR', 'UNRESTRICTED NORMAL ACTIVITY', 'Select Specialty Hospital - Northeast Atlanta', '1821 CLIFTON ROAD NE'], 'E9422': ['FEMALE', 66, 19, 0.96, 135, 115, 38.1, 'ALERT', 'AIR', 'BED/CHAIR BOUND, NO SELF-CARE', 'Wesley Woods Geriatric Hospital', '1821 CLIFTON ROAD, NE'], 'E8661': ['MALE', 18, 22, 0.95, 105, 115, 36.3, 'CONFUSED OR NOT ALERT', 'AIR', 'UNRESTRICTED NORMAL ACTIVITY', 'Southwest Hospital and Medical Center', '501 FAIRBURN ROAD SW'], 'E6235': ['MALE', 16, 23, 0.96, 135, 115, 39.2, 'ALERT', 'SUPPLEMENTAL OXYGEN', 'UNRESTRICTED NORMAL ACTIVITY', 'Childrens Healthcare of Atlanta at Scottish Rite', '1001 JOHNSON FERRY RD'], 'E4451': ['MALE', 40, 8, 0.96, 135, 115, 38.1, 'ALERT', 'AIR', 'UNRESTRICTED NORMAL ACTIVITY', 'Southwest Hospital and Medical Center', '501 FAIRBURN ROAD SW'], 'E8433': ['FEMALE', 40, 23, 0.99, 89, 91, 38.1, 'ALERT', 'AIR', 'LIMITED SELF-CARE', 'Select Specialty Hospital - Northeast Atlanta', '1821 CLIFTON ROAD NE'], 'E7593': ['FEMALE', 80, 23, 0.96, 105, 115, 38.1, 'ALERT', 'SUPPLEMENTAL OXYGEN', 'LIMITED ACTIVITY, CAN SELF-CARE', 'Wesley Woods Geriatric Hospital', '1821 CLIFTON ROAD, NE'], 'E3296': ['MALE', 51, 23, 0.95, 105, 115, 38.1, 'ALERT', 'AIR', 'UNRESTRICTED NORMAL ACTIVITY', 'Southwest Hospital and Medical Center', '501 FAIRBURN ROAD SW'], 'E4157': ['FEMALE', 40, 23, 0.96, 41, 115, 35.4, 'ALERT', 'AIR', 'UNRESTRICTED NORMAL ACTIVITY', 'Select Specialty Hospital - Northeast Atlanta', '1821 CLIFTON ROAD NE'], 'E7702': ['FEMALE', 40, 22, 0.96, 105, 115, 38.1, 'ALERT', 'SUPPLEMENTAL OXYGEN', 'UNRESTRICTED NORMAL ACTIVITY', 'Select Specialty Hospital - Northeast Atlanta', '1821 CLIFTON ROAD NE'], 'E8158': ['MALE', 40, 20, 0.99, 135, 115, 39.2, 'ALERT', 'AIR', 'UNRESTRICTED NORMAL ACTIVITY', 'Southwest Hospital and Medical Center', '501 FAIRBURN ROAD SW'], 'E4795': ['FEMALE', 80, 11, 0.93, 105, 95, 40.8, 'ALERT', 'AIR', 'LIMITED ACTIVITY, CAN SELF-CARE', 'Wesley Woods Geriatric Hospital', '1821 CLIFTON ROAD, NE'], 'E8800': ['MALE', 80, 22, 0.96, 105, 115, 39.2, 'CONFUSED OR NOT ALERT', 'AIR', 'LIMITED ACTIVITY, CAN SELF-CARE', 'Wesley Woods Geriatric Hospital', '1821 CLIFTON ROAD, NE'], 'E4855': ['FEMALE', 51, 23, 0.94, 135, 115, 38.1, 'ALERT', 'AIR', 'LIMITED STRENUOUS ACTIVITY, CAN DO LIGHT ACTIVITY', 'Select Specialty Hospital - Northeast Atlanta', '1821 CLIFTON ROAD NE'], 'E9691': ['MALE', 16, 10, 0.96, 105, 115, 38.1, 'ALERT', 'AIR', 'UNRESTRICTED NORMAL ACTIVITY', 'Childrens Healthcare of Atlanta at Scottish Rite', '1001 JOHNSON FERRY RD'], 'E4535': ['FEMALE', 19, 11, 0.99, 105, 115, 35.4, 'ALERT', 'AIR', 'UNRESTRICTED NORMAL ACTIVITY', 'Select Specialty Hospital - Northeast Atlanta', '1821 CLIFTON ROAD NE'], 'E2360': ['MALE', 40, 20, 0.96, 51, 95, 34.9, 'ALERT', 'SUPPLEMENTAL OXYGEN', 'UNRESTRICTED NORMAL ACTIVITY', 'Southwest Hospital and Medical Center', '501 FAIRBURN ROAD SW'], 'E3447': ['MALE', 80, 22, 0.96, 41, 115, 38.1, 'ALERT', 'AIR', 'LIMITED ACTIVITY, CAN SELF-CARE', 'Wesley Woods Geriatric Hospital', '1821 CLIFTON ROAD, NE'], 'E8208': ['FEMALE', 18, 23, 0.96, 135, 115, 38.1, 'ALERT', 'AIR', 'UNRESTRICTED NORMAL ACTIVITY', 'Select Specialty Hospital - Northeast Atlanta', '1821 CLIFTON ROAD NE'], 'E4428': ['FEMALE', 40, 23, 0.96, 38, 115, 36.3, 'ALERT', 'AIR', 'UNRESTRICTED NORMAL ACTIVITY', 'Select Specialty Hospital - Northeast Atlanta', '1821 CLIFTON ROAD NE'], 'E2766': ['MALE', 18, 23, 0.96, 105, 115, 34.9, 'ALERT', 'AIR', 'UNRESTRICTED NORMAL ACTIVITY', 'Southwest Hospital and Medical Center', '501 FAIRBURN ROAD SW'], 'E3888': ['FEMALE', 51, 19, 0.96, 135, 115, 34.9, 'ALERT', 'AIR', 'UNRESTRICTED NORMAL ACTIVITY', 'Select Specialty Hospital - Northeast Atlanta', '1821 CLIFTON ROAD NE'], 'E7110': ['FEMALE', 85, 24, 0.99, 105, 101, 40.8, 'CONFUSED OR NOT ALERT', 'AIR', 'UNRESTRICTED NORMAL ACTIVITY', 'Wesley Woods Geriatric Hospital', '1821 CLIFTON ROAD, NE'], 'E2668': ['FEMALE', 18, 22, 0.96, 105, 101, 38.1, 'ALERT', 'AIR', 'UNRESTRICTED NORMAL ACTIVITY', 'Select Specialty Hospital - Northeast Atlanta', '1821 CLIFTON ROAD NE'], 'E8482': ['MALE', 40, 22, 0.96, 105, 230, 36.3, 'ALERT', 'AIR', 'LIMITED SELF-CARE', 'Southwest Hospital and Medical Center', '501 FAIRBURN ROAD SW'], 'E9619': ['FEMALE', 40, 11, 0.98, 41, 115, 38.1, 'ALERT', 'AIR', 'UNRESTRICTED NORMAL ACTIVITY', 'Select Specialty Hospital - Northeast Atlanta', '1821 CLIFTON ROAD NE'], 'E1700': ['MALE', 40, 23, 0.96, 105, 115, 38.1, 'CONFUSED OR NOT ALERT', 'AIR', 'UNRESTRICTED NORMAL ACTIVITY', 'Southwest Hospital and Medical Center', '501 FAIRBURN ROAD SW'], 'E8585': ['MALE', 19, 8, 0.96, 105, 115, 36.3, 'ALERT', 'AIR', 'BED/CHAIR BOUND, NO SELF-CARE', 'Southwest Hospital and Medical Center', '501 FAIRBURN ROAD SW'], 'E8633': ['FEMALE', 40, 22, 0.96, 38, 91, 35.4, 'ALERT', 'AIR', 'UNRESTRICTED NORMAL ACTIVITY', 'Select Specialty Hospital - Northeast Atlanta', '1821 CLIFTON ROAD NE'], 'E2117': ['FEMALE', 16, 22, 0.96, 135, 115, 39.2, 'CONFUSED OR NOT ALERT', 'SUPPLEMENTAL OXYGEN', 'BED/CHAIR BOUND, NO SELF-CARE', 'Childrens Healthcare of Atlanta at Scottish Rite', '1001 JOHNSON FERRY RD'], 'E2322': ['FEMALE', 18, 22, 0.96, 105, 115, 38.1, 'ALERT', 'SUPPLEMENTAL OXYGEN', 'UNRESTRICTED NORMAL ACTIVITY', 'Select Specialty Hospital - Northeast Atlanta', '1821 CLIFTON ROAD NE'], 'E6912': ['FEMALE', 51, 23, 0.96, 105, 95, 34.9, 'ALERT', 'AIR', 'UNRESTRICTED NORMAL ACTIVITY', 'Select Specialty Hospital - Northeast Atlanta', '1821 CLIFTON ROAD NE'], 'E5702': ['MALE', 80, 23, 0.96, 135, 115, 38.1, 'ALERT', 'AIR', 'UNRESTRICTED NORMAL ACTIVITY', 'Wesley Woods Geriatric Hospital', '1821 CLIFTON ROAD, NE'], 'E5513': ['FEMALE', 18, 12, 0.96, 105, 115, 38.1, 'ALERT', 'AIR', 'UNRESTRICTED NORMAL ACTIVITY', 'Select Specialty Hospital - Northeast Atlanta', '1821 CLIFTON ROAD NE'], 'E1861': ['FEMALE', 18, 22, 0.96, 105, 230, 38.1, 'ALERT', 'AIR', 'LIMITED STRENUOUS ACTIVITY, CAN DO LIGHT ACTIVITY', 'Select Specialty Hospital - Northeast Atlanta', '1821 CLIFTON ROAD NE'], 'E4809': ['FEMALE', 40, 22, 0.96, 41, 230, 38.1, 'ALERT', 'AIR', 'UNRESTRICTED NORMAL ACTIVITY', 'Select Specialty Hospital - Northeast Atlanta', '1821 CLIFTON ROAD NE'], 'E1365': ['MALE', 22, 22, 0.96, 115, 101, 35.4, 'ALERT', 'AIR', 'BED/CHAIR BOUND, NO SELF-CARE', 'Southwest Hospital and Medical Center', '501 FAIRBURN ROAD SW'], 'E5984': ['MALE', 40, 12, 0.93, 105, 91, 35.1, 'ALERT', 'AIR', 'LIMITED ACTIVITY, CAN SELF-CARE', 'Southwest Hospital and Medical Center', '501 FAIRBURN ROAD SW'], 'E7013': ['FEMALE', 66, 23, 0.96, 135, 89, 40.8, 'ALERT', 'SUPPLEMENTAL OXYGEN', 'UNRESTRICTED NORMAL ACTIVITY', 'Wesley Woods Geriatric Hospital', '1821 CLIFTON ROAD, NE'], 'E2331': ['FEMALE', 18, 23, 0.98, 105, 115, 38.1, 'ALERT', 'AIR', 'LIMITED SELF-CARE', 'Select Specialty Hospital - Northeast Atlanta', '1821 CLIFTON ROAD NE'], 'E9938': ['MALE', 18, 12, 0.96, 105, 89, 35.1, 'ALERT', 'AIR', 'UNRESTRICTED NORMAL ACTIVITY', 'Southwest Hospital and Medical Center', '501 FAIRBURN ROAD SW'], 'E5121': ['FEMALE', 18, 23, 0.96, 41, 95, 38.1, 'ALERT', 'SUPPLEMENTAL OXYGEN', 'LIMITED ACTIVITY, CAN SELF-CARE', 'Select Specialty Hospital - Northeast Atlanta', '1821 CLIFTON ROAD NE'], 'E9280': ['MALE', 65, 10, 0.96, 135, 91, 38.1, 'ALERT', 'AIR', 'UNRESTRICTED NORMAL ACTIVITY', 'Wesley Woods Geriatric Hospital', '1821 CLIFTON ROAD, NE'], 'E4762': ['FEMALE', 40, 12, 0.98, 105, 95, 38.1, 'ALERT', 'AIR', 'UNRESTRICTED NORMAL ACTIVITY', 'Select Specialty Hospital - Northeast Atlanta', '1821 CLIFTON ROAD NE'], 'E6885': ['MALE', 18, 23, 0.93, 89, 115, 35.1, 'CONFUSED OR NOT ALERT', 'AIR', 'LIMITED ACTIVITY, CAN SELF-CARE', 'Southwest Hospital and Medical Center', '501 FAIRBURN ROAD SW'], 'E1695': ['FEMALE', 40, 22, 0.96, 41, 115, 38.1, 'ALERT', 'AIR', 'UNRESTRICTED NORMAL ACTIVITY', 'Select Specialty Hospital - Northeast Atlanta', '1821 CLIFTON ROAD NE'], 'E9658': ['FEMALE', 18, 10, 0.96, 90, 230, 38.1, 'ALERT', 'AIR', 'LIMITED SELF-CARE', 'Select Specialty Hospital - Northeast Atlanta', '1821 CLIFTON ROAD NE'], 'E1961': ['FEMALE', 65, 23, 0.96, 105, 115, 40.8, 'ALERT', 'AIR', 'LIMITED ACTIVITY, CAN SELF-CARE', 'Wesley Woods Geriatric Hospital', '1821 CLIFTON ROAD, NE'], 'E9154': ['FEMALE', 66, 8, 0.94, 105, 89, 35.4, 'ALERT', 'AIR', 'BED/CHAIR BOUND, NO SELF-CARE', 'Wesley Woods Geriatric Hospital', '1821 CLIFTON ROAD, NE'], 'E9417': ['FEMALE', 40, 23, 0.96, 105, 95, 38.1, 'ALERT', 'AIR', 'UNRESTRICTED NORMAL ACTIVITY', 'Select Specialty Hospital - Northeast Atlanta', '1821 CLIFTON ROAD NE'], 'E9979': ['MALE', 18, 8, 0.96, 105, 115, 38.1, 'ALERT', 'AIR', 'LIMITED STRENUOUS ACTIVITY, CAN DO LIGHT ACTIVITY', 'Southwest Hospital and Medical Center', '501 FAIRBURN ROAD SW'], 'E9316': ['MALE', 18, 23, 0.96, 135, 115, 38.1, 'ALERT', 'AIR', 'UNRESTRICTED NORMAL ACTIVITY', 'Southwest Hospital and Medical Center', '501 FAIRBURN ROAD SW'], 'E8146': ['MALE', 18, 12, 0.96, 115, 115, 38.1, 'ALERT', 'AIR', 'UNRESTRICTED NORMAL ACTIVITY', 'Southwest Hospital and Medical Center', '501 FAIRBURN ROAD SW'], 'E3093': ['FEMALE', 40, 29, 0.96, 105, 95, 38.1, 'ALERT', 'AIR', 'UNRESTRICTED NORMAL ACTIVITY', 'Select Specialty Hospital - Northeast Atlanta', '1821 CLIFTON ROAD NE'], 'E8829': ['MALE', 65, 12, 0.96, 51, 230, 38.1, 'ALERT', 'AIR', 'UNRESTRICTED NORMAL ACTIVITY', 'Wesley Woods Geriatric Hospital', '1821 CLIFTON ROAD, NE'], 'E1453': ['MALE', 18, 24, 0.99, 105, 115, 38.1, 'ALERT', 'AIR', 'UNRESTRICTED NORMAL ACTIVITY', 'Southwest Hospital and Medical Center', '501 FAIRBURN ROAD SW'], 'E5777': ['FEMALE', 66, 23, 0.96, 115, 89, 38.1, 'ALERT', 'AIR', 'LIMITED STRENUOUS ACTIVITY, CAN DO LIGHT ACTIVITY', 'Wesley Woods Geriatric Hospital', '1821 CLIFTON ROAD, NE'], 'E4564': ['FEMALE', 18, 24, 0.96, 41, 115, 35.1, 'CONFUSED OR NOT ALERT', 'AIR', 'UNRESTRICTED NORMAL ACTIVITY', 'Select Specialty Hospital - Northeast Atlanta', '1821 CLIFTON ROAD NE'], 'E1904': ['FEMALE', 40, 22, 0.93, 38, 95, 38.1, 'CONFUSED OR NOT ALERT', 'AIR', 'UNRESTRICTED NORMAL ACTIVITY', 'Select Specialty Hospital - Northeast Atlanta', '1821 CLIFTON ROAD NE'], 'E8746': ['FEMALE', 40, 12, 0.93, 105, 115, 38.1, 'ALERT', 'AIR', 'UNRESTRICTED NORMAL ACTIVITY', 'Select Specialty Hospital - Northeast Atlanta', '1821 CLIFTON ROAD NE'], 'E9165': ['FEMALE', 19, 22, 0.98, 50, 95, 38.1, 'ALERT', 'AIR', 'LIMITED ACTIVITY, CAN SELF-CARE', 'Select Specialty Hospital - Northeast Atlanta', '1821 CLIFTON ROAD NE'], 'E9305': ['FEMALE', 40, 8, 0.89, 105, 101, 38.1, 'ALERT', 'SUPPLEMENTAL OXYGEN', 'UNRESTRICTED NORMAL ACTIVITY', 'Select Specialty Hospital - Northeast Atlanta', '1821 CLIFTON ROAD NE'], 'E3217': ['FEMALE', 40, 10, 0.95, 105, 95, 38.1, 'ALERT', 'AIR', 'UNRESTRICTED NORMAL ACTIVITY', 'Select Specialty Hospital - Northeast Atlanta', '1821 CLIFTON ROAD NE'], 'E3127': ['FEMALE', 40, 8, 0.96, 38, 115, 36.3, 'ALERT', 'AIR', 'LIMITED STRENUOUS ACTIVITY, CAN DO LIGHT ACTIVITY', 'Select Specialty Hospital - Northeast Atlanta', '1821 CLIFTON ROAD NE'], 'E7501': ['FEMALE', 18, 23, 0.96, 135, 115, 38.1, 'ALERT', 'AIR', 'UNRESTRICTED NORMAL ACTIVITY', 'Select Specialty Hospital - Northeast Atlanta', '1821 CLIFTON ROAD NE'], 'E4997': ['FEMALE', 40, 23, 0.94, 105, 115, 36.3, 'ALERT', 'AIR', 'UNRESTRICTED NORMAL ACTIVITY', 'Select Specialty Hospital - Northeast Atlanta', '1821 CLIFTON ROAD NE'], 'E6181': ['FEMALE', 19, 23, 0.96, 89, 115, 38.1, 'ALERT', 'AIR', 'UNRESTRICTED NORMAL ACTIVITY', 'Select Specialty Hospital - Northeast Atlanta', '1821 CLIFTON ROAD NE'], 'E1073': ['FEMALE', 18, 24, 0.95, 50, 115, 38.1, 'CONFUSED OR NOT ALERT', 'AIR', 'LIMITED SELF-CARE', 'Select Specialty Hospital - Northeast Atlanta', '1821 CLIFTON ROAD NE'], 'E9608': ['FEMALE', 80, 12, 0.96, 50, 89, 38.1, 'ALERT', 'AIR', 'UNRESTRICTED NORMAL ACTIVITY', 'Wesley Woods Geriatric Hospital', '1821 CLIFTON ROAD, NE'], 'E7663': ['FEMALE', 18, 11, 0.96, 105, 115, 38.1, 'ALERT', 'AIR', 'LIMITED SELF-CARE', 'Select Specialty Hospital - Northeast Atlanta', '1821 CLIFTON ROAD NE'], 'E7648': ['FEMALE', 66, 12, 0.98, 41, 115, 34.9, 'ALERT', 'AIR', 'UNRESTRICTED NORMAL ACTIVITY', 'Wesley Woods Geriatric Hospital', '1821 CLIFTON ROAD, NE'], 'E1883': ['MALE', 40, 10, 0.98, 105, 115, 38.1, 'ALERT', 'AIR', 'UNRESTRICTED NORMAL ACTIVITY', 'Southwest Hospital and Medical Center', '501 FAIRBURN ROAD SW'], 'E2001': ['FEMALE', 18, 12, 0.99, 51, 115, 38.1, 'CONFUSED OR NOT ALERT', 'AIR', 'UNRESTRICTED NORMAL ACTIVITY', 'Select Specialty Hospital - Northeast Atlanta', '1821 CLIFTON ROAD NE'], 'E2418': ['MALE', 18, 20, 0.94, 105, 115, 35.4, 'ALERT', 'AIR', 'UNRESTRICTED NORMAL ACTIVITY', 'Southwest Hospital and Medical Center', '501 FAIRBURN ROAD SW'], 'E3739': ['MALE', 85, 10, 0.96, 105, 115, 38.1, 'CONFUSED OR NOT ALERT', 'SUPPLEMENTAL OXYGEN', 'UNRESTRICTED NORMAL ACTIVITY', 'Wesley Woods Geriatric Hospital', '1821 CLIFTON ROAD, NE'], 'E8351': ['FEMALE', 40, 23, 0.96, 90, 101, 38.1, 'ALERT', 'AIR', 'UNRESTRICTED NORMAL ACTIVITY', 'Select Specialty Hospital - Northeast Atlanta', '1821 CLIFTON ROAD NE'], 'E2882': ['MALE', 51, 24, 0.98, 105, 91, 38.1, 'ALERT', 'AIR', 'UNRESTRICTED NORMAL ACTIVITY', 'Southwest Hospital and Medical Center', '501 FAIRBURN ROAD SW'], 'E1902': ['FEMALE', 85, 22, 0.96, 105, 115, 38.1, 'ALERT', 'SUPPLEMENTAL OXYGEN', 'UNRESTRICTED NORMAL ACTIVITY', 'Wesley Woods Geriatric Hospital', '1821 CLIFTON ROAD, NE'], 'E2155': ['MALE', 18, 22, 0.94, 105, 115, 38.1, 'ALERT', 'AIR', 'LIMITED SELF-CARE', 'Southwest Hospital and Medical Center', '501 FAIRBURN ROAD SW'], 'E4345': ['FEMALE', 40, 19, 0.89, 41, 115, 34.9, 'ALERT', 'AIR', 'UNRESTRICTED NORMAL ACTIVITY', 'Select Specialty Hospital - Northeast Atlanta', '1821 CLIFTON ROAD NE'], 'E4194': ['FEMALE', 40, 12, 0.95, 105, 91, 38.1, 'ALERT', 'AIR', 'LIMITED SELF-CARE', 'Select Specialty Hospital - Northeast Atlanta', '1821 CLIFTON ROAD NE'], 'E5211': ['MALE', 65, 22, 0.96, 41, 115, 38.1, 'ALERT', 'AIR', 'UNRESTRICTED NORMAL ACTIVITY', 'Wesley Woods Geriatric Hospital', '1821 CLIFTON ROAD, NE'], 'E5488': ['FEMALE', 40, 12, 0.94, 105, 101, 38.1, 'ALERT', 'AIR', 'UNRESTRICTED NORMAL ACTIVITY', 'Select Specialty Hospital - Northeast Atlanta', '1821 CLIFTON ROAD NE'], 'E8560': ['FEMALE', 40, 23, 0.96, 41, 115, 35.1, 'CONFUSED OR NOT ALERT', 'AIR', 'UNRESTRICTED NORMAL ACTIVITY', 'Select Specialty Hospital - Northeast Atlanta', '1821 CLIFTON ROAD NE'], 'E2995': ['FEMALE', 18, 20, 0.99, 105, 95, 35.1, 'ALERT', 'AIR', 'UNRESTRICTED NORMAL ACTIVITY', 'Select Specialty Hospital - Northeast Atlanta', '1821 CLIFTON ROAD NE'], 'E3422': ['FEMALE', 40, 8, 0.96, 105, 115, 35.4, 'ALERT', 'AIR', 'UNRESTRICTED NORMAL ACTIVITY', 'Select Specialty Hospital - Northeast Atlanta', '1821 CLIFTON ROAD NE'], 'E7707': ['FEMALE', 18, 20, 0.96, 38, 115, 36.3, 'ALERT', 'AIR', 'LIMITED STRENUOUS ACTIVITY, CAN DO LIGHT ACTIVITY', 'Select Specialty Hospital - Northeast Atlanta', '1821 CLIFTON ROAD NE'], 'E3119': ['FEMALE', 18, 20, 0.99, 135, 89, 35.1, 'ALERT', 'SUPPLEMENTAL OXYGEN', 'UNRESTRICTED NORMAL ACTIVITY', 'Select Specialty Hospital - Northeast Atlanta', '1821 CLIFTON ROAD NE'], 'E1419': ['MALE', 65, 23, 0.99, 105, 91, 38.1, 'ALERT', 'AIR', 'UNRESTRICTED NORMAL ACTIVITY', 'Wesley Woods Geriatric Hospital', '1821 CLIFTON ROAD, NE'], 'E7748': ['MALE', 40, 23, 0.93, 105, 115, 38.1, 'ALERT', 'SUPPLEMENTAL OXYGEN', 'UNRESTRICTED NORMAL ACTIVITY', 'Southwest Hospital and Medical Center', '501 FAIRBURN ROAD SW'], 'E7251': ['FEMALE', 40, 12, 0.96, 105, 91, 38.1, 'ALERT', 'AIR', 'UNRESTRICTED NORMAL ACTIVITY', 'Select Specialty Hospital - Northeast Atlanta', '1821 CLIFTON ROAD NE'], 'E1235': ['FEMALE', 40, 29, 0.96, 41, 115, 38.1, 'ALERT', 'AIR', 'BED/CHAIR BOUND, NO SELF-CARE', 'Select Specialty Hospital - Northeast Atlanta', '1821 CLIFTON ROAD NE'], 'E5361': ['FEMALE', 18, 22, 0.93, 90, 101, 38.1, 'CONFUSED OR NOT ALERT', 'AIR', 'UNRESTRICTED NORMAL ACTIVITY', 'Select Specialty Hospital - Northeast Atlanta', '1821 CLIFTON ROAD NE'], 'E7130': ['FEMALE', 18, 22, 0.96, 50, 115, 38.1, 'ALERT', 'AIR', 'LIMITED STRENUOUS ACTIVITY, CAN DO LIGHT ACTIVITY', 'Select Specialty Hospital - Northeast Atlanta', '1821 CLIFTON ROAD NE'], 'E5665': ['FEMALE', 85, 23, 0.96, 115, 115, 38.1, 'ALERT', 'AIR', 'UNRESTRICTED NORMAL ACTIVITY', 'Wesley Woods Geriatric Hospital', '1821 CLIFTON ROAD, NE'], 'E9957': ['FEMALE', 40, 22, 0.98, 89, 230, 38.1, 'ALERT', 'AIR', 'UNRESTRICTED NORMAL ACTIVITY', 'Select Specialty Hospital - Northeast Atlanta', '1821 CLIFTON ROAD NE'], 'E10000': ['FEMALE', 18, 23, 0.96, 105, 101, 38.1, 'ALERT', 'AIR', 'LIMITED ACTIVITY, CAN SELF-CARE', 'Select Specialty Hospital - Northeast Atlanta', '1821 CLIFTON ROAD NE']}\n"
          ]
        }
      ]
    },
    {
      "cell_type": "markdown",
      "metadata": {
        "id": "k5up57xsjmbu"
      },
      "source": [
        "## Part 5: Checking your final results\n",
        "\n",
        "The final step is to check your results.  You should be able to compare your results to the output in `people_results.json` at the link below.  Write some code to check your results.  This does not need to be a function.\n",
        "\n",
        "`https://drive.google.com/uc?export=download&id=1gx1SSC20mO5XL6uYD0mdcM_cL91fcIW5`\n"
      ]
    },
    {
      "cell_type": "code",
      "source": [
        "from google.colab import drive\n",
        "drive.mount('/content/drive')"
      ],
      "metadata": {
        "id": "gHvaRw3Iqyag",
        "outputId": "8a27d5dc-3882-44bd-cd5e-b50add46c12b",
        "colab": {
          "base_uri": "https://localhost:8080/"
        }
      },
      "execution_count": 21,
      "outputs": [
        {
          "output_type": "stream",
          "name": "stdout",
          "text": [
            "Mounted at /content/drive\n"
          ]
        }
      ]
    },
    {
      "cell_type": "code",
      "source": [],
      "metadata": {
        "id": "S9kraa6zoS2j"
      },
      "execution_count": 17,
      "outputs": []
    },
    {
      "cell_type": "code",
      "execution_count": 22,
      "metadata": {
        "id": "xIZwbzOIjmbu",
        "outputId": "40bec1b2-bee2-40d0-dcbd-e47f482c0514",
        "colab": {
          "base_uri": "https://localhost:8080/"
        }
      },
      "outputs": [
        {
          "output_type": "stream",
          "name": "stdout",
          "text": [
            "Results do not match the expected results. There might be an error in your code.\n"
          ]
        }
      ],
      "source": [
        "import requests\n",
        "import json\n",
        "\n",
        "# Define the URL for the JSON file\n",
        "json_url = 'https://drive.google.com/uc?export=download&id=1gx1SSC20mO5XL6uYD0mdcM_cL91fcIW5'\n",
        "\n",
        "# Send a GET request to download the JSON data\n",
        "response = requests.get(json_url)\n",
        "\n",
        "# Check if the request was successful\n",
        "if response.status_code == 200:\n",
        "    # Load the JSON data\n",
        "    expected_results = json.loads(response.text)\n",
        "\n",
        "    # Assuming you have your results stored in the 'result' variable, compare it with the expected results\n",
        "    # Make sure the 'result' variable contains the same format as the 'expected_results' variable\n",
        "    # Compare the dictionaries to ensure the results match\n",
        "\n",
        "    # Example comparison\n",
        "    if result == expected_results:\n",
        "        print(\"Results match the expected results!\")\n",
        "    else:\n",
        "        print(\"Results do not match the expected results. There might be an error in your code.\")\n",
        "else:\n",
        "    print(\"Failed to fetch JSON data. Please check the URL or your internet connection.\")\n"
      ]
    },
    {
      "cell_type": "markdown",
      "metadata": {
        "id": "JBwU00Nrjmbu"
      },
      "source": [
        "---\n",
        "\n",
        "## Check your work above\n",
        "\n",
        "If you didn't get them all correct, take a few minutes to think through those that aren't correct.\n",
        "\n",
        "\n",
        "## Submitting Your Work\n",
        "\n",
        "Submit your work as usual into a folder named `midterm`"
      ]
    },
    {
      "cell_type": "markdown",
      "metadata": {
        "id": "JyXqP1T3jmbv"
      },
      "source": [
        "---"
      ]
    }
  ],
  "metadata": {
    "kernelspec": {
      "display_name": "Python 3",
      "language": "python",
      "name": "python3"
    },
    "language_info": {
      "codemirror_mode": {
        "name": "ipython",
        "version": 3
      },
      "file_extension": ".py",
      "mimetype": "text/x-python",
      "name": "python",
      "nbconvert_exporter": "python",
      "pygments_lexer": "ipython3",
      "version": "3.9.16"
    },
    "colab": {
      "provenance": []
    }
  },
  "nbformat": 4,
  "nbformat_minor": 0
}