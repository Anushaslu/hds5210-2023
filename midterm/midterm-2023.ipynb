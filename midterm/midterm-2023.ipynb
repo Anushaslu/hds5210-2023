{
  "cells": [
    {
      "cell_type": "markdown",
      "metadata": {
        "id": "5_ID8eOpKpDU"
      },
      "source": [
        "# HDS5210-2022 Midterm\n",
        "\n",
        "In the midterm, you're going to use all the programming and data management skills you've developed so far to build a risk calculator that pretends to be integrated with a clinical registry.  You'll compute the PRIEST COVID-19 Clinical Severity Score for a series of patients and, based on their risk of an adverse outcome, query a REST web service to find a hospital to transfer them to. The end result of your work will be a list of instructions on where each patient should be discharged given their risk and various characteristics of the patient.\n",
        "\n",
        "Each step in the midterm will build up to form your complete solution.\n",
        "\n",
        "**Make sure you write good docstrings and doctests along the way!!**\n",
        "\n",
        "**The midterm is due at 11:59 PM CST on Monday, October 23rd.**\n",
        "\n",
        "---"
      ]
    },
    {
      "cell_type": "markdown",
      "metadata": {
        "id": "LW0ZzeuaKpDZ"
      },
      "source": [
        "## Step 1: Calculate PRIEST Clinical Severity Score\n",
        "\n",
        "This scoring algorithm can be found [here on the MDCalc website](https://www.mdcalc.com/priest-covid-19-clinical-severity-score#evidence).  \n",
        "\n",
        "1. You will need to write a function called **priest()** with the following input parameters.  \n",
        " * Sex (Gender assigned at birth)\n",
        " * Age in years\n",
        " * Respiratory rate in breaths per minute\n",
        " * Oxygen saturation as a percent between 0 and 1\n",
        " * Heart rate in beats per minute\n",
        " * Systolic BP in mmHg\n",
        " * Temperature in degrees C\n",
        " * Alertness as a string description\n",
        " * Inspired Oxygen as as string description\n",
        " * Performance Status as a string description\n",
        "2. The function will need to follow the algorithm provided on the MDCalc website to compute a risk percentage that should be returned as a numeric value between 0 and 1.\n",
        "3. Be sure to use docstring documentation and at least three built-in docstring test cases.\n",
        "4. Assume that the input values that are strings could be any combination of upper or lower case. For example: 'male', 'Male', 'MALE', 'MalE' should all be interpretted by your code as male.\n",
        "5. If any of the inputs are invalid (for example a sex value that is not recognizable as male or female) your code should return None.\n",
        "\n",
        "NOTES:\n",
        "1. In the final step there is a table that translates from **PRIEST Score** to **30-day probability of an outcome** but the last two probabilities are shown as ranges (59-88% and >99%).  Our code needs to output a single number, however. For our code, use the following rule:\n",
        " * If PRIEST score is between 17 and 25, the probability you return should be 0.59\n",
        " * If PRIEST score is greater than or equal to 26, the probability you return should be 0.99\n"
      ]
    },
    {
      "cell_type": "code",
      "source": [
        "def priest(sex, age, respiratory_rate, oxygen_saturation, heart_rate, systolic_bp, temperature, alertness, inspired_oxygen, performance_status):\n",
        "    \"\"\"\n",
        "    Calculate the PRIEST Clinical Severity Score based on the provided parameters.\n",
        "\n",
        "    Parameters:\n",
        "    - sex (str): Gender assigned at birth, can be 'male' or 'female' (not case-sensitive).\n",
        "    - age (int): Age in years.\n",
        "    - respiratory_rate (int): Respiratory rate in breaths per minute.\n",
        "    - oxygen_saturation (float): Oxygen saturation as a percent between 0 and 1.\n",
        "    - heart_rate (int): Heart rate in beats per minute.\n",
        "    - systolic_bp (int): Systolic BP in mmHg.\n",
        "    - temperature (float): Temperature in degrees C.\n",
        "    - alertness (str): Alertness level, can be 'Alert' or 'Confused or not alert' (not case-sensitive).\n",
        "    - inspired_oxygen (str): Type of oxygen, can be 'Air' or 'Supplemental oxygen' (not case-sensitive).\n",
        "    - performance_status (str): Performance status description.\n",
        "\n",
        "    Returns:\n",
        "    - float: Risk percentage between 0 and 1. Returns None for invalid inputs.\n",
        "\n",
        "    Example:\n",
        "    >>> priest(\"male\", 45, 20, 0.95, 80, 110, 37.0, \"Alert\", \"Air\", \"Unrestricted normal activity\")\n",
        "    0.02\n",
        "    >>> priest(\"female\", 85, 25, 0.91, 100, 85, 39.5, \"Confused or not alert\", \"Supplemental oxygen\", \"Bed/chair bound, no self-care\")\n",
        "    0.59\n",
        "    >>> priest(\"male\", 50, 12, 0.98, 60, 120, 36.5, \"Alert\", \"Air\", \"Limited strenuous activity, can do light activity\")\n",
        "    0.03\n",
        "    \"\"\"\n",
        "\n",
        "    # Scoring for each parameter\n",
        "    score = 0\n",
        "\n",
        "    # Score based on sex\n",
        "    score += 1 if sex.lower() == \"male\" else 0\n",
        "\n",
        "    # Score based on age\n",
        "    if 50 <= age <= 65:\n",
        "        score += 2\n",
        "    elif 66 <= age <= 80:\n",
        "        score += 3\n",
        "    elif age > 80:\n",
        "        score += 4\n",
        "\n",
        "    # Score based on respiratory rate\n",
        "    if respiratory_rate < 9 or respiratory_rate > 24:\n",
        "        score += 3\n",
        "    elif 9 <= respiratory_rate <= 11 or 21 <= respiratory_rate <= 24:\n",
        "        score += 1\n",
        "    elif 12 <= respiratory_rate <= 20:\n",
        "        score += 0\n",
        "\n",
        "    # Score based on oxygen saturation\n",
        "    if oxygen_saturation > 0.95:\n",
        "        score += 0\n",
        "    elif 0.94 <= oxygen_saturation <= 0.95:\n",
        "        score += 1\n",
        "    elif 0.92 <= oxygen_saturation <= 0.93:\n",
        "        score += 2\n",
        "    elif oxygen_saturation < 0.92:\n",
        "        score += 3\n",
        "\n",
        "    # Score based on heart rate\n",
        "    if heart_rate < 41 or heart_rate > 130:\n",
        "        score += 3\n",
        "    elif 41 <= heart_rate <= 50 or 111 <= heart_rate <= 130:\n",
        "        score += 1\n",
        "    elif 51 <= heart_rate <= 90:\n",
        "        score += 0\n",
        "    elif 91 <= heart_rate <= 110:\n",
        "        score += 1\n",
        "\n",
        "    # Score based on systolic blood pressure\n",
        "    if systolic_bp < 91 or systolic_bp > 219:\n",
        "        score += 3\n",
        "    elif 91 <= systolic_bp <= 100:\n",
        "        score += 2\n",
        "    elif 101 <= systolic_bp <= 110:\n",
        "        score += 1\n",
        "    elif 111 <= systolic_bp <= 219:\n",
        "        score += 0\n",
        "\n",
        "    # Score based on temperature\n",
        "    if temperature < 35.1:\n",
        "        score += 3\n",
        "    elif 35.1 <= temperature <= 36:\n",
        "        score += 1\n",
        "    elif 36.1 <= temperature <= 38:\n",
        "        score += 0\n",
        "    elif 38.1 <= temperature <= 39:\n",
        "        score += 1\n",
        "    elif temperature > 39:\n",
        "        score += 2\n",
        "\n",
        "    # Score based on alertness\n",
        "    if alertness.lower() == \"confused or not alert\":\n",
        "        score += 3\n",
        "\n",
        "    # Score based on inspired oxygen\n",
        "    if inspired_oxygen.lower() == \"supplemental oxygen\":\n",
        "        score += 2\n",
        "\n",
        "    # Score based on performance status\n",
        "    performance_status_scores = {\n",
        "        \"unrestricted normal activity\": 0,\n",
        "        \"limited strenuous activity, can do light activity\": 1,\n",
        "        \"limited activity, can self-care\": 2,\n",
        "        \"limited self-care\": 3,\n",
        "        \"bed/chair bound, no self-care\": 4\n",
        "    }\n",
        "    score += performance_status_scores.get(performance_status.lower(), 0)\n",
        "\n",
        "    # Mapping score to probability of adverse outcome using conditions\n",
        "    if score in [0, 1]:\n",
        "        return 0.01\n",
        "    elif score in [2, 3]:\n",
        "        return 0.02\n",
        "    elif score == 4:\n",
        "        return 0.03\n",
        "    elif score == 5:\n",
        "        return 0.09\n",
        "    elif score == 6:\n",
        "        return 0.15\n",
        "    elif score == 7:\n",
        "        return 0.18\n",
        "    elif score == 8:\n",
        "        return 0.22\n",
        "    elif score == 9:\n",
        "        return 0.26\n",
        "    elif score == 10:\n",
        "        return 0.29\n",
        "    elif score == 11:\n",
        "        return 0.34\n",
        "    elif score == 12:\n",
        "        return 0.38\n",
        "    elif score == 13:\n",
        "        return 0.46\n",
        "    elif score == 14:\n",
        "        return 0.47\n",
        "    elif score == 15:\n",
        "        return 0.49\n",
        "    elif score == 16:\n",
        "        return 0.55\n",
        "    elif 17 <= score <= 25:\n",
        "        return 0.59\n",
        "    elif score >= 26:\n",
        "        return 0.99\n"
      ],
      "metadata": {
        "id": "K1JyaubpbH9s"
      },
      "execution_count": 56,
      "outputs": []
    },
    {
      "cell_type": "code",
      "execution_count": 9,
      "metadata": {
        "id": "cqDmdO7zKpDa"
      },
      "outputs": [],
      "source": []
    },
    {
      "cell_type": "code",
      "execution_count": 57,
      "metadata": {
        "id": "Ry6-P5bWKpDb",
        "outputId": "ba94c8e7-4ba4-46b5-dc6a-a8d5838e809d",
        "colab": {
          "base_uri": "https://localhost:8080/"
        }
      },
      "outputs": [
        {
          "output_type": "stream",
          "name": "stdout",
          "text": [
            "Finding tests in NoName\n",
            "Trying:\n",
            "    priest(\"male\", 45, 20, 0.95, 80, 110, 37.0, \"Alert\", \"Air\", \"Unrestricted normal activity\")\n",
            "Expecting:\n",
            "    0.02\n",
            "ok\n",
            "Trying:\n",
            "    priest(\"female\", 85, 25, 0.91, 100, 85, 39.5, \"Confused or not alert\", \"Supplemental oxygen\", \"Bed/chair bound, no self-care\")\n",
            "Expecting:\n",
            "    0.59\n",
            "ok\n",
            "Trying:\n",
            "    priest(\"male\", 50, 12, 0.98, 60, 120, 36.5, \"Alert\", \"Air\", \"Limited strenuous activity, can do light activity\")\n",
            "Expecting:\n",
            "    0.03\n",
            "ok\n"
          ]
        }
      ],
      "source": [
        "import doctest\n",
        "doctest.run_docstring_examples(priest, globals(),verbose=True)"
      ]
    },
    {
      "cell_type": "markdown",
      "metadata": {
        "id": "27p92tFyKpDd"
      },
      "source": [
        "## Part 2: Find a hospital\n",
        "\n",
        "The next thing we have to do is figure out where to send this particular patient.  The guidelines on where to send a patient are based on their age (pediatric, adult, geriatric), sex, and risk percentage.  Luckily, you don't have to implement these rules. I already have. All you have to do is use a REST web service that I've created for you.\n",
        "\n",
        "You'll want to use Python to make a call to my REST web service similar to the example URL below. The first part of the URL will be the same for everyone and every request that you make. What you will need to modify for each of your requests is the information after the question mark.\n",
        "\n",
        "```\n",
        "https://oumdj6oci2.execute-api.us-east-1.amazonaws.com/prd/?age=40&sex=male&risk_pct=0.1\n",
        "```\n",
        "\n",
        "The example above asks my web service where a 40-year old male with a risk of 10% should go.  What the web service will return back is a JSON string containing the information you need.  That JSON will look like this:\n",
        "\n",
        "```json\n",
        "{\n",
        "  \"age\": \"40\",\n",
        "  \"sex\": \"male\",\n",
        "  \"risk\": \"0.1\",\n",
        "  \"hospital\": \"Southwest Hospital and Medical Center\"\n",
        "}\n",
        "```\n",
        "\n",
        "My function is not smart enough to understand `'MALE'` is the same as `'male'`.  You have to send it exactly `'male'` or `'female'`\n",
        "\n",
        "1. Your job is to write a function called **find_hospital()** that takes age, sex, and risk as parameters.\n",
        "2. Your function should call this REST web service using the `requests` module\n",
        "3. Then your function will need to interpret the JSON it gets and return just the name of the hospital\n",
        "4. If anything fails, return None\n",
        "5. Include a good docstring with at least three test cases.\n"
      ]
    },
    {
      "cell_type": "code",
      "execution_count": 58,
      "metadata": {
        "id": "yirbsj9dKpDe"
      },
      "outputs": [],
      "source": [
        "import requests\n",
        "import json\n",
        "def find_hospital(age, sex, risk):\n",
        "  '''This function analyzes the patient's age, sex, and risk score to identify which nearby facility to take them to in an emergency.\n",
        "  It does this by using the REST web service.\n",
        "\n",
        "  >>> find_hospital(45, 'male', 0.2)\n",
        "  'Southwest Hospital and Medical Center'\n",
        "  >>> find_hospital(65, 'male', 0.49)\n",
        "  'Wesley Woods Geriatric Hospital'\n",
        "  >>> find_hospital(29, 'female', 0.56)\n",
        "  'Emory Dunwoody Medical Center'\n",
        "  >>> find_hospital(19, 'female', 0.16)\n",
        "  'Select Specialty Hospital - Northeast Atlanta'\n",
        "  >>> find_hospital(22, 'female', 0.92)\n",
        "  'Emory Dunwoody Medical Center'\n",
        "  '''\n",
        "  url = f'https://oumdj6oci2.execute-api.us-east-1.amazonaws.com/prd/?age={age}&sex={sex}&risk_pct={risk}'\n",
        "  response = requests.get(url)\n",
        "  hospital_name = response.json()['hospital']\n",
        "  return hospital_name"
      ]
    },
    {
      "cell_type": "code",
      "execution_count": 59,
      "metadata": {
        "id": "QZSbLZ43KpDe",
        "outputId": "1cd82343-669c-402a-9ce0-449619b53bad",
        "colab": {
          "base_uri": "https://localhost:8080/"
        }
      },
      "outputs": [
        {
          "output_type": "stream",
          "name": "stdout",
          "text": [
            "Finding tests in NoName\n",
            "Trying:\n",
            "    find_hospital(45, 'male', 0.2)\n",
            "Expecting:\n",
            "    'Southwest Hospital and Medical Center'\n",
            "ok\n",
            "Trying:\n",
            "    find_hospital(65, 'male', 0.49)\n",
            "Expecting:\n",
            "    'Wesley Woods Geriatric Hospital'\n",
            "ok\n",
            "Trying:\n",
            "    find_hospital(29, 'female', 0.56)\n",
            "Expecting:\n",
            "    'Emory Dunwoody Medical Center'\n",
            "ok\n",
            "Trying:\n",
            "    find_hospital(19, 'female', 0.16)\n",
            "Expecting:\n",
            "    'Select Specialty Hospital - Northeast Atlanta'\n",
            "ok\n",
            "Trying:\n",
            "    find_hospital(22, 'female', 0.92)\n",
            "Expecting:\n",
            "    'Emory Dunwoody Medical Center'\n",
            "ok\n"
          ]
        }
      ],
      "source": [
        "import doctest\n",
        "doctest.run_docstring_examples(find_hospital, globals(),verbose=True)"
      ]
    },
    {
      "cell_type": "markdown",
      "metadata": {
        "id": "c2Pc9blNKpDe"
      },
      "source": [
        "## Part 3: Get the address for that hospital from a JSON file\n",
        "\n",
        "Great! Now we have code to tell us which hospital to send someone to... but we don't know where that hospital is. The next function we need to create is one that looks up the address of that hospital.  All of these hospitals are in Atlanta, Georgia.  We're going to use the list from this webpage to lookup the address for that hospital, based on its name.  https://www.officialusa.com/stateguides/health/hospitals/georgia.html\n",
        "\n",
        "Because we skipped the section about Beautiful Soup and working with HTML, I've converted this information into a JSON document for you.  It's available for you here.  Your code should retrieve this file using the `requests` module.\n",
        "\n",
        "`https://drive.google.com/uc?export=download&id=1fIFD-NkcdiMu941N4GjyMDWxiKsFJBw-`\n",
        "\n",
        "1. You need to create a function called **get_address()** that takes hospital name as a parameter and searches the data from this JSON file for the hospital you want to find.\n",
        "2. Your code will have to load the JSON and return the correct hospital based on name.\n",
        "3. If the hospital name isn't found, the function should return None.\n",
        "4. Be sure to use good docstring documentation and includes at least 3 test cases."
      ]
    },
    {
      "cell_type": "code",
      "execution_count": 60,
      "metadata": {
        "id": "PTWlLAibKpDf"
      },
      "outputs": [],
      "source": [
        "import requests\n",
        "\n",
        "def get_address(hospital_name):\n",
        "    \"\"\"\n",
        "    Retrieves the address for the given hospital name from a JSON file.\n",
        "\n",
        "    Args:\n",
        "    hospital_name (str): Name of the hospital.\n",
        "\n",
        "    Returns:\n",
        "    str or None: The address of the hospital. Returns None if the hospital name is not found.\n",
        "    >>> get_address('COOK MEDICAL CENTER')\n",
        "    '706 NORTH PARRISH AVENUE'\n",
        "\n",
        "    >>> get_address('PHOEBE PUTNEY MEMORIAL HOSPITAL')\n",
        "    '417 THIRD AVENUE'\n",
        "\n",
        "    >>> get_address(\"WALTON REHABILITATION HOSPITAL\")\n",
        "    '1355 INDEPENDENCE DRIVE'\n",
        "\n",
        "    \"\"\"\n",
        "    # URL for the JSON data\n",
        "    json_url = \"https://hds5210-data.s3.amazonaws.com/ga_hospitals.json\"\n",
        "\n",
        "    # Send a GET request to retrieve the JSON data\n",
        "    response = requests.get(json_url)\n",
        "\n",
        "    # Parse the JSON data if the response status code is 200 (OK)\n",
        "    if response.status_code == 200:\n",
        "        data = response.json()\n",
        "\n",
        "        # Search for the hospital by name\n",
        "        if hospital_name in data:\n",
        "            return data[hospital_name][\"ADDRESS\"]\n",
        "\n",
        "    # Return None if any part of the process fails\n",
        "    return None"
      ]
    },
    {
      "cell_type": "code",
      "source": [
        "import requests\n",
        "\n",
        "def get_address(hospital_name):\n",
        "    \"\"\"\n",
        "    Retrieves the address for the given hospital name from a JSON file.\n",
        "\n",
        "    Args:\n",
        "    hospital_name (str): Name of the hospital.\n",
        "\n",
        "    Returns:\n",
        "    str or None: The address of the hospital. Returns None if the hospital name is not found.\n",
        "    >>> get_address('COOK MEDICAL CENTER')\n",
        "    '706 NORTH PARRISH AVENUE'\n",
        "\n",
        "    >>> get_address('PHOEBE PUTNEY MEMORIAL HOSPITAL')\n",
        "    '417 THIRD AVENUE'\n",
        "\n",
        "    >>> get_address(\"WALTON REHABILITATION HOSPITAL\")\n",
        "    '1355 INDEPENDENCE DRIVE'\n",
        "\n",
        "    \"\"\"\n",
        "    # URL for the JSON data\n",
        "    json_url = \"https://hds5210-data.s3.amazonaws.com/ga_hospitals.json\"\n",
        "\n",
        "    # Send a GET request to retrieve the JSON data\n",
        "    response = requests.get(json_url)\n",
        "\n",
        "    # Parse the JSON data if the response status code is 200 (OK)\n",
        "    if response.status_code == 200:\n",
        "        data = response.json()\n",
        "\n",
        "        # Search for the hospital by name\n",
        "        if hospital_name in data:\n",
        "            return data[hospital_name][\"ADDRESS\"]\n",
        "\n",
        "    # Return None if any part of the process fails\n",
        "    return None"
      ],
      "metadata": {
        "id": "TqLLaDKgXApm"
      },
      "execution_count": 61,
      "outputs": []
    },
    {
      "cell_type": "code",
      "source": [
        "import doctest\n",
        "doctest.run_docstring_examples(get_address, globals(),verbose=True)"
      ],
      "metadata": {
        "id": "2B-KGr4GXj72",
        "outputId": "7d007e29-d081-4fc4-e286-600ad92f4eff",
        "colab": {
          "base_uri": "https://localhost:8080/"
        }
      },
      "execution_count": 62,
      "outputs": [
        {
          "output_type": "stream",
          "name": "stdout",
          "text": [
            "Finding tests in NoName\n",
            "Trying:\n",
            "    get_address('COOK MEDICAL CENTER')\n",
            "Expecting:\n",
            "    '706 NORTH PARRISH AVENUE'\n",
            "ok\n",
            "Trying:\n",
            "    get_address('PHOEBE PUTNEY MEMORIAL HOSPITAL')\n",
            "Expecting:\n",
            "    '417 THIRD AVENUE'\n",
            "ok\n",
            "Trying:\n",
            "    get_address(\"WALTON REHABILITATION HOSPITAL\")\n",
            "Expecting:\n",
            "    '1355 INDEPENDENCE DRIVE'\n",
            "ok\n"
          ]
        }
      ]
    },
    {
      "cell_type": "markdown",
      "metadata": {
        "id": "LvLf-ZQ1KpDf"
      },
      "source": [
        "## Part 4: Run the risk calculator on a population\n",
        "\n",
        "At the link below, there is a file called `people.psv`.  It is a pipe-delimited (`|`) file with columns that match the inputs for the PRIEST calculation above.  Your code should use the `requests` module to retrieve the file from this URL.\n",
        "\n",
        "`https://drive.google.com/uc?export=download&id=1fLxJN9YGUqmqExrilxSS8furwUER5HHh`\n",
        "\n",
        "\n",
        "In addition, the file has a patient identifier in the first column.\n",
        "\n",
        "1. Write a function called **process_people()** that takes the file location above as its only parameter. Your Python program should use your code above to process all of these rows, determine the hospital and address, and return a list whose items are a dictionary like this: `{ patient_number: [sex, age, breath, o2sat, heart, systolic, temp, alertness, inspired, status, hospital, address]}`.  Look at the file in Part 5 for what the output looks like.\n",
        "2. Be sure to use good docstrings, but you don't need any tests in your doc strings.  I've provided those for you withe file in Part 5.\n",
        "\n",
        "\n",
        "**NOTE** that when running your code for all the 100 records in the `people.psv` file, it may take a few minutes to complete.  You're making multiple calls to the internet for each record, so that can take a little while.\n"
      ]
    },
    {
      "cell_type": "code",
      "source": [
        "import requests as req\n",
        "import json as js\n",
        "\n",
        "\"\"\"\n",
        "It compares the json data from the link with the calculated data using above functions\n",
        "\n",
        "It returns \"Data is equal\" when they are equal and not equal if they are not\n",
        "\"\"\"\n",
        "\n",
        "url = \"https://hds5210-data.s3.amazonaws.com/people_results.json\"\n",
        "headers = {'Accept' : 'application/json'}\n",
        "\n",
        "try:\n",
        "    exp= req.get(url, headers=headers)\n",
        "    if exp.status_code == 200:\n",
        "        first = exp.json()\n",
        "        second = process_people(\"https://hds5210-data.s3.amazonaws.com/people.psv\")\n",
        "#     print(\"9999\",second)\n",
        "\n",
        "        firstString1 = json.dumps(first)\n",
        "        secondString1 = json.dumps(second)\n",
        "\n",
        "        firstString2 = json.loads(firstString1)\n",
        "        secondString2 = json.loads(secondString1)\n",
        "\n",
        "    if firstString2 == secondString2:\n",
        "        print(\"Data is equal\")\n",
        "    else:\n",
        "        print(\"Data is Not equal\")\n",
        "\n",
        "\n",
        "except Exception as err:\n",
        "  print(\"Error in The Link\")"
      ],
      "metadata": {
        "id": "vKvit5LtZ22N",
        "outputId": "d4a0deef-0dca-40bf-9a65-a31fa4c4ebd0",
        "colab": {
          "base_uri": "https://localhost:8080/"
        }
      },
      "execution_count": 63,
      "outputs": [
        {
          "output_type": "stream",
          "name": "stdout",
          "text": [
            "Data is Not equal\n"
          ]
        }
      ]
    },
    {
      "cell_type": "code",
      "execution_count": 64,
      "metadata": {
        "id": "rpdZ5vuiKpDg"
      },
      "outputs": [],
      "source": [
        "import requests\n",
        "import json\n",
        "\n",
        "def risk_calculator(sex, age, breath, o2sat, heart, systolic, temp, alertness, inspired, status):\n",
        "    \"\"\"\n",
        "    Calculate the risk, hospital, and address based on the provided parameters.\n",
        "\n",
        "    Args:\n",
        "        sex (str): Gender assigned at birth, 'male' or 'female'.\n",
        "        age (int): Age in years.\n",
        "        breath (int): Respiratory rate in breaths per minute.\n",
        "        o2sat (float): Oxygen saturation, a percent as a float between 0 and 1.\n",
        "        heart (int): Heart rate in beats per minute.\n",
        "        systolic (int): Systolic blood pressure in mmHg.\n",
        "        temp (float): Temperature in degrees Celsius.\n",
        "        alertness (str): Description of alertness, e.g., 'alert'.\n",
        "        inspired (str): Description of oxygen source, e.g., 'air'.\n",
        "        status (str): Description of physical activity, e.g., 'unrestricted normal activity'.\n",
        "\n",
        "    Returns:\n",
        "        tuple: A tuple containing risk score (float), hospital name (str), and hospital address (str).\n",
        "    \"\"\"\n",
        "    # Placeholder implementation for risk calculation\n",
        "    risk_score = 0.0\n",
        "\n",
        "    # Placeholder implementation for hospital and address\n",
        "    hospital_name = find_hospital(age, sex, risk_score)\n",
        "    hospital_address = get_address(hospital_name)\n",
        "\n",
        "    return risk_score, hospital_name, hospital_address\n",
        "\n",
        "def find_hospital(age, sex, risk_score):\n",
        "    \"\"\"\n",
        "    Find the hospital based on the patient's age, sex, and risk score.\n",
        "\n",
        "    Args:\n",
        "        age (int): The age of the patient.\n",
        "        sex (str): The sex of the patient ('male' or 'female').\n",
        "        risk_score (float): The calculated risk score.\n",
        "\n",
        "    Returns:\n",
        "        str: The name of the hospital.\n",
        "    \"\"\"\n",
        "    try:\n",
        "        url = f'https://oumdj6oci2.execute-api.us-east-1.amazonaws.com/prd/?age={age}&sex={sex}&risk_pct={risk_score}'\n",
        "        response = requests.get(url)\n",
        "        response.raise_for_status()\n",
        "        data = response.json()\n",
        "        hospital_name = data.get('hospital')\n",
        "        return hospital_name\n",
        "    except (requests.RequestException, json.JSONDecodeError, KeyError):\n",
        "        return None\n",
        "\n",
        "def get_address(hospital_name):\n",
        "    \"\"\"\n",
        "    Retrieve the address of a hospital based on its name from a JSON file.\n",
        "\n",
        "    Args:\n",
        "        hospital_name (str): The name of the hospital to search for.\n",
        "\n",
        "    Returns:\n",
        "        str or None: The address of the hospital if found, or None if not found.\n",
        "    \"\"\"\n",
        "    try:\n",
        "        # Define the URL for the JSON file\n",
        "        json_url = 'https://hds5210-data.s3.amazonaws.com/ga_hospitals.json'\n",
        "\n",
        "        # Send a GET request to download the JSON data\n",
        "        response = requests.get(json_url)\n",
        "\n",
        "        # Check if the request was successful\n",
        "        response.raise_for_status()\n",
        "\n",
        "        # Load JSON data\n",
        "        hospital_data = json.loads(response.text)\n",
        "\n",
        "        # Search for the hospital by name (case-insensitive)\n",
        "        for key, value in hospital_data.items():\n",
        "            if hospital_name.lower() in key.lower():\n",
        "                return value.get('ADDRESS')\n",
        "\n",
        "        # If the hospital name is not found, return None\n",
        "        return None\n",
        "    except (requests.RequestException, json.JSONDecodeError, KeyError):\n",
        "        return None\n",
        "\n",
        "def process_people(file_location):\n",
        "    \"\"\"\n",
        "    Process the people.psv file and calculate the risk for each individual.\n",
        "\n",
        "    Args:\n",
        "        file_location (str): The URL of the .psv file containing patient information.\n",
        "\n",
        "    Returns:\n",
        "        list: A list of dictionaries where each dictionary represents a patient's information along with calculated risk.\n",
        "    \"\"\"\n",
        "    response = requests.get(file_location)\n",
        "    data = response.text.split('\\n')\n",
        "    result = {}\n",
        "\n",
        "    for line in data[1:]:\n",
        "        if line.strip():  # Skips empty lines\n",
        "            row = line.strip().split(\"|\")\n",
        "            patient_number = row[0]\n",
        "            sex = row[1].upper()\n",
        "            age = int(row[2])\n",
        "            breath = int(row[3])\n",
        "            o2sat = float(row[4])\n",
        "            heart = int(row[5])\n",
        "            systolic = int(row[6])\n",
        "            temp = float(row[7])\n",
        "            alertness = row[8].upper()\n",
        "            inspired = row[9].upper()\n",
        "            status = row[10].upper()\n",
        "\n",
        "            # Call risk_calculator function\n",
        "            risk_score, hospital, address = risk_calculator(sex, age, breath, o2sat, heart, systolic, temp, alertness, inspired, status)\n",
        "\n",
        "            if patient_number in result:\n",
        "                result[patient_number].append([sex, age, breath, o2sat, heart, systolic, temp, alertness, inspired, status, hospital, address])\n",
        "            else:\n",
        "                result[patient_number] = [sex, age, breath, o2sat, heart, systolic, temp, alertness, inspired, status, hospital, address]\n",
        "\n",
        "    return result\n",
        "\n",
        "# Example usage:\n",
        "file_location = 'https://drive.google.com/uc?export=download&id=1fLxJN9YGUqmqExrilxSS8furwUER5HHh'\n",
        "result = process_people(file_location)\n",
        "\n",
        "# Save the results to a JSON file\n",
        "# with open('your_results.json', 'w') as output_file:\n",
        "#     json.dump(result, output_file, indent=4)\n",
        "\n",
        "# print(result)"
      ]
    },
    {
      "cell_type": "code",
      "source": [
        "with open('your_results.json', 'w') as output_file:\n",
        "  json.dump(result, output_file, indent=4)"
      ],
      "metadata": {
        "id": "pF3J7C6Zs0zm"
      },
      "execution_count": null,
      "outputs": []
    },
    {
      "cell_type": "markdown",
      "metadata": {
        "id": "G-EODQ33KpDg"
      },
      "source": [
        "## Part 5: Checking your final results\n",
        "\n",
        "The final step is to check your results.  You should be able to compare your results to the output in `people_results.json` at the link below.  Write some code to check your results.  This does not need to be a function.\n",
        "\n",
        "`https://drive.google.com/uc?export=download&id=1gx1SSC20mO5XL6uYD0mdcM_cL91fcIW5`\n"
      ]
    },
    {
      "cell_type": "code",
      "source": [
        "people_url = 'https://drive.google.com/uc?export=download&id=1fLxJN9YGUqmqExrilxSS8furwUER5HHh'"
      ],
      "metadata": {
        "id": "Ooui7sR_3E9P"
      },
      "execution_count": 22,
      "outputs": []
    },
    {
      "cell_type": "code",
      "source": [
        "target_result='https://hds5210-data.s3.amazonaws.com/people_results.json'"
      ],
      "metadata": {
        "id": "az9gw6Kxu2Y4"
      },
      "execution_count": 28,
      "outputs": []
    },
    {
      "cell_type": "code",
      "source": [
        "result.keys()"
      ],
      "metadata": {
        "id": "HPuR-0WNtgd0",
        "outputId": "962bd24a-baf0-4cc5-8f2a-ba2c62864ea2",
        "colab": {
          "base_uri": "https://localhost:8080/"
        }
      },
      "execution_count": 24,
      "outputs": [
        {
          "output_type": "execute_result",
          "data": {
            "text/plain": [
              "dict_keys(['E9559', 'E9385', 'E3067', 'E9422', 'E8661', 'E6235', 'E4451', 'E8433', 'E7593', 'E3296', 'E4157', 'E7702', 'E8158', 'E4795', 'E8800', 'E4855', 'E9691', 'E4535', 'E2360', 'E3447', 'E8208', 'E4428', 'E2766', 'E3888', 'E7110', 'E2668', 'E8482', 'E9619', 'E1700', 'E8585', 'E8633', 'E2117', 'E2322', 'E6912', 'E5702', 'E5513', 'E1861', 'E4809', 'E1365', 'E5984', 'E7013', 'E2331', 'E9938', 'E5121', 'E9280', 'E4762', 'E6885', 'E1695', 'E9658', 'E1961', 'E9154', 'E9417', 'E9979', 'E9316', 'E8146', 'E3093', 'E8829', 'E1453', 'E5777', 'E4564', 'E1904', 'E8746', 'E9165', 'E9305', 'E3217', 'E3127', 'E7501', 'E4997', 'E6181', 'E1073', 'E9608', 'E7663', 'E7648', 'E1883', 'E2001', 'E2418', 'E3739', 'E8351', 'E2882', 'E1902', 'E2155', 'E4345', 'E4194', 'E5211', 'E5488', 'E8560', 'E2995', 'E3422', 'E7707', 'E3119', 'E1419', 'E7748', 'E7251', 'E1235', 'E5361', 'E7130', 'E5665', 'E9957', 'E10000'])"
            ]
          },
          "metadata": {},
          "execution_count": 24
        }
      ]
    },
    {
      "cell_type": "code",
      "source": [
        "r=requests.request('GET',url=target_result)\n",
        "r.status_code"
      ],
      "metadata": {
        "id": "5UXE92vAt7HP",
        "outputId": "188afe01-31c8-4238-df12-dca9cb7fc818",
        "colab": {
          "base_uri": "https://localhost:8080/"
        }
      },
      "execution_count": 29,
      "outputs": [
        {
          "output_type": "execute_result",
          "data": {
            "text/plain": [
              "200"
            ]
          },
          "metadata": {},
          "execution_count": 29
        }
      ]
    },
    {
      "cell_type": "code",
      "source": [
        "type(json.loads(r.text))"
      ],
      "metadata": {
        "id": "XQuID6M-vNYf",
        "outputId": "703c8098-fe7c-4721-d358-e961a2476905",
        "colab": {
          "base_uri": "https://localhost:8080/"
        }
      },
      "execution_count": 32,
      "outputs": [
        {
          "output_type": "execute_result",
          "data": {
            "text/plain": [
              "dict"
            ]
          },
          "metadata": {},
          "execution_count": 32
        }
      ]
    },
    {
      "cell_type": "code",
      "execution_count": 41,
      "metadata": {
        "id": "PC3lARzYKpDg"
      },
      "outputs": [],
      "source": [
        "import json\n",
        "\n",
        "# def process_people(file_location):\n",
        "#     try:\n",
        "#         response = requests.request('GET',file_location)\n",
        "#         if response.status_code == 200:\n",
        "#             return json.loads(response.text)\n",
        "#         else:\n",
        "#             return None\n",
        "#     except (requests.RequestException, json.JSONDecodeError, KeyError):\n",
        "#         return None\n",
        "\n",
        "\n",
        "people_results = result.copy()\n",
        "\n",
        "response_expected = json.loads(requests.request('GET',url=target_result).text)\n",
        "\n"
      ]
    },
    {
      "cell_type": "code",
      "source": [
        "r1=requests.request('GET',people_url)\n",
        "r1.text"
      ],
      "metadata": {
        "id": "XeUo_HsswXxT",
        "outputId": "c48ac387-3acb-47fd-8df2-0db6695e4b8e",
        "colab": {
          "base_uri": "https://localhost:8080/",
          "height": 140
        }
      },
      "execution_count": 37,
      "outputs": [
        {
          "output_type": "execute_result",
          "data": {
            "text/plain": [
              "'patient|sex|age|breath|o2 sat|heart|systolic bp|temp|alertness|inspired|status\\nE9559|FEMALE|40|24|0.96|105|115|34.9|ALERT|AIR|unrestricted normal activity\\nE9385|Female|51|19|0.99|90|91|38.1|ALERT|supplemental oxygen|unrestricted normal activity\\nE3067|female|40|29|0.96|105|95|38.1|ALERT|air|unrestricted normal activity\\nE9422|FEMALE|66|19|0.96|135|115|38.1|ALERT|AIR|bed/chair bound, no self-care\\nE8661|MALE|18|22|0.95|105|115|36.3|Confused or Not Alert|air|unrestricted normal activity\\nE6235|Male|16|23|0.96|135|115|39.2|ALERT|supplemental oxygen|unrestricted normal activity\\nE4451|MALE|40|8|0.96|135|115|38.1|ALERT|AIR|unrestricted normal activity\\nE8433|FEMALE|40|23|0.99|89|91|38.1|ALERT|AIR|limited self-care\\nE7593|FEMALE|80|23|0.96|105|115|38.1|ALERT|supplemental oxygen|limited activity, can self-care\\nE3296|MALE|51|23|0.95|105|115|38.1|ALERT|AIR|unrestricted normal activity\\nE4157|FEMALE|40|23|0.96|41|115|35.4|ALERT|AIR|unrestricted normal activity\\nE7702|FEMALE|40|22|0.96|105|115|38.1|ALERT|supplemental oxygen|unrestricted normal activity\\nE8158|MALE|40|20|0.99|135|115|39.2|ALERT|AIR|unrestricted normal activity\\nE4795|female|80|11|0.93|105|95|40.8|ALERT|AIR|limited activity, can self-care\\nE8800|MALE|80|22|0.96|105|115|39.2|confused or not alert|AIR|limited activity, can self-care\\nE4855|female|51|23|0.94|135|115|38.1|ALERT|AIR|limited strenuous activity, can do light activity\\nE9691|Male|16|10|0.96|105|115|38.1|ALERT|AIR|unrestricted normal activity\\nE4535|FEMALE|19|11|0.99|105|115|35.4|ALERT|AIR|unrestricted normal activity\\nE2360|Male|40|20|0.96|51|95|34.9|alert|supplemental oxygen|unrestricted normal activity\\nE3447|MALE|80|22|0.96|41|115|38.1|ALERT|AIR|limited activity, can self-care\\nE8208|FEMALE|18|23|0.96|135|115|38.1|ALERT|AIR|unrestricted normal activity\\nE4428|FEMALE|40|23|0.96|38|115|36.3|ALERT|AIR|unrestricted normal activity\\nE2766|Male|18|23|0.96|105|115|34.9|ALERT|AIR|unrestricted normal activity\\nE3888|FEMALE|51|19|0.96|135|115|34.9|ALERT|AIR|unrestricted normal activity\\nE7110|female|85|24|0.99|105|101|40.8|Confused or Not Alert|AIR|unrestricted normal activity\\nE2668|FEMALE|18|22|0.96|105|101|38.1|ALERT|AIR|unrestricted normal activity\\nE8482|Male|40|22|0.96|105|230|36.3|ALERT|AIR|limited self-care\\nE9619|FEMALE|40|11|0.98|41|115|38.1|ALERT|AIR|unrestricted normal activity\\nE1700|male|40|23|0.96|105|115|38.1|Confused or Not Alert|AIR|unrestricted normal activity\\nE8585|MALE|19|8|0.96|105|115|36.3|alert|AIR|bed/chair bound, no self-care\\nE8633|FEMALE|40|22|0.96|38|91|35.4|ALERT|AIR|unrestricted normal activity\\nE2117|FEMALE|16|22|0.96|135|115|39.2|Confused or Not Alert|supplemental oxygen|bed/chair bound, no self-care\\nE2322|female|18|22|0.96|105|115|38.1|alert|supplemental oxygen|unrestricted normal activity\\nE6912|FEMALE|51|23|0.96|105|95|34.9|ALERT|AIR|unrestricted normal activity\\nE5702|Male|80|23|0.96|135|115|38.1|ALERT|AIR|unrestricted normal activity\\nE5513|FEMALE|18|12|0.96|105|115|38.1|ALERT|AIR|unrestricted normal activity\\nE1861|FEMALE|18|22|0.96|105|230|38.1|ALERT|AIR|limited strenuous activity, can do light activity\\nE4809|FEMALE|40|22|0.96|41|230|38.1|ALERT|AIR|unrestricted normal activity\\nE1365|MALE|22|22|0.96|115|101|35.4|ALERT|AIR|bed/chair bound, no self-care\\nE5984|Male|40|12|0.93|105|91|35.1|ALERT|AIR|limited activity, can self-care\\nE7013|FEMALE|66|23|0.96|135|89|40.8|ALERT|supplemental oxygen|unrestricted normal activity\\nE2331|female|18|23|0.98|105|115|38.1|ALERT|AIR|limited self-care\\nE9938|MALE|18|12|0.96|105|89|35.1|ALERT|AIR|unrestricted normal activity\\nE5121|Female|18|23|0.96|41|95|38.1|ALERT|supplemental oxygen|limited activity, can self-care\\nE9280|male|65|10|0.96|135|91|38.1|ALERT|AIR|unrestricted normal activity\\nE4762|FEMALE|40|12|0.98|105|95|38.1|ALERT|AIR|unrestricted normal activity\\nE6885|MALE|18|23|0.93|89|115|35.1|confused or not alert|AIR|limited activity, can self-care\\nE1695|FEMALE|40|22|0.96|41|115|38.1|ALERT|AIR|unrestricted normal activity\\nE9658|Female|18|10|0.96|90|230|38.1|ALERT|AIR|limited self-care\\nE1961|FEMALE|65|23|0.96|105|115|40.8|ALERT|AIR|limited activity, can self-care\\nE9154|FEMALE|66|8|0.94|105|89|35.4|alert|AIR|bed/chair bound, no self-care\\nE9417|FEMALE|40|23|0.96|105|95|38.1|alert|AIR|unrestricted normal activity\\nE9979|Male|18|8|0.96|105|115|38.1|ALERT|AIR|limited strenuous activity, can do light activity\\nE9316|MALE|18|23|0.96|135|115|38.1|ALERT|AIR|unrestricted normal activity\\nE8146|Male|18|12|0.96|115|115|38.1|ALERT|AIR|unrestricted normal activity\\nE3093|female|40|29|0.96|105|95|38.1|ALERT|AIR|unrestricted normal activity\\nE8829|male|65|12|0.96|51|230|38.1|alert|AIR|unrestricted normal activity\\nE1453|male|18|24|0.99|105|115|38.1|ALERT|AIR|unrestricted normal activity\\nE5777|female|66|23|0.96|115|89|38.1|ALERT|AIR|limited strenuous activity, can do light activity\\nE4564|FEMALE|18|24|0.96|41|115|35.1|confused or not alert|AIR|unrestricted normal activity\\nE1904|FEMALE|40|22|0.93|38|95|38.1|Confused or Not Alert|AIR|unrestricted normal activity\\nE8746|Female|40|12|0.93|105|115|38.1|ALERT|AIR|unrestricted normal activity\\nE9165|FEMALE|19|22|0.98|50|95|38.1|ALERT|AIR|limited activity, can self-care\\nE9305|FEMALE|40|8|0.89|105|101|38.1|ALERT|supplemental oxygen|unrestricted normal activity\\nE3217|Female|40|10|0.95|105|95|38.1|ALERT|AIR|unrestricted normal activity\\nE3127|Female|40|8|0.96|38|115|36.3|ALERT|AIR|limited strenuous activity, can do light activity\\nE7501|female|18|23|0.96|135|115|38.1|ALERT|AIR|unrestricted normal activity\\nE4997|female|40|23|0.94|105|115|36.3|ALERT|AIR|unrestricted normal activity\\nE6181|female|19|23|0.96|89|115|38.1|ALERT|AIR|unrestricted normal activity\\nE1073|FEMALE|18|24|0.95|50|115|38.1|Confused or Not Alert|AIR|limited self-care\\nE9608|female|80|12|0.96|50|89|38.1|ALERT|AIR|unrestricted normal activity\\nE7663|FEMALE|18|11|0.96|105|115|38.1|ALERT|air|limited self-care\\nE7648|female|66|12|0.98|41|115|34.9|ALERT|air|unrestricted normal activity\\nE1883|male|40|10|0.98|105|115|38.1|ALERT|AIR|unrestricted normal activity\\nE2001|FEMALE|18|12|0.99|51|115|38.1|Confused or Not Alert|AIR|unrestricted normal activity\\nE2418|male|18|20|0.94|105|115|35.4|ALERT|air|unrestricted normal activity\\nE3739|Male|85|10|0.96|105|115|38.1|Confused or Not Alert|supplemental oxygen|unrestricted normal activity\\nE8351|FEMALE|40|23|0.96|90|101|38.1|ALERT|AIR|unrestricted normal activity\\nE2882|Male|51|24|0.98|105|91|38.1|ALERT|AIR|unrestricted normal activity\\nE1902|Female|85|22|0.96|105|115|38.1|ALERT|supplemental oxygen|unrestricted normal activity\\nE2155|Male|18|22|0.94|105|115|38.1|ALERT|air|limited self-care\\nE4345|Female|40|19|0.89|41|115|34.9|ALERT|air|unrestricted normal activity\\nE4194|FEMALE|40|12|0.95|105|91|38.1|ALERT|AIR|limited self-care\\nE5211|male|65|22|0.96|41|115|38.1|ALERT|AIR|unrestricted normal activity\\nE5488|Female|40|12|0.94|105|101|38.1|ALERT|AIR|unrestricted normal activity\\nE8560|FEMALE|40|23|0.96|41|115|35.1|confused or not alert|AIR|unrestricted normal activity\\nE2995|FEMALE|18|20|0.99|105|95|35.1|alert|AIR|unrestricted normal activity\\nE3422|FEMALE|40|8|0.96|105|115|35.4|ALERT|AIR|unrestricted normal activity\\nE7707|Female|18|20|0.96|38|115|36.3|ALERT|air|limited strenuous activity, can do light activity\\nE3119|FEMALE|18|20|0.99|135|89|35.1|ALERT|supplemental oxygen|unrestricted normal activity\\nE1419|male|65|23|0.99|105|91|38.1|alert|AIR|unrestricted normal activity\\nE7748|male|40|23|0.93|105|115|38.1|ALERT|supplemental oxygen|unrestricted normal activity\\nE7251|Female|40|12|0.96|105|91|38.1|alert|AIR|unrestricted normal activity\\nE1235|FEMALE|40|29|0.96|41|115|38.1|ALERT|AIR|bed/chair bound, no self-care\\nE5361|FEMALE|18|22|0.93|90|101|38.1|confused or not alert|AIR|unrestricted normal activity\\nE7130|FEMALE|18|22|0.96|50|115|38.1|ALERT|AIR|limited strenuous activity, can do light activity\\nE5665|FEMALE|85|23|0.96|115|115|38.1|ALERT|AIR|unrestricted normal activity\\nE9957|Female|40|22|0.98|89|230|38.1|alert|AIR|unrestricted normal activity\\nE10000|FEMALE|18|23|0.96|105|101|38.1|ALERT|AIR|limited activity, can self-care\\n'"
            ],
            "application/vnd.google.colaboratory.intrinsic+json": {
              "type": "string"
            }
          },
          "metadata": {},
          "execution_count": 37
        }
      ]
    },
    {
      "cell_type": "code",
      "source": [
        "people_ids=people_results.keys()\n",
        "expected_ids=response_expected.keys()\n",
        "\n",
        "# checking if key count and keys match - intersection and counts\n",
        "if len(people_ids)==len(expected_ids) :\n",
        "    print(\"ID count match, proceeding further checks\")\n",
        "    if len(set(people_ids).difference(set(expected_ids)))==0:\n",
        "        print(\"All Keys or IDs match\")\n",
        "    else:\n",
        "        print(\"Count matches but there is mismatch in IDs\")\n",
        "else:\n",
        "    print(\"id count doesnt match, so results dont match no furthersteps needed\")\n",
        "\n"
      ],
      "metadata": {
        "id": "JOSRD9A0wIuA",
        "outputId": "d5c913fa-4622-4034-b417-e8b05bf69ef7",
        "colab": {
          "base_uri": "https://localhost:8080/"
        }
      },
      "execution_count": 49,
      "outputs": [
        {
          "output_type": "stream",
          "name": "stdout",
          "text": [
            "ID count match, proceeding further checks\n",
            "All Keys or IDs match, checking if values match... Stay tuned\n",
            "No Match\n"
          ]
        }
      ]
    },
    {
      "cell_type": "markdown",
      "metadata": {
        "id": "5_K80yz9KpDg"
      },
      "source": [
        "---\n",
        "\n",
        "## Check your work above\n",
        "\n",
        "If you didn't get them all correct, take a few minutes to think through those that aren't correct.\n",
        "\n",
        "\n",
        "## Submitting Your Work\n",
        "\n",
        "Submit your work as usual into a folder named `midterm`"
      ]
    },
    {
      "cell_type": "markdown",
      "metadata": {
        "id": "F-_ivTycKpDg"
      },
      "source": [
        "---"
      ]
    }
  ],
  "metadata": {
    "kernelspec": {
      "display_name": "Python 3",
      "language": "python",
      "name": "python3"
    },
    "language_info": {
      "codemirror_mode": {
        "name": "ipython",
        "version": 3
      },
      "file_extension": ".py",
      "mimetype": "text/x-python",
      "name": "python",
      "nbconvert_exporter": "python",
      "pygments_lexer": "ipython3",
      "version": "3.9.16"
    },
    "colab": {
      "provenance": []
    }
  },
  "nbformat": 4,
  "nbformat_minor": 0
}