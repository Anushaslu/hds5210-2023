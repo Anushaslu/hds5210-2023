{
  "cells": [
    {
      "cell_type": "markdown",
      "metadata": {
        "id": "FrXmwiDuSMrU"
      },
      "source": [
        "# HDS5210-2022 Midterm\n",
        "\n",
        "In the midterm, you're going to use all the programming and data management skills you've developed so far to build a risk calculator that pretends to be integrated with a clinical registry.  You'll compute the PRIEST COVID-19 Clinical Severity Score for a series of patients and, based on their risk of an adverse outcome, query a REST web service to find a hospital to transfer them to. The end result of your work will be a list of instructions on where each patient should be discharged given their risk and various characteristics of the patient.\n",
        "\n",
        "Each step in the midterm will build up to form your complete solution.\n",
        "\n",
        "**Make sure you write good docstrings and doctests along the way!!**\n",
        "\n",
        "**The midterm is due at 11:59 PM CST on Monday, October 23rd.**\n",
        "\n",
        "---"
      ]
    },
    {
      "cell_type": "markdown",
      "metadata": {
        "id": "D77hT0P5SMra"
      },
      "source": [
        "## Step 1: Calculate PRIEST Clinical Severity Score\n",
        "\n",
        "This scoring algorithm can be found [here on the MDCalc website](https://www.mdcalc.com/priest-covid-19-clinical-severity-score#evidence).  \n",
        "\n",
        "1. You will need to write a function called **priest()** with the following input parameters.  \n",
        " * Sex (Gender assigned at birth)\n",
        " * Age in years\n",
        " * Respiratory rate in breaths per minute\n",
        " * Oxygen saturation as a percent between 0 and 1\n",
        " * Heart rate in beats per minute\n",
        " * Systolic BP in mmHg\n",
        " * Temperature in degrees C\n",
        " * Alertness as a string description\n",
        " * Inspired Oxygen as as string description\n",
        " * Performance Status as a string description\n",
        "2. The function will need to follow the algorithm provided on the MDCalc website to compute a risk percentage that should be returned as a numeric value between 0 and 1.\n",
        "3. Be sure to use docstring documentation and at least three built-in docstring test cases.\n",
        "4. Assume that the input values that are strings could be any combination of upper or lower case. For example: 'male', 'Male', 'MALE', 'MalE' should all be interpretted by your code as male.\n",
        "5. If any of the inputs are invalid (for example a sex value that is not recognizable as male or female) your code should return None.\n",
        "\n",
        "NOTES:\n",
        "1. In the final step there is a table that translates from **PRIEST Score** to **30-day probability of an outcome** but the last two probabilities are shown as ranges (59-88% and >99%).  Our code needs to output a single number, however. For our code, use the following rule:\n",
        " * If PRIEST score is between 17 and 25, the probability you return should be 0.59\n",
        " * If PRIEST score is greater than or equal to 26, the probability you return should be 0.99\n"
      ]
    },
    {
      "cell_type": "code",
      "execution_count": 17,
      "metadata": {
        "id": "XbH3I6y_SMrc"
      },
      "outputs": [],
      "source": [
        "def priest(sex, age, respiratory_rate, oxygen_saturation, heart_rate, systolic_bp, temperature, alertness, inspired_oxygen, performance_status):\n",
        "    \"\"\"\n",
        "    Calculates the PRIEST COVID-19 Clinical Severity Score based on the provided parameters.\n",
        "\n",
        "    Args:\n",
        "    sex (str): Gender assigned at birth.\n",
        "    age (int): Age in years.\n",
        "    respiratory_rate (int): Respiratory rate in breaths per minute.\n",
        "    oxygen_saturation (float): Oxygen saturation as a percent between 0 and 1.\n",
        "    heart_rate (int): Heart rate in beats per minute.\n",
        "    systolic_bp (int): Systolic BP in mmHg.\n",
        "    temperature (float): Temperature in degrees Celsius.\n",
        "    alertness (str): Alertness as a string description.\n",
        "    inspired_oxygen (str): Inspired Oxygen as a string description.\n",
        "    performance_status (str): Performance Status as a string description.\n",
        "\n",
        "    Returns:\n",
        "    float or None: The computed risk percentage as a numeric value between 0 and 1. Returns None if any input is invalid.\n",
        "\n",
        "    >>> priest('male', 40, 24, 0.96, 105, 115, 34.9, 'alert', 'air', 'unrestricted normal acitivity')\n",
        "    0.15\n",
        "    >>> priest('male',51, 22, 0.95, 42.0, 94, 35.1, 'confused or not alert', 'supplemental oxygen', 'limited self-care')\n",
        "    0.59\n",
        "    >>> priest('male', 95, 30, 0.91, 150 , 300, 42, 'confused or not alert', 'supplemental oxygen', 'bed/chair bound, no self-care')\n",
        "    0.99\n",
        "    \"\"\"\n",
        "\n",
        "    # Convert input strings to lowercase for case insensitivity\n",
        "    sex = sex.lower()\n",
        "    alertness = alertness.lower()\n",
        "    inspired_oxygen = inspired_oxygen.lower()\n",
        "    performance_status = performance_status.lower()\n",
        "\n",
        "    # Scoring based on the provided algorithm\n",
        "    score = 0\n",
        "\n",
        "    # Scoring for sex\n",
        "    if sex == 'male':\n",
        "        score += 1\n",
        "    elif sex == 'female':\n",
        "        score += 0\n",
        "    else:\n",
        "        return None  # If sex is neither male nor female, return None\n",
        "\n",
        "    # Scoring for age\n",
        "    if 16 <= age < 50:\n",
        "        score += 0\n",
        "    elif 50 <= age <= 65:\n",
        "        score += 2\n",
        "    elif 66 <= age <= 80:\n",
        "        score += 3\n",
        "    elif age > 80:\n",
        "        score += 4\n",
        "    else:\n",
        "        return None\n",
        "\n",
        "    # Scoring for respiratory rate\n",
        "    if respiratory_rate < 9:\n",
        "        score += 3\n",
        "    elif 9 <= respiratory_rate <= 11:\n",
        "        score += 1\n",
        "    elif 21 <= respiratory_rate <= 24:\n",
        "        score += 3\n",
        "    elif respiratory_rate > 24:\n",
        "        score += 3\n",
        "    else:\n",
        "        return None\n",
        "\n",
        "    # Scoring for oxygen saturation\n",
        "    if oxygen_saturation > 95:\n",
        "        score += 0\n",
        "    elif 94 <= oxygen_saturation <= 95:\n",
        "        score += 1\n",
        "    elif 92 <= oxygen_saturation <= 93:\n",
        "        score += 2\n",
        "    elif oxygen_saturation < 92:\n",
        "        score += 3\n",
        "    else:\n",
        "        return None\n",
        "\n",
        "    # Scoring for heart rate\n",
        "    if heart_rate < 41:\n",
        "        score += 3\n",
        "    elif 41 <= heart_rate <= 50:\n",
        "        score += 1\n",
        "    elif 91 <= heart_rate <= 110:\n",
        "        score += 1\n",
        "    elif 111 <= heart_rate <= 130:\n",
        "        score += 2\n",
        "    elif heart_rate > 130:\n",
        "        score += 3\n",
        "    else:\n",
        "        return None\n",
        "\n",
        "    # Scoring for systolic blood pressure\n",
        "    if systolic_bp < 91:\n",
        "        score += 3\n",
        "    elif 91 <= systolic_bp <= 100:\n",
        "        score += 2\n",
        "    elif 101 <= systolic_bp <= 110:\n",
        "        score += 1\n",
        "    elif systolic_bp > 219:\n",
        "        score += 3\n",
        "    else:\n",
        "        return None\n",
        "\n",
        "    # Scoring for temperature\n",
        "    if temperature < 35.1:\n",
        "        score += 3\n",
        "    elif 35.1 <= temperature <= 36.0:\n",
        "        score += 1\n",
        "    elif 38.1 <= temperature <= 39.0:\n",
        "        score += 1\n",
        "    elif temperature > 39.0:\n",
        "        score += 2\n",
        "    else:\n",
        "        return None\n",
        "\n",
        "    # Scoring for alertness\n",
        "    if alertness == 'alert':\n",
        "        score += 0\n",
        "    elif alertness == 'confused or not alert':\n",
        "        score += 3\n",
        "    else:\n",
        "        return None  # If alertness is not recognized, return None\n",
        "\n",
        "    # Scoring for inspired oxygen\n",
        "    if inspired_oxygen == 'air':\n",
        "        score += 0\n",
        "    elif inspired_oxygen == 'supplemental oxygen':\n",
        "        score += 2\n",
        "    else:\n",
        "        return None  # If inspired oxygen is not recognized, return None\n",
        "\n",
        "    # Scoring for performance status\n",
        "    if performance_status == 'unrestricted normal activity':\n",
        "        score += 0\n",
        "    elif performance_status == 'limited strenuous activity, can do light activity':\n",
        "        score += 1\n",
        "    elif performance_status == 'limited activity, can self-care':\n",
        "        score += 2\n",
        "    elif performance_status == 'limited self-care':\n",
        "        score += 3\n",
        "    elif performance_status == 'bed/chair bound, no self-care':\n",
        "        score += 4\n",
        "    else:\n",
        "        return None  # If performance status is not recognized, return None\n",
        "\n",
        "    # Calculate the total PRIEST score\n",
        "    priest_score = score\n",
        "\n",
        "    # Converting the PRIEST score to 30-day probability of an outcome\n",
        "    if priest_score == 0:\n",
        "        risk_percentage = 0.01\n",
        "    elif priest_score == 1:\n",
        "        risk_percentage = 0.01\n",
        "    elif priest_score == 2:\n",
        "        risk_percentage = 0.02\n",
        "    elif priest_score == 3:\n",
        "        risk_percentage = 0.02\n",
        "    elif priest_score == 4:\n",
        "        risk_percentage = 0.03\n",
        "    elif priest_score == 5:\n",
        "        risk_percentage = 0.09\n",
        "    elif priest_score == 6:\n",
        "        risk_percentage = 0.15\n",
        "    elif priest_score == 7:\n",
        "        risk_percentage = 0.18\n",
        "    elif priest_score == 8:\n",
        "        risk_percentage = 0.22\n",
        "    elif priest_score == 9:\n",
        "        risk_percentage = 0.26\n",
        "    elif priest_score == 10:\n",
        "        risk_percentage = 0.29\n",
        "    elif priest_score == 11:\n",
        "        risk_percentage = 0.34\n",
        "    elif priest_score == 12:\n",
        "        risk_percentage = 0.38\n",
        "    elif priest_score == 13:\n",
        "        risk_percentage = 0.46\n",
        "    elif priest_score == 14:\n",
        "        risk_percentage = 0.47\n",
        "    elif priest_score == 15:\n",
        "        risk_percentage = 0.49\n",
        "    elif priest_score == 16:\n",
        "        risk_percentage = 0.55\n",
        "    elif 17 <= priest_score <= 25:\n",
        "        risk_percentage = 0.59\n",
        "    elif priest_score >= 26:\n",
        "        risk_percentage = 0.99\n",
        "    else:\n",
        "        return None\n",
        "\n",
        "    return risk_percentage\n",
        "\n"
      ]
    },
    {
      "cell_type": "code",
      "execution_count": 18,
      "metadata": {
        "id": "999wMxDHSMre",
        "outputId": "0d37d7b7-3ae4-4d18-eaef-8622aa8a40bf",
        "colab": {
          "base_uri": "https://localhost:8080/"
        }
      },
      "outputs": [
        {
          "output_type": "stream",
          "name": "stdout",
          "text": [
            "Finding tests in NoName\n",
            "Trying:\n",
            "    priest('male', 40, 24, 0.96, 105, 115, 34.9, 'alert', 'air', 'unrestricted normal acitivity')\n",
            "Expecting:\n",
            "    0.15\n",
            "**********************************************************************\n",
            "File \"__main__\", line 20, in NoName\n",
            "Failed example:\n",
            "    priest('male', 40, 24, 0.96, 105, 115, 34.9, 'alert', 'air', 'unrestricted normal acitivity')\n",
            "Expected:\n",
            "    0.15\n",
            "Got nothing\n",
            "Trying:\n",
            "    priest('male',51, 22, 0.95, 42.0, 94, 35.1, 'confused or not alert', 'supplemental oxygen', 'limited self-care')\n",
            "Expecting:\n",
            "    0.59\n",
            "ok\n",
            "Trying:\n",
            "    priest('male', 95, 30, 0.91, 150 , 300, 42, 'confused or not alert', 'supplemental oxygen', 'bed/chair bound, no self-care')\n",
            "Expecting:\n",
            "    0.99\n",
            "ok\n"
          ]
        }
      ],
      "source": [
        "import doctest\n",
        "doctest.run_docstring_examples(priest, globals(), verbose=True)"
      ]
    },
    {
      "cell_type": "markdown",
      "metadata": {
        "id": "NKpC6wlYSMrf"
      },
      "source": [
        "## Part 2: Find a hospital\n",
        "\n",
        "The next thing we have to do is figure out where to send this particular patient.  The guidelines on where to send a patient are based on their age (pediatric, adult, geriatric), sex, and risk percentage.  Luckily, you don't have to implement these rules. I already have. All you have to do is use a REST web service that I've created for you.\n",
        "\n",
        "You'll want to use Python to make a call to my REST web service similar to the example URL below. The first part of the URL will be the same for everyone and every request that you make. What you will need to modify for each of your requests is the information after the question mark.\n",
        "\n",
        "```\n",
        "https://oumdj6oci2.execute-api.us-east-1.amazonaws.com/prd/?age=40&sex=male&risk_pct=0.1\n",
        "```\n",
        "\n",
        "The example above asks my web service where a 40-year old male with a risk of 10% should go.  What the web service will return back is a JSON string containing the information you need.  That JSON will look like this:\n",
        "\n",
        "```json\n",
        "{\n",
        "  \"age\": \"40\",\n",
        "  \"sex\": \"male\",\n",
        "  \"risk\": \"0.1\",\n",
        "  \"hospital\": \"Southwest Hospital and Medical Center\"\n",
        "}\n",
        "```\n",
        "\n",
        "My function is not smart enough to understand `'MALE'` is the same as `'male'`.  You have to send it exactly `'male'` or `'female'`\n",
        "\n",
        "1. Your job is to write a function called **find_hospital()** that takes age, sex, and risk as parameters.\n",
        "2. Your function should call this REST web service using the `requests` module\n",
        "3. Then your function will need to interpret the JSON it gets and return just the name of the hospital\n",
        "4. If anything fails, return None\n",
        "5. Include a good docstring with at least three test cases.\n"
      ]
    },
    {
      "cell_type": "code",
      "execution_count": 3,
      "metadata": {
        "id": "AIOWJ0eVSMrg"
      },
      "outputs": [],
      "source": [
        "import requests"
      ]
    },
    {
      "cell_type": "code",
      "source": [
        "hospitals = requests.get('https://oumdj6oci2.execute-api.us-east-1.amazonaws.com/prd/?age=40&sex=male&risk_pct=0.1')"
      ],
      "metadata": {
        "id": "xtK9tuJ8BTT9"
      },
      "execution_count": 4,
      "outputs": []
    },
    {
      "cell_type": "code",
      "source": [
        "print (hospitals.text)"
      ],
      "metadata": {
        "id": "RgIN8-JNBs6O",
        "outputId": "8e21663d-8d63-4afd-a327-11a8723939b6",
        "colab": {
          "base_uri": "https://localhost:8080/"
        }
      },
      "execution_count": 5,
      "outputs": [
        {
          "output_type": "stream",
          "name": "stdout",
          "text": [
            "{\"age\": \"40\", \"sex\": \"male\", \"risk\": \"0.1\", \"hospital\": \"Southwest Hospital and Medical Center\"}\n"
          ]
        }
      ]
    },
    {
      "cell_type": "code",
      "source": [
        "def find_hospital(age, sex, risk):\n",
        "    \"\"\"\n",
        "    Calls a REST web service to find a hospital based on the provided age, sex, and risk percentage.\n",
        "\n",
        "    Args:\n",
        "    age (int): Age of the patient.\n",
        "    sex (str): Gender of the patient, either 'male' or 'female'.\n",
        "    risk (float): The risk percentage of the patient.\n",
        "\n",
        "    Returns:\n",
        "    str or None: The name of the hospital where the patient should be sent. Returns None if anything fails.\n",
        "\n",
        "    >>> find_hospital(90, 'male', 0.1)\n",
        "    'Wesley Woods Geriatric Hospital'\n",
        "\n",
        "    >>> find_hospital(60, 'female', 0.5)\n",
        "    'Emory Dunwoody Medical Center'\n",
        "\n",
        "    >>> find_hospital(20, 'male', 0.8)\n",
        "    'Emory Dunwoody Medical Center'\n",
        "\n",
        "    >>> find_hospital(80, 'Female', 0.3)\n",
        "    'Wesley Woods Geriatric Hospital'\n",
        "    \"\"\"\n",
        "\n",
        "    hospitals = 'https://oumdj6oci2.execute-api.us-east-1.amazonaws.com/prd/?'\n",
        "    json = f'age={age}&sex={sex}&risk_pct={risk}'\n",
        "\n",
        "    response = requests.get(hospitals + json)\n",
        "    if response.status_code == 200:\n",
        "        data = response.json()\n",
        "        return data.get('hospital')\n",
        "    else:\n",
        "        return None\n"
      ],
      "metadata": {
        "id": "9U3p0d3Pucdf"
      },
      "execution_count": 6,
      "outputs": []
    },
    {
      "cell_type": "code",
      "execution_count": 7,
      "metadata": {
        "id": "JPTJo601SMrg",
        "outputId": "3cd90989-51da-45e0-bad4-5c6841100972",
        "colab": {
          "base_uri": "https://localhost:8080/"
        }
      },
      "outputs": [
        {
          "output_type": "stream",
          "name": "stdout",
          "text": [
            "Finding tests in NoName\n",
            "Trying:\n",
            "    find_hospital(90, 'male', 0.1)\n",
            "Expecting:\n",
            "    'Wesley Woods Geriatric Hospital'\n",
            "ok\n",
            "Trying:\n",
            "    find_hospital(60, 'female', 0.5)\n",
            "Expecting:\n",
            "    'Emory Dunwoody Medical Center'\n",
            "ok\n",
            "Trying:\n",
            "    find_hospital(20, 'male', 0.8)\n",
            "Expecting:\n",
            "    'Emory Dunwoody Medical Center'\n",
            "ok\n",
            "Trying:\n",
            "    find_hospital(80, 'Female', 0.3)\n",
            "Expecting:\n",
            "    'Wesley Woods Geriatric Hospital'\n",
            "ok\n"
          ]
        }
      ],
      "source": [
        "import doctest\n",
        "doctest.run_docstring_examples(find_hospital, globals(),verbose=True)"
      ]
    },
    {
      "cell_type": "markdown",
      "metadata": {
        "id": "OUZOwG7bSMrh"
      },
      "source": [
        "## Part 3: Get the address for that hospital from a JSON file\n",
        "\n",
        "Great! Now we have code to tell us which hospital to send someone to... but we don't know where that hospital is. The next function we need to create is one that looks up the address of that hospital.  All of these hospitals are in Atlanta, Georgia.  We're going to use the list from this webpage to lookup the address for that hospital, based on its name.  https://www.officialusa.com/stateguides/health/hospitals/georgia.html\n",
        "\n",
        "Because we skipped the section about Beautiful Soup and working with HTML, I've converted this information into a JSON document for you.  It's available for you here.  Your code should retrieve this file using the `requests` module.\n",
        "\n",
        "`https://drive.google.com/uc?export=download&id=1fIFD-NkcdiMu941N4GjyMDWxiKsFJBw-`\n",
        "\n",
        "1. You need to create a function called **get_address()** that takes hospital name as a parameter and searches the data from this JSON file for the hospital you want to find.\n",
        "2. Your code will have to load the JSON and return the correct hospital based on name.\n",
        "3. If the hospital name isn't found, the function should return None.\n",
        "4. Be sure to use good docstring documentation and includes at least 3 test cases."
      ]
    },
    {
      "cell_type": "code",
      "source": [
        "import requests"
      ],
      "metadata": {
        "id": "XuS-paj6ORhx"
      },
      "execution_count": 8,
      "outputs": []
    },
    {
      "cell_type": "code",
      "source": [
        "address_hospital = requests.get('https://drive.google.com/uc?export=download&id=1fIFD-NkcdiMu941N4GjyMDWxiKsFJBw-')"
      ],
      "metadata": {
        "id": "mYolJLY9OS8T"
      },
      "execution_count": 9,
      "outputs": []
    },
    {
      "cell_type": "code",
      "source": [
        "print (address_hospital)"
      ],
      "metadata": {
        "id": "YBPIOhuIsSvX",
        "outputId": "34f3e932-8551-4f4a-cb5b-6ef017853354",
        "colab": {
          "base_uri": "https://localhost:8080/"
        }
      },
      "execution_count": 10,
      "outputs": [
        {
          "output_type": "stream",
          "name": "stdout",
          "text": [
            "<Response [200]>\n"
          ]
        }
      ]
    },
    {
      "cell_type": "code",
      "source": [
        "hospitals = requests.get('https://oumdj6oci2.execute-api.us-east-1.amazonaws.com/prd/?age=40&sex=male&risk_pct=0.1')"
      ],
      "metadata": {
        "id": "KKWkaD4_kaCe"
      },
      "execution_count": 11,
      "outputs": []
    },
    {
      "cell_type": "code",
      "execution_count": 12,
      "metadata": {
        "id": "BEVb60VUSMrh",
        "outputId": "8259ebec-434f-463b-a1ed-707e78439d95",
        "colab": {
          "base_uri": "https://localhost:8080/",
          "height": 401
        }
      },
      "outputs": [
        {
          "output_type": "error",
          "ename": "KeyError",
          "evalue": "ignored",
          "traceback": [
            "\u001b[0;31m---------------------------------------------------------------------------\u001b[0m",
            "\u001b[0;31mKeyError\u001b[0m                                  Traceback (most recent call last)",
            "\u001b[0;32m<ipython-input-12-362611e5dfa7>\u001b[0m in \u001b[0;36m<cell line: 27>\u001b[0;34m()\u001b[0m\n\u001b[1;32m     25\u001b[0m \u001b[0;34m\u001b[0m\u001b[0m\n\u001b[1;32m     26\u001b[0m \u001b[0;31m# Testing the get_address function with some sample test cases\u001b[0m\u001b[0;34m\u001b[0m\u001b[0;34m\u001b[0m\u001b[0m\n\u001b[0;32m---> 27\u001b[0;31m \u001b[0mprint\u001b[0m\u001b[0;34m(\u001b[0m\u001b[0mget_address\u001b[0m\u001b[0;34m(\u001b[0m\u001b[0;34m'Southwest Hospital and Medical Center'\u001b[0m\u001b[0;34m)\u001b[0m\u001b[0;34m)\u001b[0m  \u001b[0;31m# '123 Main Street, Atlanta, GA'\u001b[0m\u001b[0;34m\u001b[0m\u001b[0;34m\u001b[0m\u001b[0m\n\u001b[0m\u001b[1;32m     28\u001b[0m \u001b[0mprint\u001b[0m\u001b[0;34m(\u001b[0m\u001b[0mget_address\u001b[0m\u001b[0;34m(\u001b[0m\u001b[0;34m'East General Hospital'\u001b[0m\u001b[0;34m)\u001b[0m\u001b[0;34m)\u001b[0m  \u001b[0;31m# '456 Elm Street, Atlanta, GA'\u001b[0m\u001b[0;34m\u001b[0m\u001b[0;34m\u001b[0m\u001b[0m\n\u001b[1;32m     29\u001b[0m \u001b[0mprint\u001b[0m\u001b[0;34m(\u001b[0m\u001b[0mget_address\u001b[0m\u001b[0;34m(\u001b[0m\u001b[0;34m\"North Children's Hospital\"\u001b[0m\u001b[0;34m)\u001b[0m\u001b[0;34m)\u001b[0m  \u001b[0;31m# '789 Oak Street, Atlanta, GA'\u001b[0m\u001b[0;34m\u001b[0m\u001b[0;34m\u001b[0m\u001b[0m\n",
            "\u001b[0;32m<ipython-input-12-362611e5dfa7>\u001b[0m in \u001b[0;36mget_address\u001b[0;34m(hospital_name)\u001b[0m\n\u001b[1;32m     17\u001b[0m     \u001b[0;32mif\u001b[0m \u001b[0mresponse\u001b[0m\u001b[0;34m.\u001b[0m\u001b[0mstatus_code\u001b[0m \u001b[0;34m==\u001b[0m \u001b[0;36m200\u001b[0m\u001b[0;34m:\u001b[0m\u001b[0;34m\u001b[0m\u001b[0;34m\u001b[0m\u001b[0m\n\u001b[1;32m     18\u001b[0m         \u001b[0mdata\u001b[0m \u001b[0;34m=\u001b[0m \u001b[0mresponse\u001b[0m\u001b[0;34m.\u001b[0m\u001b[0mjson\u001b[0m\u001b[0;34m(\u001b[0m\u001b[0;34m)\u001b[0m\u001b[0;34m\u001b[0m\u001b[0;34m\u001b[0m\u001b[0m\n\u001b[0;32m---> 19\u001b[0;31m         \u001b[0;32mfor\u001b[0m \u001b[0mhospital\u001b[0m \u001b[0;32min\u001b[0m \u001b[0mdata\u001b[0m\u001b[0;34m[\u001b[0m\u001b[0;34m'address_hospital'\u001b[0m\u001b[0;34m]\u001b[0m\u001b[0;34m:\u001b[0m\u001b[0;34m\u001b[0m\u001b[0;34m\u001b[0m\u001b[0m\n\u001b[0m\u001b[1;32m     20\u001b[0m             \u001b[0;32mif\u001b[0m \u001b[0mhospital\u001b[0m\u001b[0;34m[\u001b[0m\u001b[0;34m'hospitals'\u001b[0m\u001b[0;34m]\u001b[0m \u001b[0;34m==\u001b[0m \u001b[0mhospital_name\u001b[0m\u001b[0;34m:\u001b[0m\u001b[0;34m\u001b[0m\u001b[0;34m\u001b[0m\u001b[0m\n\u001b[1;32m     21\u001b[0m                 \u001b[0;32mreturn\u001b[0m \u001b[0mhospital\u001b[0m\u001b[0;34m[\u001b[0m\u001b[0;34m'ADDRESS'\u001b[0m\u001b[0;34m]\u001b[0m\u001b[0;34m\u001b[0m\u001b[0;34m\u001b[0m\u001b[0m\n",
            "\u001b[0;31mKeyError\u001b[0m: 'address_hospital'"
          ]
        }
      ],
      "source": [
        "def get_address(hospital_name):\n",
        "    \"\"\"\n",
        "    Retrieves the address for the given hospital name from a JSON file.\n",
        "\n",
        "    Args:\n",
        "    hospital_name (str): Name of the hospital.\n",
        "\n",
        "    Returns:\n",
        "    str or None: The address of the hospital. Returns None if the hospital name is not found.\n",
        "    >>> get_address('Southwest Hospital and Medical Center')\n",
        "\n",
        "    >>> get_address('East General Hospital')\n",
        "    \"\"\"\n",
        "\n",
        "    address_hospital = \"https://drive.google.com/uc?export=download&id=1fIFD-NkcdiMu941N4GjyMDWxiKsFJBw-\"\n",
        "    response = requests.get(address_hospital)\n",
        "    if response.status_code == 200:\n",
        "        data = response.json()\n",
        "        for hospital in data['address_hospital']:\n",
        "            if hospital['hospitals'] == hospital_name:\n",
        "                return hospital['ADDRESS']\n",
        "        return None  # Hospital name not found in the JSON data\n",
        "    else:\n",
        "        return None  # Failed to retrieve JSON data\n",
        "\n",
        "# Testing the get_address function with some sample test cases\n",
        "print(get_address('Southwest Hospital and Medical Center'))  # '123 Main Street, Atlanta, GA'\n",
        "print(get_address('East General Hospital'))  # '456 Elm Street, Atlanta, GA'\n",
        "print(get_address(\"North Children's Hospital\"))  # '789 Oak Street, Atlanta, GA'\n",
        "print(get_address('West Senior Hospital'))  # '321 Pine Street, Atlanta, GA'"
      ]
    },
    {
      "cell_type": "code",
      "source": [
        "import doctest\n",
        "doctest.run_docstring_examples(address_hospital, globals(),verbose=True)"
      ],
      "metadata": {
        "id": "MvD8joETlDKa"
      },
      "execution_count": null,
      "outputs": []
    },
    {
      "cell_type": "markdown",
      "metadata": {
        "id": "YolkMyLrSMrh"
      },
      "source": [
        "## Part 4: Run the risk calculator on a population\n",
        "\n",
        "At the link below, there is a file called `people.psv`.  It is a pipe-delimited (`|`) file with columns that match the inputs for the PRIEST calculation above.  Your code should use the `requests` module to retrieve the file from this URL.\n",
        "\n",
        "`https://drive.google.com/uc?export=download&id=1fLxJN9YGUqmqExrilxSS8furwUER5HHh`\n",
        "\n",
        "\n",
        "In addition, the file has a patient identifier in the first column.\n",
        "\n",
        "1. Write a function called **process_people()** that takes the file location above as its only parameter. Your Python program should use your code above to process all of these rows, determine the hospital and address, and return a list whose items are a dictionary like this: `{ patient_number: [sex, age, breath, o2sat, heart, systolic, temp, alertness, inspired, status, hospital, address]}`.  Look at the file in Part 5 for what the output looks like.\n",
        "2. Be sure to use good docstrings, but you don't need any tests in your doc strings.  I've provided those for you withe file in Part 5.\n",
        "\n",
        "\n",
        "**NOTE** that when running your code for all the 100 records in the `people.psv` file, it may take a few minutes to complete.  You're making multiple calls to the internet for each record, so that can take a little while.\n"
      ]
    },
    {
      "cell_type": "code",
      "source": [
        "import requests"
      ],
      "metadata": {
        "id": "bVhByVErQHzq"
      },
      "execution_count": null,
      "outputs": []
    },
    {
      "cell_type": "code",
      "source": [
        "process_people = requests.get('https://drive.google.com/uc?export=download&id=1fLxJN9YGUqmqExrilxSS8furwUER5HHh')"
      ],
      "metadata": {
        "id": "fBaetlsGQRLP"
      },
      "execution_count": null,
      "outputs": []
    },
    {
      "cell_type": "code",
      "execution_count": null,
      "metadata": {
        "id": "VMw3YmceSMri"
      },
      "outputs": [],
      "source": [
        "from io import StringIO\n",
        "\n",
        "def risk_calculator(sex, age, breath, o2sat, heart, systolic, temp, alertness, inspired):\n",
        "    # Your risk calculator function code here\n",
        "    pass\n",
        "\n",
        "def process_people(file_location):\n",
        "    \"\"\"\n",
        "    Process the people.psv file and calculate the risk for each individual.\n",
        "\n",
        "    Args:\n",
        "    file_location (str): The URL of the .psv file containing patient information.\n",
        "\n",
        "    Returns:\n",
        "    list: A list of dictionaries where each dictionary represents a patient's information along with calculated risk.\n",
        "    \"\"\"\n",
        "    response = requests.get(file_location)\n",
        "    data = StringIO(response.text)\n",
        "\n",
        "    result = []\n",
        "    for line in data:\n",
        "        if line.strip():  # Skips empty lines\n",
        "            row = line.strip().split(\"|\")\n",
        "            patient_number = row[0]\n",
        "            sex = row[1].upper()\n",
        "            breath = int(row[3])\n",
        "            o2sat = float(row[4])\n",
        "            heart = int(row[5])\n",
        "            systolic = int(row[6])\n",
        "            temp = float(row[7])\n",
        "            alertness = row[8].upper()\n",
        "            inspired = row[9].upper()\n",
        "\n",
        "            # Call risk_calculator function\n",
        "            status, hospital, address = risk_calculator(sex, breath, o2sat, heart, systolic, temp, alertness, inspired)\n",
        "\n",
        "            result.append({\n",
        "                patient_number: [sex, breath, o2sat, heart, systolic, temp, alertness, inspired, status, hospital, address]\n",
        "            })\n",
        "\n",
        "    return result\n",
        "\n",
        "# Example usage:\n",
        "# file_location = 'https://drive.google.com/uc?export=download&id=1fLxJN9YGUqmqExrilxSS8furwUER5HHh'\n",
        "# result = process_people(file_location)\n",
        "# for item in result:\n",
        "#     print(item)\n"
      ]
    },
    {
      "cell_type": "markdown",
      "metadata": {
        "id": "naIBTaVcSMri"
      },
      "source": [
        "## Part 5: Checking your final results\n",
        "\n",
        "The final step is to check your results.  You should be able to compare your results to the output in `people_results.json` at the link below.  Write some code to check your results.  This does not need to be a function.\n",
        "\n",
        "`https://drive.google.com/uc?export=download&id=1gx1SSC20mO5XL6uYD0mdcM_cL91fcIW5`\n"
      ]
    },
    {
      "cell_type": "code",
      "execution_count": null,
      "metadata": {
        "id": "-ifdhnpASMri"
      },
      "outputs": [],
      "source": [
        "import json\n",
        "import requests\n",
        "\n",
        "# Your process_people function here\n",
        "\n",
        "\n",
        "# Fetching the people_results.json file\n",
        "results_url = \"https://drive.google.com/uc?export=download&id=1gx1SSC20mO5XL6uYD0mdcM_cL91fcIW5\"\n",
        "response = requests.get(results_url)\n",
        "data = response.json()\n",
        "\n",
        "# Running process_people function to get calculated results\n",
        "file_location = 'https://drive.google.com/uc?export=download&id=1fLxJN9YGUqmqExrilxSS8furwUER5HHh'\n",
        "calculated_results = process_people(file_location)\n",
        "\n",
        "# Comparing the results\n",
        "for i in range(len(data)):\n",
        "    if data[i] != calculated_results[i]:\n",
        "        print(f\"Mismatch found at index {i}:\")\n",
        "        print(\"Expected:\", data[i])\n",
        "        print(\"Calculated:\", calculated_results[i])\n",
        "        print(\"\\n\")\n",
        "print(\"Comparison completed.\")\n"
      ]
    },
    {
      "cell_type": "markdown",
      "metadata": {
        "id": "cbvA6Tw7SMri"
      },
      "source": [
        "---\n",
        "\n",
        "## Check your work above\n",
        "\n",
        "If you didn't get them all correct, take a few minutes to think through those that aren't correct.\n",
        "\n",
        "\n",
        "## Submitting Your Work\n",
        "\n",
        "Submit your work as usual into a folder named `midterm`"
      ]
    },
    {
      "cell_type": "markdown",
      "metadata": {
        "id": "fUG46ie3SMrj"
      },
      "source": [
        "---"
      ]
    }
  ],
  "metadata": {
    "kernelspec": {
      "display_name": "Python 3",
      "language": "python",
      "name": "python3"
    },
    "language_info": {
      "codemirror_mode": {
        "name": "ipython",
        "version": 3
      },
      "file_extension": ".py",
      "mimetype": "text/x-python",
      "name": "python",
      "nbconvert_exporter": "python",
      "pygments_lexer": "ipython3",
      "version": "3.9.16"
    },
    "colab": {
      "provenance": []
    }
  },
  "nbformat": 4,
  "nbformat_minor": 0
}